{
 "cells": [
  {
   "cell_type": "markdown",
   "metadata": {
    "id": "9-kLLOeM_ezw"
   },
   "source": [
    "# A2 - Tree Models\n",
    "\n"
   ]
  },
  {
   "cell_type": "markdown",
   "metadata": {
    "id": "kxU69EZCfpGx"
   },
   "source": [
    "### Organizational"
   ]
  },
  {
   "cell_type": "markdown",
   "metadata": {
    "id": "kr_1EsnsfOap"
   },
   "source": [
    "#### What you will learn\n",
    "- Visualizing decision trees\n",
    "- Interpreting trees\n",
    "- Implementing BestSplit rules\n",
    "- Implementing a decision tree\n",
    "- Configuring your tree model using cross-validation"
   ]
  },
  {
   "cell_type": "markdown",
   "metadata": {
    "id": "DVHDfmkifTM2"
   },
   "source": [
    "#### What to submit\n",
    "Read this notebook and do the exercises. Then, do the following:\n",
    "\n",
    "* Copy your exercise solutions into the skeleton code in `A2.py`, and you can test it with `A2_test.py`. When you're satisfied that your code in `A2.py` passes the tests, commit and push it back to **Github**.\n",
    "\n",
    "* Make a PDF report answers to the open questions (as well as your graphics). You can use `A2_STUDENTNUMBER.tex` as a template to make it in Overleaf if you wish. It should be named `A2_s1234567890.pdf`, but using your own student number instead of 1234567890. Hand the PDF report in through **Brightspace**.\n",
    "\n",
    "    Your answers don't need to be long, just be to the point. The report should under no circumstances be more than 1 page of text, taking an extra page to make room for graphics is ok.\n",
    "\n",
    "* **If you do not submit both `A2.py` to Github and the PDF report to Brightspace, you will fail this assignment.**\n",
    "\n",
    "* **This is an individual assignment. Your code and report must be your own work.**"
   ]
  },
  {
   "cell_type": "markdown",
   "metadata": {
    "id": "Zd_MuMEjfeHj"
   },
   "source": [
    "#### How do we grade?\n",
    "* 7 Open questions, including images. You can earn a bonus point for completely answering question 5.    Remember, all figures and tables should have a caption.\n",
    "\n",
    "* We test the functioning of your code with 12 unit tests, one of which (for minority_class) already passes, so 11 tests that are about your work.\n",
    "\n",
    "* 50% of the grade is based on the questions and 50% on the exercises."
   ]
  },
  {
   "cell_type": "markdown",
   "metadata": {
    "id": "9UB5T4QRdheM"
   },
   "source": [
    "## Setting up"
   ]
  },
  {
   "cell_type": "markdown",
   "metadata": {
    "id": "N2MLcamGfzpa"
   },
   "source": [
    "If you need to install graphviz, the following code will work for Colab. You can find more extensive installation instructions for graphviz on different systems [here](https://pypi.org/project/graphviz/).\n",
    "\n",
    "Note that you're installing two things:\n",
    "* A backend, that renders the graphics\n",
    "* A Python frontend that allows you to use it in the middle of your program"
   ]
  },
  {
   "cell_type": "code",
   "execution_count": 418,
   "metadata": {
    "colab": {
     "base_uri": "https://localhost:8080/"
    },
    "id": "Taaw33bKtUEu",
    "outputId": "6ecb7cbb-ce11-4e31-f299-2d87682f12fe"
   },
   "outputs": [
    {
     "name": "stderr",
     "output_type": "stream",
     "text": [
      "'apt' is not recognized as an internal or external command,\n",
      "operable program or batch file.\n",
      "WARNING: Ignoring invalid distribution -umpy (c:\\programdata\\anaconda3\\lib\\site-packages)\n",
      "WARNING: Ignoring invalid distribution -arso (c:\\programdata\\anaconda3\\lib\\site-packages)\n",
      "ERROR: Invalid requirement: '#'\n",
      "WARNING: Ignoring invalid distribution -umpy (c:\\programdata\\anaconda3\\lib\\site-packages)\n",
      "WARNING: Ignoring invalid distribution -arso (c:\\programdata\\anaconda3\\lib\\site-packages)\n",
      "WARNING: Ignoring invalid distribution -umpy (c:\\programdata\\anaconda3\\lib\\site-packages)\n",
      "WARNING: Ignoring invalid distribution -arso (c:\\programdata\\anaconda3\\lib\\site-packages)\n",
      "WARNING: Ignoring invalid distribution -umpy (c:\\programdata\\anaconda3\\lib\\site-packages)\n",
      "WARNING: Ignoring invalid distribution -arso (c:\\programdata\\anaconda3\\lib\\site-packages)\n"
     ]
    }
   ],
   "source": [
    "# Installing dependencies (on Colab for example)\n",
    "!apt install -y graphviz  # installingthe graphviz backend on a linux system\n",
    "!pip install graphviz  # installing the python frontend for graphviz"
   ]
  },
  {
   "cell_type": "markdown",
   "metadata": {
    "id": "3PxC3YLRgFY6"
   },
   "source": [
    "Import (and if necessary, first install) the following packages to get started. You don't need to import other packages."
   ]
  },
  {
   "cell_type": "code",
   "execution_count": 419,
   "metadata": {
    "id": "ZFEgy-PttY8g"
   },
   "outputs": [],
   "source": [
    "import numpy as np\n",
    "import pandas as pd\n",
    "import graphviz\n",
    "from sklearn.model_selection import train_test_split\n",
    "from sklearn.tree import DecisionTreeClassifier, export_text, export_graphviz\n",
    "from sklearn.metrics import accuracy_score\n",
    "import pytest"
   ]
  },
  {
   "cell_type": "markdown",
   "metadata": {
    "id": "rIpXjM4iCzFw"
   },
   "source": [
    "## Visualization\n"
   ]
  },
  {
   "cell_type": "markdown",
   "metadata": {
    "id": "LFmTlusjheye"
   },
   "source": [
    "One of the key selling points of decision trees is that they're much easier to interpret than many other models. While for example a neural network is essentially a \"black box\", you can look at a decision tree and trace the logic. \n",
    "\n",
    "First we need a dataset."
   ]
  },
  {
   "cell_type": "code",
   "execution_count": 420,
   "metadata": {
    "id": "o1q3115XwFPi"
   },
   "outputs": [],
   "source": [
    "# Dataset adapted from https://archive.ics.uci.edu/ml/datasets/Zoo\n",
    "url = 'https://raw.githubusercontent.com/MLCourse-LU/Datasets/main/zoo.csv'\n",
    "df = pd.read_csv(filepath_or_buffer=url, header=0, index_col=0)\n",
    "\n",
    "\n",
    "X = df.iloc[:, 1:-1]  # column 0 has the animal names, the last column has the labels\n",
    "y = df.iloc[:, -1]  # use the last column as labels\n",
    "\n",
    "fn = list(X.columns)  # get the column names of the features\n",
    "cn = y.unique()  # get the different animal labels from the target column"
   ]
  },
  {
   "cell_type": "markdown",
   "metadata": {
    "id": "XfHD9GOjW9Rv"
   },
   "source": [
    "Let's get a quick impression of what's in here. **You may need to scroll to the right** to see the \"type\" column which we use as class label."
   ]
  },
  {
   "cell_type": "code",
   "execution_count": 421,
   "metadata": {
    "colab": {
     "base_uri": "https://localhost:8080/",
     "height": 1000
    },
    "id": "FtpZVfeoWjqE",
    "outputId": "ce9342a1-d65b-4fb7-f3c7-af6b6cb2dcba"
   },
   "outputs": [
    {
     "name": "stdout",
     "output_type": "stream",
     "text": [
      "<class 'pandas.core.frame.DataFrame'>\n",
      "Int64Index: 101 entries, 0 to 100\n",
      "Data columns (total 18 columns):\n",
      " #   Column       Non-Null Count  Dtype \n",
      "---  ------       --------------  ----- \n",
      " 0   animal name  101 non-null    object\n",
      " 1   hair         101 non-null    int64 \n",
      " 2   feathers     101 non-null    int64 \n",
      " 3   eggs         101 non-null    int64 \n",
      " 4   milk         101 non-null    int64 \n",
      " 5   airborne     101 non-null    int64 \n",
      " 6   aquatic      101 non-null    int64 \n",
      " 7   predator     101 non-null    int64 \n",
      " 8   toothed      101 non-null    int64 \n",
      " 9   backbone     101 non-null    int64 \n",
      " 10  breathes     101 non-null    int64 \n",
      " 11  venomous     101 non-null    int64 \n",
      " 12  fins         101 non-null    int64 \n",
      " 13  legs         101 non-null    int64 \n",
      " 14  tail         101 non-null    int64 \n",
      " 15  domestic     101 non-null    int64 \n",
      " 16  catsize      101 non-null    int64 \n",
      " 17  type         101 non-null    object\n",
      "dtypes: int64(16), object(2)\n",
      "memory usage: 15.0+ KB\n",
      "None\n",
      "             hair    feathers        eggs        milk    airborne     aquatic  \\\n",
      "count  101.000000  101.000000  101.000000  101.000000  101.000000  101.000000   \n",
      "mean     0.425743    0.198020    0.584158    0.405941    0.237624    0.356436   \n",
      "std      0.496921    0.400495    0.495325    0.493522    0.427750    0.481335   \n",
      "min      0.000000    0.000000    0.000000    0.000000    0.000000    0.000000   \n",
      "25%      0.000000    0.000000    0.000000    0.000000    0.000000    0.000000   \n",
      "50%      0.000000    0.000000    1.000000    0.000000    0.000000    0.000000   \n",
      "75%      1.000000    0.000000    1.000000    1.000000    0.000000    1.000000   \n",
      "max      1.000000    1.000000    1.000000    1.000000    1.000000    1.000000   \n",
      "\n",
      "         predator     toothed    backbone    breathes    venomous        fins  \\\n",
      "count  101.000000  101.000000  101.000000  101.000000  101.000000  101.000000   \n",
      "mean     0.554455    0.603960    0.821782    0.792079    0.079208    0.168317   \n",
      "std      0.499505    0.491512    0.384605    0.407844    0.271410    0.376013   \n",
      "min      0.000000    0.000000    0.000000    0.000000    0.000000    0.000000   \n",
      "25%      0.000000    0.000000    1.000000    1.000000    0.000000    0.000000   \n",
      "50%      1.000000    1.000000    1.000000    1.000000    0.000000    0.000000   \n",
      "75%      1.000000    1.000000    1.000000    1.000000    0.000000    0.000000   \n",
      "max      1.000000    1.000000    1.000000    1.000000    1.000000    1.000000   \n",
      "\n",
      "             legs        tail    domestic     catsize  \n",
      "count  101.000000  101.000000  101.000000  101.000000  \n",
      "mean     0.772277    0.742574    0.128713    0.435644  \n",
      "std      0.421454    0.439397    0.336552    0.498314  \n",
      "min      0.000000    0.000000    0.000000    0.000000  \n",
      "25%      1.000000    0.000000    0.000000    0.000000  \n",
      "50%      1.000000    1.000000    0.000000    0.000000  \n",
      "75%      1.000000    1.000000    0.000000    1.000000  \n",
      "max      1.000000    1.000000    1.000000    1.000000  \n"
     ]
    },
    {
     "data": {
      "text/html": [
       "<div>\n",
       "<style scoped>\n",
       "    .dataframe tbody tr th:only-of-type {\n",
       "        vertical-align: middle;\n",
       "    }\n",
       "\n",
       "    .dataframe tbody tr th {\n",
       "        vertical-align: top;\n",
       "    }\n",
       "\n",
       "    .dataframe thead th {\n",
       "        text-align: right;\n",
       "    }\n",
       "</style>\n",
       "<table border=\"1\" class=\"dataframe\">\n",
       "  <thead>\n",
       "    <tr style=\"text-align: right;\">\n",
       "      <th></th>\n",
       "      <th>animal name</th>\n",
       "      <th>hair</th>\n",
       "      <th>feathers</th>\n",
       "      <th>eggs</th>\n",
       "      <th>milk</th>\n",
       "      <th>airborne</th>\n",
       "      <th>aquatic</th>\n",
       "      <th>predator</th>\n",
       "      <th>toothed</th>\n",
       "      <th>backbone</th>\n",
       "      <th>breathes</th>\n",
       "      <th>venomous</th>\n",
       "      <th>fins</th>\n",
       "      <th>legs</th>\n",
       "      <th>tail</th>\n",
       "      <th>domestic</th>\n",
       "      <th>catsize</th>\n",
       "      <th>type</th>\n",
       "    </tr>\n",
       "    <tr>\n",
       "      <th>ID</th>\n",
       "      <th></th>\n",
       "      <th></th>\n",
       "      <th></th>\n",
       "      <th></th>\n",
       "      <th></th>\n",
       "      <th></th>\n",
       "      <th></th>\n",
       "      <th></th>\n",
       "      <th></th>\n",
       "      <th></th>\n",
       "      <th></th>\n",
       "      <th></th>\n",
       "      <th></th>\n",
       "      <th></th>\n",
       "      <th></th>\n",
       "      <th></th>\n",
       "      <th></th>\n",
       "      <th></th>\n",
       "    </tr>\n",
       "  </thead>\n",
       "  <tbody>\n",
       "    <tr>\n",
       "      <th>0</th>\n",
       "      <td>aardvark</td>\n",
       "      <td>1</td>\n",
       "      <td>0</td>\n",
       "      <td>0</td>\n",
       "      <td>1</td>\n",
       "      <td>0</td>\n",
       "      <td>0</td>\n",
       "      <td>1</td>\n",
       "      <td>1</td>\n",
       "      <td>1</td>\n",
       "      <td>1</td>\n",
       "      <td>0</td>\n",
       "      <td>0</td>\n",
       "      <td>1</td>\n",
       "      <td>0</td>\n",
       "      <td>0</td>\n",
       "      <td>1</td>\n",
       "      <td>Mammal</td>\n",
       "    </tr>\n",
       "    <tr>\n",
       "      <th>1</th>\n",
       "      <td>antelope</td>\n",
       "      <td>1</td>\n",
       "      <td>0</td>\n",
       "      <td>0</td>\n",
       "      <td>1</td>\n",
       "      <td>0</td>\n",
       "      <td>0</td>\n",
       "      <td>0</td>\n",
       "      <td>1</td>\n",
       "      <td>1</td>\n",
       "      <td>1</td>\n",
       "      <td>0</td>\n",
       "      <td>0</td>\n",
       "      <td>1</td>\n",
       "      <td>1</td>\n",
       "      <td>0</td>\n",
       "      <td>1</td>\n",
       "      <td>Mammal</td>\n",
       "    </tr>\n",
       "    <tr>\n",
       "      <th>2</th>\n",
       "      <td>bass</td>\n",
       "      <td>0</td>\n",
       "      <td>0</td>\n",
       "      <td>1</td>\n",
       "      <td>0</td>\n",
       "      <td>0</td>\n",
       "      <td>1</td>\n",
       "      <td>1</td>\n",
       "      <td>1</td>\n",
       "      <td>1</td>\n",
       "      <td>0</td>\n",
       "      <td>0</td>\n",
       "      <td>1</td>\n",
       "      <td>0</td>\n",
       "      <td>1</td>\n",
       "      <td>0</td>\n",
       "      <td>0</td>\n",
       "      <td>Fish</td>\n",
       "    </tr>\n",
       "    <tr>\n",
       "      <th>3</th>\n",
       "      <td>bear</td>\n",
       "      <td>1</td>\n",
       "      <td>0</td>\n",
       "      <td>0</td>\n",
       "      <td>1</td>\n",
       "      <td>0</td>\n",
       "      <td>0</td>\n",
       "      <td>1</td>\n",
       "      <td>1</td>\n",
       "      <td>1</td>\n",
       "      <td>1</td>\n",
       "      <td>0</td>\n",
       "      <td>0</td>\n",
       "      <td>1</td>\n",
       "      <td>0</td>\n",
       "      <td>0</td>\n",
       "      <td>1</td>\n",
       "      <td>Mammal</td>\n",
       "    </tr>\n",
       "    <tr>\n",
       "      <th>4</th>\n",
       "      <td>boar</td>\n",
       "      <td>1</td>\n",
       "      <td>0</td>\n",
       "      <td>0</td>\n",
       "      <td>1</td>\n",
       "      <td>0</td>\n",
       "      <td>0</td>\n",
       "      <td>1</td>\n",
       "      <td>1</td>\n",
       "      <td>1</td>\n",
       "      <td>1</td>\n",
       "      <td>0</td>\n",
       "      <td>0</td>\n",
       "      <td>1</td>\n",
       "      <td>1</td>\n",
       "      <td>0</td>\n",
       "      <td>1</td>\n",
       "      <td>Mammal</td>\n",
       "    </tr>\n",
       "    <tr>\n",
       "      <th>...</th>\n",
       "      <td>...</td>\n",
       "      <td>...</td>\n",
       "      <td>...</td>\n",
       "      <td>...</td>\n",
       "      <td>...</td>\n",
       "      <td>...</td>\n",
       "      <td>...</td>\n",
       "      <td>...</td>\n",
       "      <td>...</td>\n",
       "      <td>...</td>\n",
       "      <td>...</td>\n",
       "      <td>...</td>\n",
       "      <td>...</td>\n",
       "      <td>...</td>\n",
       "      <td>...</td>\n",
       "      <td>...</td>\n",
       "      <td>...</td>\n",
       "      <td>...</td>\n",
       "    </tr>\n",
       "    <tr>\n",
       "      <th>96</th>\n",
       "      <td>wallaby</td>\n",
       "      <td>1</td>\n",
       "      <td>0</td>\n",
       "      <td>0</td>\n",
       "      <td>1</td>\n",
       "      <td>0</td>\n",
       "      <td>0</td>\n",
       "      <td>0</td>\n",
       "      <td>1</td>\n",
       "      <td>1</td>\n",
       "      <td>1</td>\n",
       "      <td>0</td>\n",
       "      <td>0</td>\n",
       "      <td>1</td>\n",
       "      <td>1</td>\n",
       "      <td>0</td>\n",
       "      <td>1</td>\n",
       "      <td>Mammal</td>\n",
       "    </tr>\n",
       "    <tr>\n",
       "      <th>97</th>\n",
       "      <td>wasp</td>\n",
       "      <td>1</td>\n",
       "      <td>0</td>\n",
       "      <td>1</td>\n",
       "      <td>0</td>\n",
       "      <td>1</td>\n",
       "      <td>0</td>\n",
       "      <td>0</td>\n",
       "      <td>0</td>\n",
       "      <td>0</td>\n",
       "      <td>1</td>\n",
       "      <td>1</td>\n",
       "      <td>0</td>\n",
       "      <td>1</td>\n",
       "      <td>0</td>\n",
       "      <td>0</td>\n",
       "      <td>0</td>\n",
       "      <td>Bug</td>\n",
       "    </tr>\n",
       "    <tr>\n",
       "      <th>98</th>\n",
       "      <td>wolf</td>\n",
       "      <td>1</td>\n",
       "      <td>0</td>\n",
       "      <td>0</td>\n",
       "      <td>1</td>\n",
       "      <td>0</td>\n",
       "      <td>0</td>\n",
       "      <td>1</td>\n",
       "      <td>1</td>\n",
       "      <td>1</td>\n",
       "      <td>1</td>\n",
       "      <td>0</td>\n",
       "      <td>0</td>\n",
       "      <td>1</td>\n",
       "      <td>1</td>\n",
       "      <td>0</td>\n",
       "      <td>1</td>\n",
       "      <td>Mammal</td>\n",
       "    </tr>\n",
       "    <tr>\n",
       "      <th>99</th>\n",
       "      <td>worm</td>\n",
       "      <td>0</td>\n",
       "      <td>0</td>\n",
       "      <td>1</td>\n",
       "      <td>0</td>\n",
       "      <td>0</td>\n",
       "      <td>0</td>\n",
       "      <td>0</td>\n",
       "      <td>0</td>\n",
       "      <td>0</td>\n",
       "      <td>1</td>\n",
       "      <td>0</td>\n",
       "      <td>0</td>\n",
       "      <td>0</td>\n",
       "      <td>0</td>\n",
       "      <td>0</td>\n",
       "      <td>0</td>\n",
       "      <td>Invertebrate</td>\n",
       "    </tr>\n",
       "    <tr>\n",
       "      <th>100</th>\n",
       "      <td>wren</td>\n",
       "      <td>0</td>\n",
       "      <td>1</td>\n",
       "      <td>1</td>\n",
       "      <td>0</td>\n",
       "      <td>1</td>\n",
       "      <td>0</td>\n",
       "      <td>0</td>\n",
       "      <td>0</td>\n",
       "      <td>1</td>\n",
       "      <td>1</td>\n",
       "      <td>0</td>\n",
       "      <td>0</td>\n",
       "      <td>1</td>\n",
       "      <td>1</td>\n",
       "      <td>0</td>\n",
       "      <td>0</td>\n",
       "      <td>Bird</td>\n",
       "    </tr>\n",
       "  </tbody>\n",
       "</table>\n",
       "<p>101 rows × 18 columns</p>\n",
       "</div>"
      ],
      "text/plain": [
       "    animal name  hair  feathers  eggs  milk  airborne  aquatic  predator  \\\n",
       "ID                                                                         \n",
       "0      aardvark     1         0     0     1         0        0         1   \n",
       "1      antelope     1         0     0     1         0        0         0   \n",
       "2          bass     0         0     1     0         0        1         1   \n",
       "3          bear     1         0     0     1         0        0         1   \n",
       "4          boar     1         0     0     1         0        0         1   \n",
       "..          ...   ...       ...   ...   ...       ...      ...       ...   \n",
       "96      wallaby     1         0     0     1         0        0         0   \n",
       "97         wasp     1         0     1     0         1        0         0   \n",
       "98         wolf     1         0     0     1         0        0         1   \n",
       "99         worm     0         0     1     0         0        0         0   \n",
       "100        wren     0         1     1     0         1        0         0   \n",
       "\n",
       "     toothed  backbone  breathes  venomous  fins  legs  tail  domestic  \\\n",
       "ID                                                                       \n",
       "0          1         1         1         0     0     1     0         0   \n",
       "1          1         1         1         0     0     1     1         0   \n",
       "2          1         1         0         0     1     0     1         0   \n",
       "3          1         1         1         0     0     1     0         0   \n",
       "4          1         1         1         0     0     1     1         0   \n",
       "..       ...       ...       ...       ...   ...   ...   ...       ...   \n",
       "96         1         1         1         0     0     1     1         0   \n",
       "97         0         0         1         1     0     1     0         0   \n",
       "98         1         1         1         0     0     1     1         0   \n",
       "99         0         0         1         0     0     0     0         0   \n",
       "100        0         1         1         0     0     1     1         0   \n",
       "\n",
       "     catsize          type  \n",
       "ID                          \n",
       "0          1        Mammal  \n",
       "1          1        Mammal  \n",
       "2          0          Fish  \n",
       "3          1        Mammal  \n",
       "4          1        Mammal  \n",
       "..       ...           ...  \n",
       "96         1        Mammal  \n",
       "97         0           Bug  \n",
       "98         1        Mammal  \n",
       "99         0  Invertebrate  \n",
       "100        0          Bird  \n",
       "\n",
       "[101 rows x 18 columns]"
      ]
     },
     "execution_count": 421,
     "metadata": {},
     "output_type": "execute_result"
    }
   ],
   "source": [
    "print(df.info())\n",
    "print(df.describe())\n",
    "df"
   ]
  },
  {
   "cell_type": "markdown",
   "metadata": {
    "id": "14cWZruqwIpv"
   },
   "source": [
    "We have some data, nice. Now let's build a model. Just for demonstration purposes, we're using the whole dataset, but normally you'd be splitting between training and test sets."
   ]
  },
  {
   "cell_type": "code",
   "execution_count": 422,
   "metadata": {
    "colab": {
     "base_uri": "https://localhost:8080/"
    },
    "id": "JtJznvdPFcso",
    "outputId": "331b7eeb-f66c-4a24-88df-d4692d1d594f"
   },
   "outputs": [
    {
     "data": {
      "text/plain": [
       "DecisionTreeClassifier()"
      ]
     },
     "execution_count": 422,
     "metadata": {},
     "output_type": "execute_result"
    }
   ],
   "source": [
    "model = DecisionTreeClassifier()\n",
    "model.fit(X, y)  # train on the WHOLE dataset\n"
   ]
  },
  {
   "cell_type": "markdown",
   "metadata": {
    "id": "VKgmnZ02wV4u"
   },
   "source": [
    "Now we can visualize it in a couple of ways. First as text:"
   ]
  },
  {
   "cell_type": "markdown",
   "metadata": {
    "id": "7KCIVoDl0hkp"
   },
   "source": [
    "### Text visualization"
   ]
  },
  {
   "cell_type": "code",
   "execution_count": 423,
   "metadata": {
    "colab": {
     "base_uri": "https://localhost:8080/"
    },
    "id": "tFK1gleCwZF2",
    "outputId": "7dda6c53-4efa-4c51-893a-74f9dc59b073",
    "scrolled": true
   },
   "outputs": [
    {
     "name": "stdout",
     "output_type": "stream",
     "text": [
      "|--- milk <= 0.50\n",
      "|   |--- feathers <= 0.50\n",
      "|   |   |--- fins <= 0.50\n",
      "|   |   |   |--- backbone <= 0.50\n",
      "|   |   |   |   |--- airborne <= 0.50\n",
      "|   |   |   |   |   |--- predator <= 0.50\n",
      "|   |   |   |   |   |   |--- legs <= 0.50\n",
      "|   |   |   |   |   |   |   |--- class: Invertebrate\n",
      "|   |   |   |   |   |   |--- legs >  0.50\n",
      "|   |   |   |   |   |   |   |--- class: Bug\n",
      "|   |   |   |   |   |--- predator >  0.50\n",
      "|   |   |   |   |   |   |--- class: Invertebrate\n",
      "|   |   |   |   |--- airborne >  0.50\n",
      "|   |   |   |   |   |--- class: Bug\n",
      "|   |   |   |--- backbone >  0.50\n",
      "|   |   |   |   |--- aquatic <= 0.50\n",
      "|   |   |   |   |   |--- class: Reptile\n",
      "|   |   |   |   |--- aquatic >  0.50\n",
      "|   |   |   |   |   |--- legs <= 0.50\n",
      "|   |   |   |   |   |   |--- class: Reptile\n",
      "|   |   |   |   |   |--- legs >  0.50\n",
      "|   |   |   |   |   |   |--- class: Amphibian\n",
      "|   |   |--- fins >  0.50\n",
      "|   |   |   |--- class: Fish\n",
      "|   |--- feathers >  0.50\n",
      "|   |   |--- class: Bird\n",
      "|--- milk >  0.50\n",
      "|   |--- class: Mammal\n",
      "\n"
     ]
    }
   ],
   "source": [
    "# Show the model as text\n",
    "print(export_text(model, feature_names=fn))"
   ]
  },
  {
   "cell_type": "markdown",
   "metadata": {
    "id": "i3NLHtuSY6BP"
   },
   "source": [
    "This makes sense - we can see at the bottom for example that if `milk > 0.5` holds, which means the animal produces milk, then it's a mammal."
   ]
  },
  {
   "cell_type": "markdown",
   "metadata": {
    "id": "EOITRYTlwbE7"
   },
   "source": [
    "### Graphical visualization\n",
    "\n",
    "Then we use graphviz. Graphviz is a graphics package designed for handling graphs - like figuring out where to put notes so it all fits on the paper. This goes in a couple of steps:"
   ]
  },
  {
   "cell_type": "code",
   "execution_count": 424,
   "metadata": {
    "colab": {
     "base_uri": "https://localhost:8080/"
    },
    "id": "i9dYJjBgwRTe",
    "outputId": "0a569b5c-618f-42b9-f6a4-914798c3c516"
   },
   "outputs": [
    {
     "name": "stdout",
     "output_type": "stream",
     "text": [
      "digraph Tree {\n",
      "node [shape=box, style=\"filled\", color=\"black\", fontname=\"helvetica\"] ;\n",
      "edge [fontname=\"helvetica\"] ;\n",
      "0 [label=\"milk <= 0.5\\ngini = 0.759\\nsamples = 101\\nvalue = [4, 20, 8, 13, 10, 41, 5]\\nclass = Mammal\", fillcolor=\"#ebccf8\"] ;\n",
      "1 [label=\"feathers <= 0.5\\ngini = 0.785\\nsamples = 60\\nvalue = [4, 20, 8, 13, 10, 0, 5]\\nclass = Bird\", fillcolor=\"#f4fbe2\"] ;\n",
      "0 -> 1 [labeldistance=2.5, labelangle=45, headlabel=\"True\"] ;\n",
      "2 [label=\"fins <= 0.5\\ngini = 0.766\\nsamples = 40\\nvalue = [4, 0, 8, 13, 10, 0, 5]\\nclass = Fish\", fillcolor=\"#ebfcfc\"] ;\n",
      "1 -> 2 ;\n",
      "3 [label=\"backbone <= 0.5\\ngini = 0.719\\nsamples = 27\\nvalue = [4, 0, 8, 0, 10, 0, 5]\\nclass = Invertebrate\", fillcolor=\"#eaedfc\"] ;\n",
      "2 -> 3 ;\n",
      "4 [label=\"airborne <= 0.5\\ngini = 0.494\\nsamples = 18\\nvalue = [0, 0, 8, 0, 10, 0, 0]\\nclass = Invertebrate\", fillcolor=\"#d7ddfa\"] ;\n",
      "3 -> 4 ;\n",
      "5 [label=\"predator <= 0.5\\ngini = 0.278\\nsamples = 12\\nvalue = [0, 0, 2, 0, 10, 0, 0]\\nclass = Invertebrate\", fillcolor=\"#6178ea\"] ;\n",
      "4 -> 5 ;\n",
      "6 [label=\"legs <= 0.5\\ngini = 0.5\\nsamples = 4\\nvalue = [0, 0, 2, 0, 2, 0, 0]\\nclass = Bug\", fillcolor=\"#ffffff\"] ;\n",
      "5 -> 6 ;\n",
      "7 [label=\"gini = 0.0\\nsamples = 2\\nvalue = [0, 0, 0, 0, 2, 0, 0]\\nclass = Invertebrate\", fillcolor=\"#3956e5\"] ;\n",
      "6 -> 7 ;\n",
      "8 [label=\"gini = 0.0\\nsamples = 2\\nvalue = [0, 0, 2, 0, 0, 0, 0]\\nclass = Bug\", fillcolor=\"#39e54d\"] ;\n",
      "6 -> 8 ;\n",
      "9 [label=\"gini = 0.0\\nsamples = 8\\nvalue = [0, 0, 0, 0, 8, 0, 0]\\nclass = Invertebrate\", fillcolor=\"#3956e5\"] ;\n",
      "5 -> 9 ;\n",
      "10 [label=\"gini = 0.0\\nsamples = 6\\nvalue = [0, 0, 6, 0, 0, 0, 0]\\nclass = Bug\", fillcolor=\"#39e54d\"] ;\n",
      "4 -> 10 ;\n",
      "11 [label=\"aquatic <= 0.5\\ngini = 0.494\\nsamples = 9\\nvalue = [4, 0, 0, 0, 0, 0, 5]\\nclass = Reptile\", fillcolor=\"#fad7e7\"] ;\n",
      "3 -> 11 ;\n",
      "12 [label=\"gini = 0.0\\nsamples = 4\\nvalue = [0, 0, 0, 0, 0, 0, 4]\\nclass = Reptile\", fillcolor=\"#e53986\"] ;\n",
      "11 -> 12 ;\n",
      "13 [label=\"legs <= 0.5\\ngini = 0.32\\nsamples = 5\\nvalue = [4, 0, 0, 0, 0, 0, 1]\\nclass = Amphibian\", fillcolor=\"#eca06a\"] ;\n",
      "11 -> 13 ;\n",
      "14 [label=\"gini = 0.0\\nsamples = 1\\nvalue = [0, 0, 0, 0, 0, 0, 1]\\nclass = Reptile\", fillcolor=\"#e53986\"] ;\n",
      "13 -> 14 ;\n",
      "15 [label=\"gini = 0.0\\nsamples = 4\\nvalue = [4, 0, 0, 0, 0, 0, 0]\\nclass = Amphibian\", fillcolor=\"#e58139\"] ;\n",
      "13 -> 15 ;\n",
      "16 [label=\"gini = 0.0\\nsamples = 13\\nvalue = [0, 0, 0, 13, 0, 0, 0]\\nclass = Fish\", fillcolor=\"#39e5e2\"] ;\n",
      "2 -> 16 ;\n",
      "17 [label=\"gini = 0.0\\nsamples = 20\\nvalue = [0, 20, 0, 0, 0, 0, 0]\\nclass = Bird\", fillcolor=\"#b7e539\"] ;\n",
      "1 -> 17 ;\n",
      "18 [label=\"gini = 0.0\\nsamples = 41\\nvalue = [0, 0, 0, 0, 0, 41, 0]\\nclass = Mammal\", fillcolor=\"#b139e5\"] ;\n",
      "0 -> 18 [labeldistance=2.5, labelangle=-45, headlabel=\"False\"] ;\n",
      "}\n"
     ]
    }
   ],
   "source": [
    "# Use the sklearn.tree.export_graphviz method to export the tree in \"dot\" format\n",
    "dot = export_graphviz(\n",
    "    decision_tree=model,  # the tree to visualize\n",
    "    out_file=None,  # if None, return it as a string with \"dot\" information\n",
    "    feature_names=fn,  # list of feature names\n",
    "    class_names=sorted(cn),  # sorted! list of class names\n",
    "    filled=True  # pretty colors\n",
    ")\n",
    "\n",
    "print(dot)  # \"dot\" is a string containing a structural description of our future graphic:"
   ]
  },
  {
   "cell_type": "markdown",
   "metadata": {
    "id": "pUfu-Q8lw-Zd"
   },
   "source": [
    "That's not really intended for humans to read, but for transferring it to the graphviz program to work with:"
   ]
  },
  {
   "cell_type": "code",
   "execution_count": 1006,
   "metadata": {
    "colab": {
     "base_uri": "https://localhost:8080/",
     "height": 1000
    },
    "id": "KsceIA3Dw-5p",
    "outputId": "1137b75d-b39d-498a-8d1f-4ecbeaf43a5e"
   },
   "outputs": [
    {
     "data": {
      "image/svg+xml": [
       "<?xml version=\"1.0\" encoding=\"UTF-8\" standalone=\"no\"?>\r\n",
       "<!DOCTYPE svg PUBLIC \"-//W3C//DTD SVG 1.1//EN\"\r\n",
       " \"http://www.w3.org/Graphics/SVG/1.1/DTD/svg11.dtd\">\r\n",
       "<!-- Generated by graphviz version 2.47.0 (0)\r\n",
       " -->\r\n",
       "<!-- Title: Tree Pages: 1 -->\r\n",
       "<svg width=\"1092pt\" height=\"909pt\"\r\n",
       " viewBox=\"0.00 0.00 1092.00 909.00\" xmlns=\"http://www.w3.org/2000/svg\" xmlns:xlink=\"http://www.w3.org/1999/xlink\">\r\n",
       "<g id=\"graph0\" class=\"graph\" transform=\"scale(1 1) rotate(0) translate(4 905)\">\r\n",
       "<title>Tree</title>\r\n",
       "<polygon fill=\"white\" stroke=\"transparent\" points=\"-4,4 -4,-905 1088,-905 1088,4 -4,4\"/>\r\n",
       "<!-- 0 -->\r\n",
       "<g id=\"node1\" class=\"node\">\r\n",
       "<title>0</title>\r\n",
       "<polygon fill=\"#ebccf8\" stroke=\"black\" points=\"991.5,-901 782.5,-901 782.5,-818 991.5,-818 991.5,-901\"/>\r\n",
       "<text text-anchor=\"middle\" x=\"887\" y=\"-885.8\" font-family=\"Helvetica,sans-Serif\" font-size=\"14.00\">milk &lt;= 0.5</text>\r\n",
       "<text text-anchor=\"middle\" x=\"887\" y=\"-870.8\" font-family=\"Helvetica,sans-Serif\" font-size=\"14.00\">gini = 0.759</text>\r\n",
       "<text text-anchor=\"middle\" x=\"887\" y=\"-855.8\" font-family=\"Helvetica,sans-Serif\" font-size=\"14.00\">samples = 101</text>\r\n",
       "<text text-anchor=\"middle\" x=\"887\" y=\"-840.8\" font-family=\"Helvetica,sans-Serif\" font-size=\"14.00\">value = [4, 20, 8, 13, 10, 41, 5]</text>\r\n",
       "<text text-anchor=\"middle\" x=\"887\" y=\"-825.8\" font-family=\"Helvetica,sans-Serif\" font-size=\"14.00\">class = Mammal</text>\r\n",
       "</g>\r\n",
       "<!-- 1 -->\r\n",
       "<g id=\"node2\" class=\"node\">\r\n",
       "<title>1</title>\r\n",
       "<polygon fill=\"#f4fbe2\" stroke=\"black\" points=\"882,-782 682,-782 682,-699 882,-699 882,-782\"/>\r\n",
       "<text text-anchor=\"middle\" x=\"782\" y=\"-766.8\" font-family=\"Helvetica,sans-Serif\" font-size=\"14.00\">feathers &lt;= 0.5</text>\r\n",
       "<text text-anchor=\"middle\" x=\"782\" y=\"-751.8\" font-family=\"Helvetica,sans-Serif\" font-size=\"14.00\">gini = 0.785</text>\r\n",
       "<text text-anchor=\"middle\" x=\"782\" y=\"-736.8\" font-family=\"Helvetica,sans-Serif\" font-size=\"14.00\">samples = 60</text>\r\n",
       "<text text-anchor=\"middle\" x=\"782\" y=\"-721.8\" font-family=\"Helvetica,sans-Serif\" font-size=\"14.00\">value = [4, 20, 8, 13, 10, 0, 5]</text>\r\n",
       "<text text-anchor=\"middle\" x=\"782\" y=\"-706.8\" font-family=\"Helvetica,sans-Serif\" font-size=\"14.00\">class = Bird</text>\r\n",
       "</g>\r\n",
       "<!-- 0&#45;&gt;1 -->\r\n",
       "<g id=\"edge1\" class=\"edge\">\r\n",
       "<title>0&#45;&gt;1</title>\r\n",
       "<path fill=\"none\" stroke=\"black\" d=\"M850.57,-817.91C842.35,-808.74 833.54,-798.93 825.07,-789.49\"/>\r\n",
       "<polygon fill=\"black\" stroke=\"black\" points=\"827.65,-787.13 818.36,-782.02 822.44,-791.8 827.65,-787.13\"/>\r\n",
       "<text text-anchor=\"middle\" x=\"817.02\" y=\"-803.28\" font-family=\"Helvetica,sans-Serif\" font-size=\"14.00\">True</text>\r\n",
       "</g>\r\n",
       "<!-- 18 -->\r\n",
       "<g id=\"node19\" class=\"node\">\r\n",
       "<title>18</title>\r\n",
       "<polygon fill=\"#b139e5\" stroke=\"black\" points=\"1084,-774.5 900,-774.5 900,-706.5 1084,-706.5 1084,-774.5\"/>\r\n",
       "<text text-anchor=\"middle\" x=\"992\" y=\"-759.3\" font-family=\"Helvetica,sans-Serif\" font-size=\"14.00\">gini = 0.0</text>\r\n",
       "<text text-anchor=\"middle\" x=\"992\" y=\"-744.3\" font-family=\"Helvetica,sans-Serif\" font-size=\"14.00\">samples = 41</text>\r\n",
       "<text text-anchor=\"middle\" x=\"992\" y=\"-729.3\" font-family=\"Helvetica,sans-Serif\" font-size=\"14.00\">value = [0, 0, 0, 0, 0, 41, 0]</text>\r\n",
       "<text text-anchor=\"middle\" x=\"992\" y=\"-714.3\" font-family=\"Helvetica,sans-Serif\" font-size=\"14.00\">class = Mammal</text>\r\n",
       "</g>\r\n",
       "<!-- 0&#45;&gt;18 -->\r\n",
       "<g id=\"edge18\" class=\"edge\">\r\n",
       "<title>0&#45;&gt;18</title>\r\n",
       "<path fill=\"none\" stroke=\"black\" d=\"M923.43,-817.91C933.83,-806.32 945.16,-793.7 955.55,-782.11\"/>\r\n",
       "<polygon fill=\"black\" stroke=\"black\" points=\"958.16,-784.45 962.23,-774.67 952.95,-779.77 958.16,-784.45\"/>\r\n",
       "<text text-anchor=\"middle\" x=\"963.58\" y=\"-795.93\" font-family=\"Helvetica,sans-Serif\" font-size=\"14.00\">False</text>\r\n",
       "</g>\r\n",
       "<!-- 2 -->\r\n",
       "<g id=\"node3\" class=\"node\">\r\n",
       "<title>2</title>\r\n",
       "<polygon fill=\"#ebfcfc\" stroke=\"black\" points=\"775,-663 583,-663 583,-580 775,-580 775,-663\"/>\r\n",
       "<text text-anchor=\"middle\" x=\"679\" y=\"-647.8\" font-family=\"Helvetica,sans-Serif\" font-size=\"14.00\">fins &lt;= 0.5</text>\r\n",
       "<text text-anchor=\"middle\" x=\"679\" y=\"-632.8\" font-family=\"Helvetica,sans-Serif\" font-size=\"14.00\">gini = 0.766</text>\r\n",
       "<text text-anchor=\"middle\" x=\"679\" y=\"-617.8\" font-family=\"Helvetica,sans-Serif\" font-size=\"14.00\">samples = 40</text>\r\n",
       "<text text-anchor=\"middle\" x=\"679\" y=\"-602.8\" font-family=\"Helvetica,sans-Serif\" font-size=\"14.00\">value = [4, 0, 8, 13, 10, 0, 5]</text>\r\n",
       "<text text-anchor=\"middle\" x=\"679\" y=\"-587.8\" font-family=\"Helvetica,sans-Serif\" font-size=\"14.00\">class = Fish</text>\r\n",
       "</g>\r\n",
       "<!-- 1&#45;&gt;2 -->\r\n",
       "<g id=\"edge2\" class=\"edge\">\r\n",
       "<title>1&#45;&gt;2</title>\r\n",
       "<path fill=\"none\" stroke=\"black\" d=\"M746.26,-698.91C738.28,-689.83 729.73,-680.12 721.49,-670.77\"/>\r\n",
       "<polygon fill=\"black\" stroke=\"black\" points=\"723.91,-668.21 714.67,-663.02 718.65,-672.84 723.91,-668.21\"/>\r\n",
       "</g>\r\n",
       "<!-- 17 -->\r\n",
       "<g id=\"node18\" class=\"node\">\r\n",
       "<title>17</title>\r\n",
       "<polygon fill=\"#b7e539\" stroke=\"black\" points=\"977,-655.5 793,-655.5 793,-587.5 977,-587.5 977,-655.5\"/>\r\n",
       "<text text-anchor=\"middle\" x=\"885\" y=\"-640.3\" font-family=\"Helvetica,sans-Serif\" font-size=\"14.00\">gini = 0.0</text>\r\n",
       "<text text-anchor=\"middle\" x=\"885\" y=\"-625.3\" font-family=\"Helvetica,sans-Serif\" font-size=\"14.00\">samples = 20</text>\r\n",
       "<text text-anchor=\"middle\" x=\"885\" y=\"-610.3\" font-family=\"Helvetica,sans-Serif\" font-size=\"14.00\">value = [0, 20, 0, 0, 0, 0, 0]</text>\r\n",
       "<text text-anchor=\"middle\" x=\"885\" y=\"-595.3\" font-family=\"Helvetica,sans-Serif\" font-size=\"14.00\">class = Bird</text>\r\n",
       "</g>\r\n",
       "<!-- 1&#45;&gt;17 -->\r\n",
       "<g id=\"edge17\" class=\"edge\">\r\n",
       "<title>1&#45;&gt;17</title>\r\n",
       "<path fill=\"none\" stroke=\"black\" d=\"M817.74,-698.91C827.84,-687.43 838.84,-674.94 848.96,-663.44\"/>\r\n",
       "<polygon fill=\"black\" stroke=\"black\" points=\"851.82,-665.49 855.8,-655.67 846.57,-660.86 851.82,-665.49\"/>\r\n",
       "</g>\r\n",
       "<!-- 3 -->\r\n",
       "<g id=\"node4\" class=\"node\">\r\n",
       "<title>3</title>\r\n",
       "<polygon fill=\"#eaedfc\" stroke=\"black\" points=\"670,-544 486,-544 486,-461 670,-461 670,-544\"/>\r\n",
       "<text text-anchor=\"middle\" x=\"578\" y=\"-528.8\" font-family=\"Helvetica,sans-Serif\" font-size=\"14.00\">backbone &lt;= 0.5</text>\r\n",
       "<text text-anchor=\"middle\" x=\"578\" y=\"-513.8\" font-family=\"Helvetica,sans-Serif\" font-size=\"14.00\">gini = 0.719</text>\r\n",
       "<text text-anchor=\"middle\" x=\"578\" y=\"-498.8\" font-family=\"Helvetica,sans-Serif\" font-size=\"14.00\">samples = 27</text>\r\n",
       "<text text-anchor=\"middle\" x=\"578\" y=\"-483.8\" font-family=\"Helvetica,sans-Serif\" font-size=\"14.00\">value = [4, 0, 8, 0, 10, 0, 5]</text>\r\n",
       "<text text-anchor=\"middle\" x=\"578\" y=\"-468.8\" font-family=\"Helvetica,sans-Serif\" font-size=\"14.00\">class = Invertebrate</text>\r\n",
       "</g>\r\n",
       "<!-- 2&#45;&gt;3 -->\r\n",
       "<g id=\"edge3\" class=\"edge\">\r\n",
       "<title>2&#45;&gt;3</title>\r\n",
       "<path fill=\"none\" stroke=\"black\" d=\"M643.96,-579.91C636.12,-570.83 627.74,-561.12 619.67,-551.77\"/>\r\n",
       "<polygon fill=\"black\" stroke=\"black\" points=\"622.16,-549.3 612.98,-544.02 616.86,-553.88 622.16,-549.3\"/>\r\n",
       "</g>\r\n",
       "<!-- 16 -->\r\n",
       "<g id=\"node17\" class=\"node\">\r\n",
       "<title>16</title>\r\n",
       "<polygon fill=\"#39e5e2\" stroke=\"black\" points=\"872,-536.5 688,-536.5 688,-468.5 872,-468.5 872,-536.5\"/>\r\n",
       "<text text-anchor=\"middle\" x=\"780\" y=\"-521.3\" font-family=\"Helvetica,sans-Serif\" font-size=\"14.00\">gini = 0.0</text>\r\n",
       "<text text-anchor=\"middle\" x=\"780\" y=\"-506.3\" font-family=\"Helvetica,sans-Serif\" font-size=\"14.00\">samples = 13</text>\r\n",
       "<text text-anchor=\"middle\" x=\"780\" y=\"-491.3\" font-family=\"Helvetica,sans-Serif\" font-size=\"14.00\">value = [0, 0, 0, 13, 0, 0, 0]</text>\r\n",
       "<text text-anchor=\"middle\" x=\"780\" y=\"-476.3\" font-family=\"Helvetica,sans-Serif\" font-size=\"14.00\">class = Fish</text>\r\n",
       "</g>\r\n",
       "<!-- 2&#45;&gt;16 -->\r\n",
       "<g id=\"edge16\" class=\"edge\">\r\n",
       "<title>2&#45;&gt;16</title>\r\n",
       "<path fill=\"none\" stroke=\"black\" d=\"M714.04,-579.91C723.95,-568.43 734.73,-555.94 744.66,-544.44\"/>\r\n",
       "<polygon fill=\"black\" stroke=\"black\" points=\"747.48,-546.52 751.37,-536.67 742.18,-541.95 747.48,-546.52\"/>\r\n",
       "</g>\r\n",
       "<!-- 4 -->\r\n",
       "<g id=\"node5\" class=\"node\">\r\n",
       "<title>4</title>\r\n",
       "<polygon fill=\"#d7ddfa\" stroke=\"black\" points=\"571,-425 387,-425 387,-342 571,-342 571,-425\"/>\r\n",
       "<text text-anchor=\"middle\" x=\"479\" y=\"-409.8\" font-family=\"Helvetica,sans-Serif\" font-size=\"14.00\">airborne &lt;= 0.5</text>\r\n",
       "<text text-anchor=\"middle\" x=\"479\" y=\"-394.8\" font-family=\"Helvetica,sans-Serif\" font-size=\"14.00\">gini = 0.494</text>\r\n",
       "<text text-anchor=\"middle\" x=\"479\" y=\"-379.8\" font-family=\"Helvetica,sans-Serif\" font-size=\"14.00\">samples = 18</text>\r\n",
       "<text text-anchor=\"middle\" x=\"479\" y=\"-364.8\" font-family=\"Helvetica,sans-Serif\" font-size=\"14.00\">value = [0, 0, 8, 0, 10, 0, 0]</text>\r\n",
       "<text text-anchor=\"middle\" x=\"479\" y=\"-349.8\" font-family=\"Helvetica,sans-Serif\" font-size=\"14.00\">class = Invertebrate</text>\r\n",
       "</g>\r\n",
       "<!-- 3&#45;&gt;4 -->\r\n",
       "<g id=\"edge4\" class=\"edge\">\r\n",
       "<title>3&#45;&gt;4</title>\r\n",
       "<path fill=\"none\" stroke=\"black\" d=\"M543.65,-460.91C535.97,-451.83 527.76,-442.12 519.84,-432.77\"/>\r\n",
       "<polygon fill=\"black\" stroke=\"black\" points=\"522.42,-430.39 513.29,-425.02 517.07,-434.92 522.42,-430.39\"/>\r\n",
       "</g>\r\n",
       "<!-- 11 -->\r\n",
       "<g id=\"node12\" class=\"node\">\r\n",
       "<title>11</title>\r\n",
       "<polygon fill=\"#fad7e7\" stroke=\"black\" points=\"765,-425 589,-425 589,-342 765,-342 765,-425\"/>\r\n",
       "<text text-anchor=\"middle\" x=\"677\" y=\"-409.8\" font-family=\"Helvetica,sans-Serif\" font-size=\"14.00\">aquatic &lt;= 0.5</text>\r\n",
       "<text text-anchor=\"middle\" x=\"677\" y=\"-394.8\" font-family=\"Helvetica,sans-Serif\" font-size=\"14.00\">gini = 0.494</text>\r\n",
       "<text text-anchor=\"middle\" x=\"677\" y=\"-379.8\" font-family=\"Helvetica,sans-Serif\" font-size=\"14.00\">samples = 9</text>\r\n",
       "<text text-anchor=\"middle\" x=\"677\" y=\"-364.8\" font-family=\"Helvetica,sans-Serif\" font-size=\"14.00\">value = [4, 0, 0, 0, 0, 0, 5]</text>\r\n",
       "<text text-anchor=\"middle\" x=\"677\" y=\"-349.8\" font-family=\"Helvetica,sans-Serif\" font-size=\"14.00\">class = Reptile</text>\r\n",
       "</g>\r\n",
       "<!-- 3&#45;&gt;11 -->\r\n",
       "<g id=\"edge11\" class=\"edge\">\r\n",
       "<title>3&#45;&gt;11</title>\r\n",
       "<path fill=\"none\" stroke=\"black\" d=\"M612.35,-460.91C620.03,-451.83 628.24,-442.12 636.16,-432.77\"/>\r\n",
       "<polygon fill=\"black\" stroke=\"black\" points=\"638.93,-434.92 642.71,-425.02 633.58,-430.39 638.93,-434.92\"/>\r\n",
       "</g>\r\n",
       "<!-- 5 -->\r\n",
       "<g id=\"node6\" class=\"node\">\r\n",
       "<title>5</title>\r\n",
       "<polygon fill=\"#6178ea\" stroke=\"black\" points=\"374,-306 190,-306 190,-223 374,-223 374,-306\"/>\r\n",
       "<text text-anchor=\"middle\" x=\"282\" y=\"-290.8\" font-family=\"Helvetica,sans-Serif\" font-size=\"14.00\">predator &lt;= 0.5</text>\r\n",
       "<text text-anchor=\"middle\" x=\"282\" y=\"-275.8\" font-family=\"Helvetica,sans-Serif\" font-size=\"14.00\">gini = 0.278</text>\r\n",
       "<text text-anchor=\"middle\" x=\"282\" y=\"-260.8\" font-family=\"Helvetica,sans-Serif\" font-size=\"14.00\">samples = 12</text>\r\n",
       "<text text-anchor=\"middle\" x=\"282\" y=\"-245.8\" font-family=\"Helvetica,sans-Serif\" font-size=\"14.00\">value = [0, 0, 2, 0, 10, 0, 0]</text>\r\n",
       "<text text-anchor=\"middle\" x=\"282\" y=\"-230.8\" font-family=\"Helvetica,sans-Serif\" font-size=\"14.00\">class = Invertebrate</text>\r\n",
       "</g>\r\n",
       "<!-- 4&#45;&gt;5 -->\r\n",
       "<g id=\"edge5\" class=\"edge\">\r\n",
       "<title>4&#45;&gt;5</title>\r\n",
       "<path fill=\"none\" stroke=\"black\" d=\"M410.65,-341.91C394,-332.02 376.07,-321.37 359.04,-311.25\"/>\r\n",
       "<polygon fill=\"black\" stroke=\"black\" points=\"360.61,-308.12 350.23,-306.02 357.04,-314.14 360.61,-308.12\"/>\r\n",
       "</g>\r\n",
       "<!-- 10 -->\r\n",
       "<g id=\"node11\" class=\"node\">\r\n",
       "<title>10</title>\r\n",
       "<polygon fill=\"#39e54d\" stroke=\"black\" points=\"568,-298.5 392,-298.5 392,-230.5 568,-230.5 568,-298.5\"/>\r\n",
       "<text text-anchor=\"middle\" x=\"480\" y=\"-283.3\" font-family=\"Helvetica,sans-Serif\" font-size=\"14.00\">gini = 0.0</text>\r\n",
       "<text text-anchor=\"middle\" x=\"480\" y=\"-268.3\" font-family=\"Helvetica,sans-Serif\" font-size=\"14.00\">samples = 6</text>\r\n",
       "<text text-anchor=\"middle\" x=\"480\" y=\"-253.3\" font-family=\"Helvetica,sans-Serif\" font-size=\"14.00\">value = [0, 0, 6, 0, 0, 0, 0]</text>\r\n",
       "<text text-anchor=\"middle\" x=\"480\" y=\"-238.3\" font-family=\"Helvetica,sans-Serif\" font-size=\"14.00\">class = Bug</text>\r\n",
       "</g>\r\n",
       "<!-- 4&#45;&gt;10 -->\r\n",
       "<g id=\"edge10\" class=\"edge\">\r\n",
       "<title>4&#45;&gt;10</title>\r\n",
       "<path fill=\"none\" stroke=\"black\" d=\"M479.35,-341.91C479.44,-331.2 479.54,-319.62 479.63,-308.78\"/>\r\n",
       "<polygon fill=\"black\" stroke=\"black\" points=\"483.13,-308.7 479.72,-298.67 476.13,-308.64 483.13,-308.7\"/>\r\n",
       "</g>\r\n",
       "<!-- 6 -->\r\n",
       "<g id=\"node7\" class=\"node\">\r\n",
       "<title>6</title>\r\n",
       "<polygon fill=\"#ffffff\" stroke=\"black\" points=\"273,-187 97,-187 97,-104 273,-104 273,-187\"/>\r\n",
       "<text text-anchor=\"middle\" x=\"185\" y=\"-171.8\" font-family=\"Helvetica,sans-Serif\" font-size=\"14.00\">legs &lt;= 0.5</text>\r\n",
       "<text text-anchor=\"middle\" x=\"185\" y=\"-156.8\" font-family=\"Helvetica,sans-Serif\" font-size=\"14.00\">gini = 0.5</text>\r\n",
       "<text text-anchor=\"middle\" x=\"185\" y=\"-141.8\" font-family=\"Helvetica,sans-Serif\" font-size=\"14.00\">samples = 4</text>\r\n",
       "<text text-anchor=\"middle\" x=\"185\" y=\"-126.8\" font-family=\"Helvetica,sans-Serif\" font-size=\"14.00\">value = [0, 0, 2, 0, 2, 0, 0]</text>\r\n",
       "<text text-anchor=\"middle\" x=\"185\" y=\"-111.8\" font-family=\"Helvetica,sans-Serif\" font-size=\"14.00\">class = Bug</text>\r\n",
       "</g>\r\n",
       "<!-- 5&#45;&gt;6 -->\r\n",
       "<g id=\"edge6\" class=\"edge\">\r\n",
       "<title>5&#45;&gt;6</title>\r\n",
       "<path fill=\"none\" stroke=\"black\" d=\"M248.35,-222.91C240.82,-213.83 232.77,-204.12 225.02,-194.77\"/>\r\n",
       "<polygon fill=\"black\" stroke=\"black\" points=\"227.67,-192.49 218.59,-187.02 222.28,-196.95 227.67,-192.49\"/>\r\n",
       "</g>\r\n",
       "<!-- 9 -->\r\n",
       "<g id=\"node10\" class=\"node\">\r\n",
       "<title>9</title>\r\n",
       "<polygon fill=\"#3956e5\" stroke=\"black\" points=\"467,-179.5 291,-179.5 291,-111.5 467,-111.5 467,-179.5\"/>\r\n",
       "<text text-anchor=\"middle\" x=\"379\" y=\"-164.3\" font-family=\"Helvetica,sans-Serif\" font-size=\"14.00\">gini = 0.0</text>\r\n",
       "<text text-anchor=\"middle\" x=\"379\" y=\"-149.3\" font-family=\"Helvetica,sans-Serif\" font-size=\"14.00\">samples = 8</text>\r\n",
       "<text text-anchor=\"middle\" x=\"379\" y=\"-134.3\" font-family=\"Helvetica,sans-Serif\" font-size=\"14.00\">value = [0, 0, 0, 0, 8, 0, 0]</text>\r\n",
       "<text text-anchor=\"middle\" x=\"379\" y=\"-119.3\" font-family=\"Helvetica,sans-Serif\" font-size=\"14.00\">class = Invertebrate</text>\r\n",
       "</g>\r\n",
       "<!-- 5&#45;&gt;9 -->\r\n",
       "<g id=\"edge9\" class=\"edge\">\r\n",
       "<title>5&#45;&gt;9</title>\r\n",
       "<path fill=\"none\" stroke=\"black\" d=\"M315.65,-222.91C325.17,-211.43 335.53,-198.94 345.06,-187.44\"/>\r\n",
       "<polygon fill=\"black\" stroke=\"black\" points=\"347.81,-189.6 351.5,-179.67 342.43,-185.13 347.81,-189.6\"/>\r\n",
       "</g>\r\n",
       "<!-- 7 -->\r\n",
       "<g id=\"node8\" class=\"node\">\r\n",
       "<title>7</title>\r\n",
       "<polygon fill=\"#3956e5\" stroke=\"black\" points=\"176,-68 0,-68 0,0 176,0 176,-68\"/>\r\n",
       "<text text-anchor=\"middle\" x=\"88\" y=\"-52.8\" font-family=\"Helvetica,sans-Serif\" font-size=\"14.00\">gini = 0.0</text>\r\n",
       "<text text-anchor=\"middle\" x=\"88\" y=\"-37.8\" font-family=\"Helvetica,sans-Serif\" font-size=\"14.00\">samples = 2</text>\r\n",
       "<text text-anchor=\"middle\" x=\"88\" y=\"-22.8\" font-family=\"Helvetica,sans-Serif\" font-size=\"14.00\">value = [0, 0, 0, 0, 2, 0, 0]</text>\r\n",
       "<text text-anchor=\"middle\" x=\"88\" y=\"-7.8\" font-family=\"Helvetica,sans-Serif\" font-size=\"14.00\">class = Invertebrate</text>\r\n",
       "</g>\r\n",
       "<!-- 6&#45;&gt;7 -->\r\n",
       "<g id=\"edge7\" class=\"edge\">\r\n",
       "<title>6&#45;&gt;7</title>\r\n",
       "<path fill=\"none\" stroke=\"black\" d=\"M148.88,-103.73C140.8,-94.61 132.23,-84.93 124.15,-75.81\"/>\r\n",
       "<polygon fill=\"black\" stroke=\"black\" points=\"126.75,-73.46 117.5,-68.3 121.51,-78.11 126.75,-73.46\"/>\r\n",
       "</g>\r\n",
       "<!-- 8 -->\r\n",
       "<g id=\"node9\" class=\"node\">\r\n",
       "<title>8</title>\r\n",
       "<polygon fill=\"#39e54d\" stroke=\"black\" points=\"370,-68 194,-68 194,0 370,0 370,-68\"/>\r\n",
       "<text text-anchor=\"middle\" x=\"282\" y=\"-52.8\" font-family=\"Helvetica,sans-Serif\" font-size=\"14.00\">gini = 0.0</text>\r\n",
       "<text text-anchor=\"middle\" x=\"282\" y=\"-37.8\" font-family=\"Helvetica,sans-Serif\" font-size=\"14.00\">samples = 2</text>\r\n",
       "<text text-anchor=\"middle\" x=\"282\" y=\"-22.8\" font-family=\"Helvetica,sans-Serif\" font-size=\"14.00\">value = [0, 0, 2, 0, 0, 0, 0]</text>\r\n",
       "<text text-anchor=\"middle\" x=\"282\" y=\"-7.8\" font-family=\"Helvetica,sans-Serif\" font-size=\"14.00\">class = Bug</text>\r\n",
       "</g>\r\n",
       "<!-- 6&#45;&gt;8 -->\r\n",
       "<g id=\"edge8\" class=\"edge\">\r\n",
       "<title>6&#45;&gt;8</title>\r\n",
       "<path fill=\"none\" stroke=\"black\" d=\"M221.12,-103.73C229.2,-94.61 237.77,-84.93 245.85,-75.81\"/>\r\n",
       "<polygon fill=\"black\" stroke=\"black\" points=\"248.49,-78.11 252.5,-68.3 243.25,-73.46 248.49,-78.11\"/>\r\n",
       "</g>\r\n",
       "<!-- 12 -->\r\n",
       "<g id=\"node13\" class=\"node\">\r\n",
       "<title>12</title>\r\n",
       "<polygon fill=\"#e53986\" stroke=\"black\" points=\"763,-298.5 587,-298.5 587,-230.5 763,-230.5 763,-298.5\"/>\r\n",
       "<text text-anchor=\"middle\" x=\"675\" y=\"-283.3\" font-family=\"Helvetica,sans-Serif\" font-size=\"14.00\">gini = 0.0</text>\r\n",
       "<text text-anchor=\"middle\" x=\"675\" y=\"-268.3\" font-family=\"Helvetica,sans-Serif\" font-size=\"14.00\">samples = 4</text>\r\n",
       "<text text-anchor=\"middle\" x=\"675\" y=\"-253.3\" font-family=\"Helvetica,sans-Serif\" font-size=\"14.00\">value = [0, 0, 0, 0, 0, 0, 4]</text>\r\n",
       "<text text-anchor=\"middle\" x=\"675\" y=\"-238.3\" font-family=\"Helvetica,sans-Serif\" font-size=\"14.00\">class = Reptile</text>\r\n",
       "</g>\r\n",
       "<!-- 11&#45;&gt;12 -->\r\n",
       "<g id=\"edge12\" class=\"edge\">\r\n",
       "<title>11&#45;&gt;12</title>\r\n",
       "<path fill=\"none\" stroke=\"black\" d=\"M676.31,-341.91C676.12,-331.2 675.93,-319.62 675.74,-308.78\"/>\r\n",
       "<polygon fill=\"black\" stroke=\"black\" points=\"679.24,-308.61 675.57,-298.67 672.24,-308.73 679.24,-308.61\"/>\r\n",
       "</g>\r\n",
       "<!-- 13 -->\r\n",
       "<g id=\"node14\" class=\"node\">\r\n",
       "<title>13</title>\r\n",
       "<polygon fill=\"#eca06a\" stroke=\"black\" points=\"957,-306 781,-306 781,-223 957,-223 957,-306\"/>\r\n",
       "<text text-anchor=\"middle\" x=\"869\" y=\"-290.8\" font-family=\"Helvetica,sans-Serif\" font-size=\"14.00\">legs &lt;= 0.5</text>\r\n",
       "<text text-anchor=\"middle\" x=\"869\" y=\"-275.8\" font-family=\"Helvetica,sans-Serif\" font-size=\"14.00\">gini = 0.32</text>\r\n",
       "<text text-anchor=\"middle\" x=\"869\" y=\"-260.8\" font-family=\"Helvetica,sans-Serif\" font-size=\"14.00\">samples = 5</text>\r\n",
       "<text text-anchor=\"middle\" x=\"869\" y=\"-245.8\" font-family=\"Helvetica,sans-Serif\" font-size=\"14.00\">value = [4, 0, 0, 0, 0, 0, 1]</text>\r\n",
       "<text text-anchor=\"middle\" x=\"869\" y=\"-230.8\" font-family=\"Helvetica,sans-Serif\" font-size=\"14.00\">class = Amphibian</text>\r\n",
       "</g>\r\n",
       "<!-- 11&#45;&gt;13 -->\r\n",
       "<g id=\"edge13\" class=\"edge\">\r\n",
       "<title>11&#45;&gt;13</title>\r\n",
       "<path fill=\"none\" stroke=\"black\" d=\"M743.61,-341.91C759.85,-332.02 777.32,-321.37 793.92,-311.25\"/>\r\n",
       "<polygon fill=\"black\" stroke=\"black\" points=\"795.79,-314.21 802.5,-306.02 792.14,-308.24 795.79,-314.21\"/>\r\n",
       "</g>\r\n",
       "<!-- 14 -->\r\n",
       "<g id=\"node15\" class=\"node\">\r\n",
       "<title>14</title>\r\n",
       "<polygon fill=\"#e53986\" stroke=\"black\" points=\"860,-179.5 684,-179.5 684,-111.5 860,-111.5 860,-179.5\"/>\r\n",
       "<text text-anchor=\"middle\" x=\"772\" y=\"-164.3\" font-family=\"Helvetica,sans-Serif\" font-size=\"14.00\">gini = 0.0</text>\r\n",
       "<text text-anchor=\"middle\" x=\"772\" y=\"-149.3\" font-family=\"Helvetica,sans-Serif\" font-size=\"14.00\">samples = 1</text>\r\n",
       "<text text-anchor=\"middle\" x=\"772\" y=\"-134.3\" font-family=\"Helvetica,sans-Serif\" font-size=\"14.00\">value = [0, 0, 0, 0, 0, 0, 1]</text>\r\n",
       "<text text-anchor=\"middle\" x=\"772\" y=\"-119.3\" font-family=\"Helvetica,sans-Serif\" font-size=\"14.00\">class = Reptile</text>\r\n",
       "</g>\r\n",
       "<!-- 13&#45;&gt;14 -->\r\n",
       "<g id=\"edge14\" class=\"edge\">\r\n",
       "<title>13&#45;&gt;14</title>\r\n",
       "<path fill=\"none\" stroke=\"black\" d=\"M835.35,-222.91C825.83,-211.43 815.47,-198.94 805.94,-187.44\"/>\r\n",
       "<polygon fill=\"black\" stroke=\"black\" points=\"808.57,-185.13 799.5,-179.67 803.19,-189.6 808.57,-185.13\"/>\r\n",
       "</g>\r\n",
       "<!-- 15 -->\r\n",
       "<g id=\"node16\" class=\"node\">\r\n",
       "<title>15</title>\r\n",
       "<polygon fill=\"#e58139\" stroke=\"black\" points=\"1054,-179.5 878,-179.5 878,-111.5 1054,-111.5 1054,-179.5\"/>\r\n",
       "<text text-anchor=\"middle\" x=\"966\" y=\"-164.3\" font-family=\"Helvetica,sans-Serif\" font-size=\"14.00\">gini = 0.0</text>\r\n",
       "<text text-anchor=\"middle\" x=\"966\" y=\"-149.3\" font-family=\"Helvetica,sans-Serif\" font-size=\"14.00\">samples = 4</text>\r\n",
       "<text text-anchor=\"middle\" x=\"966\" y=\"-134.3\" font-family=\"Helvetica,sans-Serif\" font-size=\"14.00\">value = [4, 0, 0, 0, 0, 0, 0]</text>\r\n",
       "<text text-anchor=\"middle\" x=\"966\" y=\"-119.3\" font-family=\"Helvetica,sans-Serif\" font-size=\"14.00\">class = Amphibian</text>\r\n",
       "</g>\r\n",
       "<!-- 13&#45;&gt;15 -->\r\n",
       "<g id=\"edge15\" class=\"edge\">\r\n",
       "<title>13&#45;&gt;15</title>\r\n",
       "<path fill=\"none\" stroke=\"black\" d=\"M902.65,-222.91C912.17,-211.43 922.53,-198.94 932.06,-187.44\"/>\r\n",
       "<polygon fill=\"black\" stroke=\"black\" points=\"934.81,-189.6 938.5,-179.67 929.43,-185.13 934.81,-189.6\"/>\r\n",
       "</g>\r\n",
       "</g>\r\n",
       "</svg>\r\n"
      ],
      "text/plain": [
       "<graphviz.files.Source at 0x1ce17543d48>"
      ]
     },
     "execution_count": 1006,
     "metadata": {},
     "output_type": "execute_result"
    }
   ],
   "source": [
    "# Load the dot information into a graphviz object\n",
    "graph = graphviz.Source(dot)\n",
    "\n",
    "# Print a copy to disk\n",
    "graph.render('graphviz-tree', format='pdf', cleanup=True)  # save it as a file and clean up helper files\n",
    "\n",
    "# Show the result if using a Notebook\n",
    "graph"
   ]
  },
  {
   "cell_type": "markdown",
   "metadata": {
    "id": "p4rEi9pGc_c9"
   },
   "source": [
    "## Interpretation"
   ]
  },
  {
   "cell_type": "markdown",
   "metadata": {
    "id": "MNShI3LtC2C-"
   },
   "source": [
    "Let's analyze this graph. At the top node, we see the following:\n",
    "\n",
    "```\n",
    "milk <= 0.5 \n",
    "gini = 0.759 \n",
    "samples = 101 \n",
    "value = [4, 20, 8, 13, 10, 41, 5] \n",
    "class = Mammal\n",
    "```\n",
    "\n",
    "* The first line, `milk <= 0.5` means that if the value of an instance's \"milk\" feature is 0.5 or lower, it counts as True and goes to the left of the tree, and if False, goes to the right of the tree.\n",
    "\n",
    "* `gini` refers to the Gini index score of this node. This is a score we're trying to minimize. The current score isn't very good.\n",
    "\n",
    "* `Samples = 101` means we have 101 animals in our training data.\n",
    "\n",
    "* `value = [4, 20, 8, 13, 10, 41, 5]` shows us the class distribution of these samples. These are sorted alphabetically by class name, so that is `['Amphibian', 'Bird', 'Bug', 'Fish', 'Invertebrate', 'Mammal', 'Reptile']`. Looks like this zoo has a lot of mammals.\n",
    "\n",
    "* `class` indicates the most likely class for a random sample from this node to belong to. If we grabbed a random animal from the zoo, it's most likely a mammal, since they make up 40% of the animals.\n",
    "\n",
    "Then let's go to the right of the top node. These are the animals for which `milk <= 0.5` was False, in other words, the animal produces milk. We see the following:\n",
    "\n",
    "```\n",
    "gini = 0.0 \n",
    "samples = 41 \n",
    "value = [0, 0, 0, 0, 0, 41, 0] \n",
    "class = Mammal\n",
    "```\n",
    "\n",
    "* We have only 4 lines here, because this node isn't being split further. Why not? Well...\n",
    "* The Gini index is 0. This means there's absolutely no confusion about what class instances in this node belong to.\n",
    "* 41 samples, and only one of the classes in the `value` list has all of those samples. Everything in this node belongs to the same type of animal.\n",
    "* This node predicts Mammals. Which makes sense: mammals are by definition the only kind of animals that produce milk. They're also a significant part of the zoo's population so making this split is a powerful move for the algorithm.\n",
    "\n",
    "We repeat a similar process on the left subtree: only birds have feathers so they're split off. Only fish have scales so they're split off.\n",
    "\n",
    "Then we come to `backbone` and at this point, the tree splits into two true subtrees. Here we can also see that the subtrees don't have to pick the same splitting criteria. Apparently for creatures without backbone (and that don't produce milk, don't have feathers, don't have fins), it's more relevant to ask whether they're airborne, while for creatures with a backbone (and that don't produce milk, don't have feathers, don't have fins) it matters more whether they're aquatic."
   ]
  },
  {
   "cell_type": "markdown",
   "metadata": {
    "id": "IZ-l2s1V2ysH"
   },
   "source": [
    "### Open questions\n"
   ]
  },
  {
   "cell_type": "markdown",
   "metadata": {
    "id": "dPm6cE3TjwmJ"
   },
   "source": [
    "#### Question 1: Why does this model place \"feathers\" earlier in the tree than \"airborne\"?\n",
    "\n",
    "Splitting for \"airborne\" on the place where \"feathers\" is now would lead to two subtrees, as birds still need to be split off from bugs, which would lead to extra uncertainty and thereby making the algorithm less accurate. Having only one class split off increases the accuracy as there is not any confusion in the split-off leaf and therefore makes the model better."
   ]
  },
  {
   "cell_type": "markdown",
   "metadata": {
    "id": "Sz1UKUTyCV_K"
   },
   "source": [
    "#### Question 2: How could you find the instances in the dataset that end up in a particular leaf, but are misclassified?\n",
    "\n",
    "By checking the actual classes of the instances against the leaf in which they ended up being classified. "
   ]
  },
  {
   "cell_type": "markdown",
   "metadata": {
    "id": "Xsp94twYCkmK"
   },
   "source": [
    "## Splitting Rules\n",
    "\n"
   ]
  },
  {
   "cell_type": "markdown",
   "metadata": {
    "id": "4SJw8T5LhjvF"
   },
   "source": [
    "In a decision tree, we need rules that tell us when to split, and which split is best. For what we use impurity measures, that tell us how badly we're currently doing. If after a split we'd be doing less badly, then that's a good split to apply.\n"
   ]
  },
  {
   "cell_type": "markdown",
   "metadata": {
    "id": "HakdSIs5aEaJ"
   },
   "source": [
    "### Minority class\n",
    "Using minority class as an impurity measure assumes that you classify each node with the majority class of instances in that node. So if the contents of a leaf node are `A, A, A, B, B` you would predict any test examples that end up in that leaf node to have class `A`, but you'd only be right $3/5$th of the time. So this node would have a quality of $1 - 3/5 = 0.4$.\n",
    "\n",
    "If you could split this node so that one node had `A, B, B` and the other `A, A`, then the first one would have a base quality of $2/3$ because we're predicting that node's majority class `B`, and the other a base quality of $2/2$. Adding weights for their size, you'd get $1 - (0.6 \\times \\frac{2}{3} + 0.4 \\times \\frac{2}{2}) = 1 -(0.4 + 0.4) = 0.2$, so this is certainly a split we'd be willing to make.\n",
    "\n",
    "Let's describe this a bit more formally.\n",
    "\n",
    "Let $M$ be the ordered set of classes and $||M||$ the number of classes. $M$ is ordered by frequency. Then $M_i$ is the $i$-th class by frequency, and $M_1$ is the most frequent class. To cover the special case where there is a tie for most frequent class (like in a 50/50 split dataset), we just randomly pick one of them to be indexed as $j=1$.\n",
    "\n",
    "Let $I$ be the set of all  instances in the dataset and $I_j$ the set of instances of class $j$. This allows us to define the probability that a randomly sampled instance belongs to $j$ as:\n",
    "\n",
    "$$p_i = \\frac{||I_j||}{||I||}$$\n",
    "\n",
    "We can now define the minority class impurity measure as:\n",
    "\n",
    "$$minority\\_class = \\sum_{j = 2}^{||M||} p_j$$\n",
    "\n",
    "This is of course equal to $1 - p_1$, the probability of *not* sampling the ranked-first class. Note also that the most frequent class doesn't necessarily cover a majority of the dataset, so the name of this impurity measure is a little bit deceptive when we're not dealing with binary classification!"
   ]
  },
  {
   "cell_type": "code",
   "execution_count": 946,
   "metadata": {
    "id": "gERp3SmDaEta"
   },
   "outputs": [],
   "source": [
    "def minority_class(labels):\n",
    "    if len(labels) == 0:\n",
    "        return 0\n",
    "    frequencies = labels.value_counts().values  # array, sorted in descending order\n",
    "    probabilities = [f / len(labels) for f in frequencies[1:]]   # everything except the first class\n",
    "    impurity = sum(probabilities)\n",
    "    return impurity"
   ]
  },
  {
   "cell_type": "markdown",
   "metadata": {
    "id": "Up8TaaoSZcCq"
   },
   "source": [
    "### Gini index\n",
    "\n",
    "Gini index, also called Gini impurity, should not be confused with Gini coefficient. Both are named after the statistician Corrado Gini.\n",
    "\n",
    "The central idea is as follows. If a node is \"pure\", that is, all instances in it belong to the same class, then predicting the class of an instance is trivial. A pure node has a Gini index of 0. If a node isn't pure yet - meaning it has instances of more than one class in it, then we can calculate just how hard it is to classify instances in that node.\n",
    "\n",
    "Suppose we know the distribution of class labels in a node. For example, we could have a node with `A, A, A, A, A, A, B, B, B, B` in it. Then if we grabbed a random instance, we'd have 60% chance of `A` and 40% chance of `B`. Now suppose we get a new instance and we have to predict its label, and we use those probabilities that we know. So there's a 60% chance that we predict `A`, and 40% chance that we predict `B`. Now, how often are we wrong? That's what Gini impurity measures.\n",
    "\n",
    "The odds of us being wrong are those of predicting `A` but getting `B` ($0.6 \\times 0.4 = 0.24$) and of predicting `B` but getting `A` ($0.4 \\times 0.6 = 0.24$), so a total of $0.24 + 0.24 = 0.48$. This is the same as 1 minus the chance of us getting it right, so $1 - (0.6^2 + 0.4^2) = 0.48$.\n",
    "\n",
    "Now imagine we have a proposed split of this node, that would result in child nodes `A, B, B, B, B` and `A, A, A, A, A`. The odds of getting it wrong in the first node are $1 - (0.2^2 + 0.8^2) = 0.32$. For the other node, the odds of getting it wrong are 0, because there's only one class to choose from. Their weights are each $\\frac{5}{10} = 0.5$ because each node is half the size of the original. So we multiply these impurities with their weights based on instances and get $(0.5 \\times 0.32) + (0.5 \\times 0) = 0.16. This is better than our original impurity of 0.48, so we'd be willing to make this split.\n",
    "\n",
    "Let's formalize Gini Index in a formula:\n",
    "\n",
    "$$Gini = 1 - \\sum_{j=1}^{||M||} p_j^2$$\n",
    "\n",
    "Here $p_j$ is the probability of a given instance being in class $j$, or that we predict an instance to be in class $j$ based on our knowledge of the class distribution in the training set. Then $p_j^2$ is then the probability that an instance is in class $j$ **and** that we predict it as $j$. So then $\\sum_{j=1}^{||M||} p_j^2$ is the sum of all possible ways we could correctly predict an instance's class, and the final formula subtracts that from 1 to get the chance of us being wrong."
   ]
  },
  {
   "cell_type": "markdown",
   "metadata": {
    "id": "Hr7ZHwDSL_JD"
   },
   "source": [
    "#### Exercise 1: implement Gini impurity"
   ]
  },
  {
   "cell_type": "markdown",
   "metadata": {
    "id": "QKDqwqHdMFnv"
   },
   "source": [
    "Using the formila given above, and using the minority class impurity measure as an example, implement a function to calculate the Gini impurity of a set of labels:"
   ]
  },
  {
   "cell_type": "code",
   "execution_count": 956,
   "metadata": {
    "id": "2eW_M9l0MCrv"
   },
   "outputs": [],
   "source": [
    "def gini(labels):\n",
    "    frequencies = labels.value_counts().values\n",
    "    probabilities = [(f / len(labels))**2 for f in frequencies]   \n",
    "    impurity = 1 - sum(probabilities)\n",
    "    return impurity"
   ]
  },
  {
   "cell_type": "markdown",
   "metadata": {
    "id": "uhxclUx_MPwc"
   },
   "source": [
    "And test it with this unit test:"
   ]
  },
  {
   "cell_type": "code",
   "execution_count": 957,
   "metadata": {
    "id": "TNwn5fvEMRq4"
   },
   "outputs": [],
   "source": [
    "def test_gini():\n",
    "    data = pd.Series(['a', 'a', 'a', 'a', 'a', 'a', 'b', 'b', 'b', 'b'])\n",
    "    assert 0.47 < gini(data) < 0.49  # simple two-label\n",
    "    data = pd.Series(['a', 'a', 'a', 'a', 'a', 'c', 'b', 'b', 'b', 'b'])\n",
    "    assert 0.57 < gini(data) < 0.59   # three labels\n",
    "    data = pd.Series(['a', 'a', 'a', 'c', 'c', 'c', 'b', 'b', 'b', 'b'])\n",
    "    assert 0.65 < gini(data) < 0.67  # no absolute majority\n",
    "    data = pd.Series([1, 1, -1, -1])\n",
    "    assert 0.49 < gini(data) < 0.51  # even split, numeric labels\n",
    "    data = pd.Series([1, -1, -1, -1])\n",
    "    assert 0.374 < gini(data) < 0.376  # first instance != majority\n",
    "    data = pd.Series([1, 'a', -1, -1])\n",
    "    assert 0.624 < gini(data) < 0.626  # mixed data types\n",
    "\n",
    "\n",
    "test_gini()"
   ]
  },
  {
   "cell_type": "markdown",
   "metadata": {
    "id": "XpVou5LnZyYf"
   },
   "source": [
    "### Entropy\n",
    "\n",
    "[Shannon Entropy](https://en.wikipedia.org/wiki/Entropy_(information_theory)) was developed by Claude Shannon in the context of signal processing in lossy communication channels, such as trying to send digital signals over analog radio. The key idea is that you're measuring how much more information you would need to say with certainty which class a subject belongs in. In practice, entropy doesn't behave very differently from Gini index, and they simply came to machine learning out of different scientific fields. Entropy is a bit more computationally expensive to compute because of the logarithm, which is why Gini impurity tends to be the default measure.\n",
    "\n",
    "The formula for entropy is as follows:\n",
    "\n",
    "$$Entropy = - \\sum_j^{||M||} p_j \\cdot log_2(p_j)$$"
   ]
  },
  {
   "cell_type": "markdown",
   "metadata": {
    "id": "HRy4lBeRMe0M"
   },
   "source": [
    "#### Exercise 2: implement entropy impurity"
   ]
  },
  {
   "cell_type": "markdown",
   "metadata": {
    "id": "AWCWBFREMhd0"
   },
   "source": [
    "Use the formula given above, and minority class and Gini impurity as examples, and implement entropy as an impurity measure:"
   ]
  },
  {
   "cell_type": "code",
   "execution_count": 958,
   "metadata": {
    "id": "svrQXF3JMoZf"
   },
   "outputs": [],
   "source": [
    "def entropy(labels):\n",
    "    frequencies = labels.value_counts().values\n",
    "    probabilities = [(f / len(labels))* np.log2(f / len(labels)) for f in frequencies]   \n",
    "    impurity = - sum(probabilities)\n",
    "    return impurity"
   ]
  },
  {
   "cell_type": "markdown",
   "metadata": {
    "id": "TaXentEWMrgm"
   },
   "source": [
    "Test your work with this unit test:"
   ]
  },
  {
   "cell_type": "code",
   "execution_count": 959,
   "metadata": {
    "id": "joUIt2YkMtlq"
   },
   "outputs": [],
   "source": [
    "def test_entropy():\n",
    "    data = pd.Series(['a', 'a', 'a', 'a', 'a', 'a', 'b', 'b', 'b', 'b'])\n",
    "    assert 0.97 < entropy(data) < 0.98  # simple two-label\n",
    "    data = pd.Series(['a', 'a', 'a', 'a', 'a', 'c', 'b', 'b', 'b', 'b'])\n",
    "    assert 1.36 < entropy(data) < 1.37  # three labels\n",
    "    data = pd.Series(['a', 'a', 'a', 'c', 'c', 'c', 'b', 'b', 'b', 'b'])\n",
    "    assert 1.57 < entropy(data) < 1.58  # no absolute majority\n",
    "    data = pd.Series([1, 1, -1, -1])\n",
    "    assert 0.9 < entropy(data) < 1.1  # even split, numeric labels\n",
    "    data = pd.Series([1, -1, -1, -1])\n",
    "    assert 0.81 < entropy(data) < 0.82  # first instance != majority\n",
    "    data = pd.Series([1, 'a', -1, -1])\n",
    "    assert 1.4 < entropy(data) < 1.6  # mixed data types\n",
    "    \n",
    "\n",
    "test_entropy()"
   ]
  },
  {
   "cell_type": "markdown",
   "metadata": {
    "id": "JBgP8oY4dObp"
   },
   "source": [
    "## Building your own tree"
   ]
  },
  {
   "cell_type": "markdown",
   "metadata": {
    "id": "_ldHNUmNCVX8"
   },
   "source": [
    "\n",
    "The main idea of decision trees is simple. It's like a flowchart, telling you to go left if some condition holds, right if otherwise. The difference with a flowchart is that a flowchart is usually designed by an expert, using expert knowledge, while a decision tree is learned from data.\n",
    "\n",
    "You construct a decision tree by repeatedly doing the following:\n",
    "1. For the current node under consideration, determine its impurity.\n",
    "2. Consider the ways (features) in which you could split the node.\n",
    "3. For each possible split, do the following:\n",
    "    * Determine the weight of the child nodes, as a proportion of the size of the parent. So if the parent has 10 instances and a child node would get 6 of those, it has a weight of 6 / 10 = 0.6.\n",
    "    * Determine the impurity for each of the child nodes.\n",
    "    * Sum up the weighted impurity of all the child nodes.\n",
    "4. For all the possible splits you've considered, now look at only the best one. \n",
    "    * If it's also better than the current node, carry out the split, and apply this tree-building algorithm to each of the resulting child nodes.\n",
    "    * Otherwise this is a leaf node.\n",
    "\n",
    "\n",
    "\n",
    "There are a couple of things to notice here:\n",
    "* This algorithm is recursive, because each child node can become the root node of a new subtree. \n",
    "\n",
    "* It's also greedy, because in step 4 we took the best-looking split at that point. \n",
    "\n",
    "* The tree-building algorithm works the same regardless of which impurity function we used.\n",
    "\n",
    "* Nodes with few instances in them have a low weight, and therefore low impact on the weighed impurity of the children compared to the parent node. \n",
    "\n",
    "* In the special case where a split pushes all the instances into only one child node, that single node would gain a weight of 1.0 and the other children would gain a weight of 0.0. \n",
    "\n",
    "    Since the one child with all the instances has the same contents as the parent, computing an impurity measure for it will yield the same result as for the parent, and multiplied by a weight of 1.0, the weighed impurity will be exactly the same as the parent. Since we're looking for an improvement, we would reject this split.\n",
    "\n",
    "    One case where this might happen is if we're considering splitting on a feature that we've already split on. For example, if we've already split animals on \"milk\" and are moving down the \"no\" subtree, splitting on milk again will yield no improvement. This is convenient because it prevents endless growth of the tree. \n",
    "    \n",
    "    Note though that if we were implementing a splitting function for numeric data, this wouldn't hold; just because we've already split on `a <= 0.8` wouldn't mean we couldn't split on `a <= 0.5` for example.\n",
    "\n",
    "\n",
    "\n",
    "In the steps below, we're going to design a decision tree from scratch. We do apply a few simplifications:\n",
    "* The code doesn't have to be perfectly efficient.\n",
    "* We are only going to implement code for splitting on Boolean features."
   ]
  },
  {
   "cell_type": "markdown",
   "metadata": {
    "id": "TmFc6DhIdbSd"
   },
   "source": [
    "## Assembling the tree"
   ]
  },
  {
   "cell_type": "markdown",
   "metadata": {
    "id": "zuKgsW1narZI"
   },
   "source": [
    "\n",
    "Now that we have functions to evaluate splits with, we're ready to implement a decision tree. Because this is a tree data structure, we're going to make heavy use of [recursion](https://www.geeksforgeeks.org/recursion/). Intuitively, a [tree](https://en.wikipedia.org/wiki/Tree_(data_structure)) consists of a root node and a left subtree and a right subtree. We can implement this by designing a class that implements a single node in the tree, with links to child nodes which are again objects of the same class.\n",
    "\n",
    "We'll follow the familiar pattern of model design that we used in Lab1 and A1, with an `__init__`, `fit` and `predict` method, but also a few new ones:\n"
   ]
  },
  {
   "cell_type": "code",
   "execution_count": 960,
   "metadata": {
    "id": "NjsKqPdr7gdD"
   },
   "outputs": [
    {
     "ename": "SyntaxError",
     "evalue": "invalid syntax (2098441566.py, line 82)",
     "output_type": "error",
     "traceback": [
      "\u001b[1;36m  File \u001b[1;32m\"C:\\Users\\Mike\\AppData\\Local\\Temp\\ipykernel_23960\\2098441566.py\"\u001b[1;36m, line \u001b[1;32m82\u001b[0m\n\u001b[1;33m    self._yes._samples, self._no._samples = in(np.sum(labels.iloc[index_1])), int(np.sum(labels.iloc[index_0]))\u001b[0m\n\u001b[1;37m                                             ^\u001b[0m\n\u001b[1;31mSyntaxError\u001b[0m\u001b[1;31m:\u001b[0m invalid syntax\n"
     ]
    }
   ],
   "source": [
    " class DTree:\n",
    "    def __init__(self, metric):\n",
    "        \"\"\"Set up a new tree.\n",
    "        \n",
    "        We use the `metric` parameter to supply an impurity measure such as Gini or Entropy.\n",
    "        The other class variables should be set by the \"fit\" method.\n",
    "        \"\"\"\n",
    "        self._metric = metric  # what are we measuring impurity with? (Gini, Entropy, Minority Class...)\n",
    "        self._samples = None  # how many training samples reached this node?\n",
    "        self._distribution = []  # what was the class distribution in this node?\n",
    "        self._label = None  # What was the majority class of training samples that reached this node?\n",
    "        self._impurity = None  # what was the impurity at this node?\n",
    "        self._split = False  # if False, then this is a leaf. If you branch from this node, \n",
    "            #use this to store the name of the feature you're splitting on.\n",
    "        self._yes = None  # Holds the \"yes\" DTree object; None if this is still a leaf node\n",
    "        self._no = None # Holds the \"no\" DTree object; None if this is still a leaf node\n",
    "        \n",
    "\n",
    "    def _best_split(self, features, labels):\n",
    "        \"\"\" Determine the best feature to split on.\n",
    "\n",
    "        :param features: a pd.DataFrame with named training feature columns\n",
    "        :param labels: a pd.Series or pd.DataFrame with training labels\n",
    "        :return: `best_so_far` is a string with the name of the best feature,\n",
    "        and `best_so_far_impurity` is the impurity on that feature\n",
    "\n",
    "        For each candidate feature the weighted impurity of the \"yes\" and \"no\"\n",
    "        instances for that feature are computed using self._metric.\n",
    "\n",
    "        We select the feature with the lowest weighted impurity.\n",
    "        \"\"\"\n",
    "        so_far = np.zeros([features.shape[1]])\n",
    "        for i in range(0, features.shape[1]): #check for each feature\n",
    "            row_1, row_0 = features.iloc[:, i] == 1, features.iloc[:, i] == 0\n",
    "            index_1, index_0 = (np.where(row_1))[0], np.where(row_0)[0] #selects indices with value 1,0\n",
    "            ripe_true, ripe_false = labels[index_1], labels[index_0] #applies said indices to the labels\n",
    "            impurity_true = (self._metric(ripe_true)) * (len(index_1) / features.shape[0])\n",
    "            impurity_false = (self._metric(ripe_false)) * (len(index_0) / features.shape[0])\n",
    "            so_far[i] =  (impurity_true + impurity_false)\n",
    "        \n",
    "        best_so_far_impurity = so_far[np.argmin(so_far)] #get minimal value \n",
    "        best_so_far = features.columns[np.argmin(so_far)] #get feature name \n",
    "        return best_so_far, best_so_far_impurity\n",
    "    \n",
    "        \n",
    "\n",
    "    def fit(self, features, labels):\n",
    "        \"\"\" Generate a decision tree by recursively fitting & splitting them\n",
    "\n",
    "        :param features: a pd.DataFrame with named training feature columns\n",
    "        :param labels: a pd.Series or pd.DataFrame with training labels\n",
    "        :return: Nothing.\n",
    "\n",
    "        First this node is fitted as if it was a leaf node: the training majority label, number of samples,\n",
    "        class distribution and impurity.\n",
    "\n",
    "        Then we evaluate which feature might give the best split.\n",
    "\n",
    "        If there is a best split that gives a lower weighed impurity of the child nodes than the impurity in this node,\n",
    "        initialize the self._yes and self._no variables as new DTrees with the same metric.c\n",
    "        Then, split the training instance features & labels according to the best splitting feature found,\n",
    "        and fit the Yes subtree with the instances that split to the True side,\n",
    "        and the No subtree with the instances that are False according to the splitting feature.\n",
    "        \"\"\"\n",
    "\n",
    "        self._distribution = np.sum(features, axis=0)\n",
    "        self._label = features.columns[int((np.where(self._distribution == np.amax(self._distribution)))[0])]\n",
    "            #set label name in node \n",
    "        self._impurity = self._metric(labels)\n",
    "        self._samples = (np.sum(labels))\n",
    "        split, split_impurity = self._best_split(features, labels)  # Find the best split, if any\n",
    "        if split_impurity < self._impurity:\n",
    "            self._split = split\n",
    "            row_1, row_0 = features.loc[:, split] == 1, features.loc[:, split] == 0\n",
    "            index_1, index_0 = (np.where(row_1))[0], np.where(row_0)[0] #selects indices with value 1,0\n",
    "            self._yes, self._no =  DTree(features.iloc[index_1, :]), DTree(features.iloc[index_0, :])\n",
    "            self._yes._distribution = np.sum(features.iloc[index_1, :], axis=0)\n",
    "            self._no._distribution = np.sum(features.iloc[index_0, :], axis=0)\n",
    "            self._yes._label = features.columns[((np.where(self._yes._distribution == np.amax(self._yes._distribution)))[0])]\n",
    "            self._no._label = features.columns[((np.where(self._no._distribution == np.amax(self._no._distribution)))[0])]\n",
    "            self._yes._impurity, self._no._impurity = self._metric(labels.iloc[index_1]), self._metric(labels.iloc[index_0])\n",
    "            self._yes._samples, self._no._samples = in(np.sum(labels.iloc[index_1])), int(np.sum(labels.iloc[index_0]))\n",
    "        else:\n",
    "            self._yes = None\n",
    "            self._no = None\n",
    "\n",
    "    def predict(self, features):\n",
    "        \"\"\" Predict the labels of the instances based on the features\n",
    "\n",
    "        :param features: pd.DataFrame of test features\n",
    "        :return: predicted labels\n",
    "\n",
    "        We start by initializing an array of labels where we naively predict this node's label.\n",
    "        The datatype of this array is set to `object` because otherwise numpy\n",
    "        might select the minimum needed string length for the current label, regardless of child labels.\n",
    "\n",
    "        Then if this is not a leaf node, we overwrite those values with the values of Yes and No child nodes,\n",
    "        based on the feature split in this node.\n",
    "        \"\"\"\n",
    "        results = np.full(features.shape[0], self._label, dtype=object)  # object!!!\n",
    "        if self._split:  # branch node; recursively replace predictions with child predictions\n",
    "            yes_index = features[self._split] > 0.5\n",
    "            results[yes_index] = self._yes.predict(features.loc[yes_index])\n",
    "            results[~yes_index] = self._no.predict(features.loc[~yes_index])\n",
    "        return results\n",
    "\n",
    "    def to_text(self, depth=0):\n",
    "        if self._split:\n",
    "            text = f'{\"|   \" * depth}|---{self._split} = no\\n'\n",
    "            text += self._no.to_text(depth=depth+1)\n",
    "            text += f'{\"|   \" * depth}|---{self._split} = yes\\n'\n",
    "            text += self._yes.to_text(depth=depth+1)\n",
    "            \n",
    "        else:\n",
    "            text = f'{\"|   \" * depth}|---{self._label} ({self._samples})\\n'.upper()\n",
    "        return text\n",
    "\n",
    "    def to_graphviz(self, choice='', parent='R', graph=None, size='15,15'):\n",
    "        details = f'\\n\\nimpurity = {self._impurity:.2f}\\nsamples = {self._samples}\\n{self._distribution}'\n",
    "        if self._split:\n",
    "            label = f'({self._label.lower()})'\n",
    "        else:\n",
    "            label = self._label.upper()\n",
    "        if graph is None:  # root node\n",
    "            graph = graphviz.Digraph()  # initialize the graph\n",
    "            graph.attr(size=size)\n",
    "            graph.attr(ratio='1.0')\n",
    "        if self._split:  # branching nodes\n",
    "            node_label = f'{label}\\n{self._split.upper()}???{details}'  # display name\n",
    "            graph.node(name=parent+choice, label=node_label, shape='diamond')\n",
    "            self._yes.to_graphviz(choice='yes', parent=parent+choice, graph=graph)\n",
    "            self._no.to_graphviz(choice='no', parent=parent+choice, graph=graph)\n",
    "        else:  # leaf node\n",
    "            node_label = f'{label}{details}'  # display name\n",
    "            graph.node(name=parent+choice, label=node_label, shape='rectangle')\n",
    "        if choice is not '':\n",
    "            graph.edge(parent, parent + choice, label=choice)  # draw arrow from parent to this one\n",
    "        return graph"
   ]
  },
  {
   "cell_type": "code",
   "execution_count": 961,
   "metadata": {},
   "outputs": [],
   "source": [
    " class DTree:\n",
    "    def __init__(self, metric):\n",
    "        \"\"\"Set up a new tree.\n",
    "        \n",
    "        We use the `metric` parameter to supply an impurity measure such as Gini or Entropy.\n",
    "        The other class variables should be set by the \"fit\" method.\n",
    "        \"\"\"\n",
    "        self._metric = metric  # what are we measuring impurity with? (Gini, Entropy, Minority Class...)\n",
    "        self._samples = None  # how many training samples reached this node?\n",
    "        self._distribution = []  # what was the class distribution in this node?\n",
    "        self._label = None  # What was the majority class of training samples that reached this node?\n",
    "        self._impurity = None  # what was the impurity at this node?\n",
    "        self._split = False  # if False, then this is a leaf. If you branch from this node, \n",
    "            #use this to store the name of the feature you're splitting on.\n",
    "        self._yes = None  # Holds the \"yes\" DTree object; None if this is still a leaf node\n",
    "        self._no = None # Holds the \"no\" DTree object; None if this is still a leaf node\n",
    "        \n",
    "\n",
    "    def _best_split(self, features, labels):\n",
    "        \"\"\" Determine the best feature to split on.\n",
    "\n",
    "        :param features: a pd.DataFrame with named training feature columns\n",
    "        :param labels: a pd.Series or pd.DataFrame with training labels\n",
    "        :return: `best_so_far` is a string with the name of the best feature,\n",
    "        and `best_so_far_impurity` is the impurity on that feature\n",
    "\n",
    "        For each candidate feature the weighted impurity of the \"yes\" and \"no\"\n",
    "        instances for that feature are computed using self._metric.\n",
    "\n",
    "        We select the feature with the lowest weighted impurity.\n",
    "        \"\"\"\n",
    "        so_far = np.zeros([features.shape[1]])\n",
    "        for i in range(0, features.shape[1]): #check for each feature\n",
    "            row_1, row_0 = features.iloc[:, i] == 1, features.iloc[:, i] == 0\n",
    "            index_1, index_0 = (np.where(row_1))[0], np.where(row_0)[0] #selects indices with value 1,0\\\n",
    "            labels = labels.reset_index().iloc[:, 1]\n",
    "            ripe_true = labels[index_1] #applies said indices to the \n",
    "            ripe_false = labels[index_0]\n",
    "            impurity_true = (self._metric(ripe_true)) * (len(index_1) / features.shape[0])\n",
    "            impurity_false = (self._metric(ripe_false)) * (len(index_0) / features.shape[0])\n",
    "            so_far[i] =  (impurity_true + impurity_false)\n",
    "        \n",
    "        best_so_far_impurity = so_far[np.argmin(so_far)] #get minimal value \n",
    "        best_so_far = features.columns[np.argmin(so_far)] #get feature name \n",
    "        return best_so_far, best_so_far_impurity\n",
    "    \n",
    "        \n",
    "\n",
    "    def fit(self, features, labels):\n",
    "        \"\"\" Generate a decision tree by recursively fitting & splitting them\n",
    "\n",
    "        :param features: a pd.DataFrame with named training feature columns\n",
    "        :param labels: a pd.Series or pd.DataFrame with training labels\n",
    "        :return: Nothing.\n",
    "\n",
    "        First this node is fitted as if it was a leaf node: the training majority label, number of samples,\n",
    "        class distribution and impurity.\n",
    "\n",
    "        Then we evaluate which feature might give the best split.\n",
    "\n",
    "        If there is a best split that gives a lower weighed impurity of the child nodes than the impurity in this node,\n",
    "        initialize the self._yes and self._no variables as new DTrees with the same metric.c\n",
    "        Then, split the training instance features & labels according to the best splitting feature found,\n",
    "        and fit the Yes subtree with the instances that split to the True side,\n",
    "        and the No subtree with the instances that are False according to the splitting feature.\n",
    "        \"\"\"\n",
    "\n",
    "        self._distribution = np.sum(features, axis=0)\n",
    "        #print(self._distribution)\n",
    "        self._label = features.columns[((np.where(self._distribution == np.amax(self._distribution)))[0])]\n",
    "        self._impurity = self._metric(labels)\n",
    "        self._samples = int(len(labels))\n",
    "        split, split_impurity = self._best_split(features, labels)  # Find the best split, if any\n",
    "        index_1 = (np.where(features.loc[:, split] == 1))[0]\n",
    "        labels = labels.reset_index().iloc[:, 1]\n",
    "        self._label =np.sum(labels[index_1])\n",
    "        if split_impurity < self._impurity:\n",
    "            self._split = split\n",
    "            row_1, row_0 = features.loc[:, split] == 1, features.loc[:, split] == 0\n",
    "            index_1, index_0 = (np.where(row_1))[0], np.where(row_0)[0] #selects indices with value 1,0\n",
    "            self._yes, self._no =  DTree(metric=self._metric), DTree(metric=self._metric)\n",
    "            self._yes.fit(features.iloc[index_1, :], labels.iloc[index_1])\n",
    "            self._no.fit(features.iloc[index_0, :], labels.iloc[index_0])\n",
    "        else:\n",
    "            self._yes = None\n",
    "            self._no = None\n",
    "\n",
    "    def predict(self, features):\n",
    "        \"\"\" Predict the labels of the instances based on the features\n",
    "\n",
    "        :param features: pd.DataFrame of test features\n",
    "        :return: predicted labels\n",
    "\n",
    "        We start by initializing an array of labels where we naively predict this node's label.\n",
    "        The datatype of this array is set to `object` because otherwise numpy\n",
    "        might select the minimum needed string length for the current label, regardless of child labels.\n",
    "\n",
    "        Then if this is not a leaf node, we overwrite those values with the values of Yes and No child nodes,\n",
    "        based on the feature split in this node.\n",
    "        \"\"\"\n",
    "        results = np.full(features.shape[0], self._label, dtype=object)  # object!!!\n",
    "        if self._split:  # branch node; recursively replace predictions with child predictions\n",
    "            yes_index = features[self._split] > 0.5\n",
    "            results[yes_index] = self._yes.predict(features.loc[yes_index])\n",
    "            results[~yes_index] = self._no.predict(features.loc[~yes_index])\n",
    "        return results\n",
    "\n",
    "    def to_text(self, depth=0):\n",
    "        if self._split:\n",
    "            text = f'{\"|   \" * depth}|---{self._split} = no\\n'\n",
    "            text += self._no.to_text(depth=depth+1)\n",
    "            text += f'{\"|   \" * depth}|---{self._split} = yes\\n'\n",
    "            text += self._yes.to_text(depth=depth+1)\n",
    "            \n",
    "        else:\n",
    "            text = f'{\"|   \" * depth}|---{self._label} ({self._samples})\\n'.upper()\n",
    "        return text\n",
    "\n",
    "    def to_graphviz(self, choice='', parent='R', graph=None, size='15,15'):\n",
    "        details = f'\\n\\nimpurity = {self._impurity:.2f}\\nsamples = {self._samples}\\n{self._distribution}'\n",
    "        if self._split:\n",
    "            label = f'({self._label.lower()})'\n",
    "        else:\n",
    "            label = self._label.upper()\n",
    "        if graph is None:  # root node\n",
    "            graph = graphviz.Digraph()  # initialize the graph\n",
    "            graph.attr(size=size)\n",
    "            graph.attr(ratio='1.0')\n",
    "        if self._split:  # branching nodes\n",
    "            node_label = f'{label}\\n{self._split.upper()}???{details}'  # display name\n",
    "            graph.node(name=parent+choice, label=node_label, shape='diamond')\n",
    "            self._yes.to_graphviz(choice='yes', parent=parent+choice, graph=graph)\n",
    "            self._no.to_graphviz(choice='no', parent=parent+choice, graph=graph)\n",
    "        else:  # leaf node\n",
    "            node_label = f'{label}{details}'  # display name\n",
    "            graph.node(name=parent+choice, label=node_label, shape='rectangle')\n",
    "        if choice is not '':\n",
    "            graph.edge(parent, parent + choice, label=choice)  # draw arrow from parent to this one\n",
    "        return graph"
   ]
  },
  {
   "cell_type": "code",
   "execution_count": 962,
   "metadata": {},
   "outputs": [
    {
     "name": "stdout",
     "output_type": "stream",
     "text": [
      "|---firmness = no\n",
      "|   |---0 (2)\n",
      "|---firmness = yes\n",
      "|   |---nub_loose = no\n",
      "|   |   |---0 (3)\n",
      "|   |---nub_loose = yes\n",
      "|   |   |---2 (3)\n",
      "\n"
     ]
    },
    {
     "ename": "AssertionError",
     "evalue": "The tree should look like this",
     "output_type": "error",
     "traceback": [
      "\u001b[1;31m---------------------------------------------------------------------------\u001b[0m",
      "\u001b[1;31mAssertionError\u001b[0m                            Traceback (most recent call last)",
      "\u001b[1;32m~\\AppData\\Local\\Temp\\ipykernel_23960\\2721095106.py\u001b[0m in \u001b[0;36m<module>\u001b[1;34m\u001b[0m\n\u001b[0;32m     19\u001b[0m \u001b[1;33m\u001b[0m\u001b[0m\n\u001b[0;32m     20\u001b[0m \u001b[1;33m\u001b[0m\u001b[0m\n\u001b[1;32m---> 21\u001b[1;33m \u001b[0mtest_DTree_fit_text_string\u001b[0m\u001b[1;33m(\u001b[0m\u001b[1;33m)\u001b[0m\u001b[1;33m\u001b[0m\u001b[1;33m\u001b[0m\u001b[0m\n\u001b[0m",
      "\u001b[1;32m~\\AppData\\Local\\Temp\\ipykernel_23960\\2721095106.py\u001b[0m in \u001b[0;36mtest_DTree_fit_text_string\u001b[1;34m()\u001b[0m\n\u001b[0;32m     16\u001b[0m \u001b[1;33m|\u001b[0m   \u001b[1;33m|\u001b[0m\u001b[1;33m-\u001b[0m\u001b[1;33m-\u001b[0m\u001b[1;33m-\u001b[0m\u001b[0mnub_loose\u001b[0m \u001b[1;33m=\u001b[0m \u001b[0myes\u001b[0m\u001b[1;33m\u001b[0m\u001b[1;33m\u001b[0m\u001b[0m\n\u001b[0;32m     17\u001b[0m \u001b[1;33m|\u001b[0m   \u001b[1;33m|\u001b[0m   \u001b[1;33m|\u001b[0m\u001b[1;33m-\u001b[0m\u001b[1;33m-\u001b[0m\u001b[1;33m-\u001b[0m\u001b[1;36m1\u001b[0m \u001b[1;33m(\u001b[0m\u001b[1;36m3\u001b[0m\u001b[1;33m)\u001b[0m\u001b[1;33m\u001b[0m\u001b[1;33m\u001b[0m\u001b[0m\n\u001b[1;32m---> 18\u001b[1;33m \"\"\"), \"The tree should look like this\"\n\u001b[0m\u001b[0;32m     19\u001b[0m \u001b[1;33m\u001b[0m\u001b[0m\n\u001b[0;32m     20\u001b[0m \u001b[1;33m\u001b[0m\u001b[0m\n",
      "\u001b[1;31mAssertionError\u001b[0m: The tree should look like this"
     ]
    }
   ],
   "source": [
    "def test_DTree_fit_text_string():\n",
    "    \"\"\" Check if we've learned the RIGHT model \"\"\"\n",
    "    X = avocados.iloc[:, :-1]\n",
    "    y = avocados.iloc[:, -1]\n",
    "    model = DTree(metric=minority_class)\n",
    "    model.fit(X, y)\n",
    "    text = model.to_text()\n",
    "    print(text)\n",
    "    # Compare the text that you actually got to what it should be:\n",
    "    assert '\\n'+text == (\"\"\"\n",
    "|---firmness = no\n",
    "|   |---0 (2)\n",
    "|---firmness = yes\n",
    "|   |---nub_loose = no\n",
    "|   |   |---0 (3)\n",
    "|   |---nub_loose = yes\n",
    "|   |   |---1 (3)\n",
    "\"\"\"), \"The tree should look like this\"\n",
    "    \n",
    "    \n",
    "test_DTree_fit_text_string()"
   ]
  },
  {
   "cell_type": "markdown",
   "metadata": {
    "id": "tdYQy_gS8emK"
   },
   "source": [
    "A few notes about the class model shown above:\n",
    "* The appproach in this code is similar to algorithms 5.1 and 5.2 in the book by Peter Flach. Algorith 5.1 (GrowTree) corresponds loosely to `fit`, and algorithm 5.2 (BestSplit) corresponds to `_best_split`.\n",
    "* We implemented several of the components for you. This will be a \"fill in the blanks\" exercise. We already did `__init__`, `to_text` and `to_graphviz`. The init method sets the stage for the variables you need to use to build the tree. The other methods help you visualize what you're doing - you can use them to see if you're on the right track.\n",
    "* We will make use of recursion, because we don't know ahead of time how big a tree will need. After all, we want to be able to use our decision tree algorithm on any dataset!\n",
    "\n",
    "    We will do this by making the class just one node of a decision tree, but with the potential to have a Yes and No subtree. That way we use the definition of the Tree kind of datastructure, which says that the subtree of a tree is also a tree. So if the root DTree node splits, then the Yes and No side of it will also be DTree nodes, which might then get children of their own. All the way down, until we only have leaf nodes that aren't profitable to split anymore.\n",
    "\n",
    "* Implementing a class all at once can be hard. We've split up the task by making unit tests to test the steps one by one. You can use them to gradually develop your code:\n",
    "\n",
    "    1. `test_DTree_best_split` to develop the `_best_split` method that you'll need for your `fit` method.\n",
    "    2. `test_DTree_fit_basics` Before you even begin to decide whether to split the node, you have to record some information in the node.\n",
    "    3. `test_DTree_fit_children` If the node is split, then the Yes and No sides both should have a new node attached to it.\n",
    "    4. `test_DTree_fit_recursively_children` This takes the idea of the previous test, but now applies it recursively. If a node is split then its children should be nodes. And if those nodes are split, then *their* children should also be nodes. All the way until you get to nodes that aren't split.\n",
    "    5. `test_DTree_fit_recursively_child_labels` With the previous test we established that our tree consists of branching nodes that go Yes and No, or leaf nodes that don't split. Now we can go down the tree to check if all the nodes have a label.\n",
    "    6. `test_DTree_fit_recursively_decreasing_impurity` We should only be splitting if that results in a lower weighed impurity of the child nodes than that of the parent nodes. With this test we evaluate that recursively.\n",
    "    7. `test_DTree_fit_text_string` We output the model as a text string using the `to_text` method and check if it's the same as what we expect.\n",
    "\n",
    "* You may want to re-read the section in Lab1 about how to select rows in a Pandas DataFrame according to a condition (like the value in a feature column).\n",
    "\n",
    "* If you got stuck on designing a Gini and Entropy impurity measures in the exercises above, just focus on the parts of this exercise that use the minority_class impurity measure.\n",
    "\n",
    "* If you're a bit unsure about how to use `self` when desigining Python classes, there are many [articles](https://www.programiz.com/article/python-self-why) explaining why you see this word everywhere. Very, very broadly: it's just something that you include as an argument when designing a function, but you don't actually pass anything to it (that gets done for you automatically). You directly use it when you want to use something from *that instance* of the class. In this exercise for example, you're making multiple `DTree` objects. When you use a method from one of them and it uses `self.variable` to grab some variable, it's grabbing the variable from the same object as the method you're using."
   ]
  },
  {
   "cell_type": "markdown",
   "metadata": {
    "id": "yv9PmXAmozP5"
   },
   "source": [
    "#### Exercise 3: implement `_best_split`"
   ]
  },
  {
   "cell_type": "markdown",
   "metadata": {
    "id": "LQ93FxzKpf4-"
   },
   "source": [
    "First you should implement the `_best_split` method. The purpose of this method is to walk through all the available features that you *could* split on, and figure out for each of them how much the weighted impurity would be. Then, you return the name and weighted impurity of the best one. Since impurity is bad, that means the lowest weighted impurity.\n",
    "\n",
    "Weighted impurity means you compute the impurity for the Yes branch and weigh it by how many of the samples go into the Yes branch, and compute the impurity on the No branch and weigh it by how many of the samples go into the No branch, and then add them together."
   ]
  },
  {
   "cell_type": "markdown",
   "metadata": {
    "id": "SyiOtt5D67nB"
   },
   "source": [
    "Use this dataset for the unit tests:"
   ]
  },
  {
   "cell_type": "code",
   "execution_count": 963,
   "metadata": {
    "id": "JppujMcs6_Pj"
   },
   "outputs": [],
   "source": [
    "# A toy dataset about judging the ripeness of avocados\n",
    "avocados = pd.DataFrame(data={\n",
    "        'green':     [1, 1, 1, 1, 0, 0, 0, 0],\n",
    "        'brown':     [1, 1, 0, 1, 1, 1, 0, 1],\n",
    "        'firmness':  [1, 1, 0, 1, 1, 0, 1, 1],\n",
    "        'softness':  [0, 1, 1, 1, 1, 1, 1, 1],\n",
    "        'nub_loose': [0, 1, 1, 1, 0, 1, 1, 0],\n",
    "        'ripe':      [0, 1, 0, 1, 0, 0, 1, 1]\n",
    "})\n"
   ]
  },
  {
   "cell_type": "markdown",
   "metadata": {
    "id": "qcaifRHC7Lrb"
   },
   "source": [
    "And then work on it until it passes these unit tests:"
   ]
  },
  {
   "cell_type": "code",
   "execution_count": 964,
   "metadata": {
    "id": "ijMwdl1C6XzO"
   },
   "outputs": [
    {
     "name": "stdout",
     "output_type": "stream",
     "text": [
      "firmness 0.25\n"
     ]
    }
   ],
   "source": [
    "def test_DTree_best_split_minority():\n",
    "    # Using minority class\n",
    "    model = DTree(metric=minority_class)\n",
    "    X = avocados.iloc[:, :-1]\n",
    "    y = avocados.iloc[:, -1]\n",
    "    feature, impurity = model._best_split(X, y)\n",
    "    print(feature, impurity)\n",
    "    assert feature == 'firmness'\n",
    "    assert impurity == 0.25\n",
    "    \n",
    "\n",
    "test_DTree_best_split_minority()"
   ]
  },
  {
   "cell_type": "code",
   "execution_count": 965,
   "metadata": {
    "id": "OWgS6wZf7Vy4"
   },
   "outputs": [],
   "source": [
    "def test_DTree_best_split_gini():\n",
    "    # Using gini\n",
    "    model = DTree(metric=gini)\n",
    "    X = avocados.iloc[:, :-1]\n",
    "    y = avocados.iloc[:, -1]\n",
    "    feature, impurity = model._best_split(X, y)\n",
    "    assert feature == 'firmness'\n",
    "    assert 0.33 < impurity < 0.34\n",
    "    \n",
    "\n",
    "test_DTree_best_split_gini()"
   ]
  },
  {
   "cell_type": "code",
   "execution_count": 966,
   "metadata": {
    "id": "PJXFXuti7V7o"
   },
   "outputs": [],
   "source": [
    "def test_DTree_best_split_entropy():\n",
    "    # Using entropy\n",
    "    model = DTree(metric=entropy)\n",
    "    X = avocados.iloc[:, [0, 1, 3, 4]]  # leave out firmness as feature\n",
    "    y = avocados.iloc[:, -1]\n",
    "    feature, impurity = model._best_split(X, y)\n",
    "    assert feature == 'softness'\n",
    "    assert 0.86 < impurity < 0.87\n",
    "\n",
    "    \n",
    "test_DTree_best_split_entropy()"
   ]
  },
  {
   "cell_type": "markdown",
   "metadata": {
    "id": "yd16UWlw7kAW"
   },
   "source": [
    "If you look carefully, you notice that when we initialize the model in these tests, we write `model = DTree(metric=minority_class)`, and similarily for `model = DTree(metric=gini)` and also for entropy.\n",
    "\n",
    "Although `minority_class(labels)` is a function, we don't write the parentheses and argument. This is because we're passing in the function *itself*, not the outcome of using it.\n",
    "\n",
    "This is easy in Python because functions are objects, just like integers, floats, lists and so forth. It allows us to easily configure how our code will work at runtime. If we come up with a new impurity measure, we don't have to change our DTree class, we just pass in the new function as an argument when initializing a new model. In some programming languages this technique is called *dependency injection*, and considered a very sophisticated design pattern. It's easy in Python though, but pretty useful. \n",
    "\n",
    "But you have to be careful because if you accidentally add then (), your code will not work correctly. Many tab-completion editors will tend to add the () when passing a function as argument like this, so keep an eye out!"
   ]
  },
  {
   "cell_type": "markdown",
   "metadata": {
    "id": "p312J3lxo2vq"
   },
   "source": [
    "#### Exercise 4: implement `fit`"
   ]
  },
  {
   "cell_type": "markdown",
   "metadata": {
    "id": "SvXRWdAO_OT7"
   },
   "source": [
    "Now implement the `fit` method. The fitting process has two parts to it: fitting the current node, and maybe splitting it to have two child nodes. \n",
    "\n",
    "The first unit test is only considered with the first part:"
   ]
  },
  {
   "cell_type": "code",
   "execution_count": 967,
   "metadata": {
    "id": "LxXw5qne-r90"
   },
   "outputs": [],
   "source": [
    "def test_DTree_fit_basics():\n",
    "        \"\"\"\" Check if the fit function filled in these values \"\"\"\n",
    "        X = avocados.iloc[:, :-1]\n",
    "        y = avocados.iloc[:, -1]\n",
    "        model = DTree(metric=minority_class)\n",
    "        assert model._label is None, \"Before fitting, this should not be set yet.\"\n",
    "        assert model._impurity is None, \"Before fitting, this should not be set yet.\"\n",
    "        assert model._samples is None, \"Before fitting, this should not be set yet.\"\n",
    "        assert len(model._distribution) == 0, \"Before fitting, this should not be set yet.\"\n",
    "        model.fit(X, y)\n",
    "        assert model._label is not None, \"After fitting, we should know the majority label in the top node\"\n",
    "        assert model._impurity is not None, \"After fitting, we should know the impurity in the top node\"\n",
    "        assert isinstance(model._samples, int), \"After fitting, this count how many training samples reached this node\"\n",
    "        assert len(model._distribution) > 0, \"After fitting, this should store the frequency of each class in the node\"\n",
    "    \n",
    "    \n",
    "test_DTree_fit_basics()"
   ]
  },
  {
   "cell_type": "markdown",
   "metadata": {
    "id": "f7kiTkeB_zce"
   },
   "source": [
    "Using the avocado mini-dataset, the root node should be split because your `_best_split` method should have found a feature that has a lower weighed impurity than leaving things just as they are as a single node. So this test checks if the root node is split and has DTree child nodes:"
   ]
  },
  {
   "cell_type": "code",
   "execution_count": 968,
   "metadata": {
    "id": "fX8hLhjJ_tv9"
   },
   "outputs": [],
   "source": [
    "def test_DTree_fit_children():\n",
    "    \"\"\" Check if the root node has split (it should) and has child nodes \"\"\"\n",
    "    X = avocados.iloc[:, :-1]\n",
    "    y = avocados.iloc[:, -1]\n",
    "    model = DTree(metric=minority_class)\n",
    "    assert model._split is False, \"Before fitting, this should not be set yet.\"\n",
    "    assert model._yes is None, \"Before fitting, this should not be set yet.\"\n",
    "    assert model._no is None, \"Before fitting, this should not be set yet.\"\n",
    "    model.fit(X, y)\n",
    "    assert model._split is not False, \"After fitting, the top node should have split\"\n",
    "    assert isinstance(model._yes, DTree), \"The Yes child node should be a subtree\"\n",
    "    assert isinstance(model._no, DTree), \"The No child node should be a subtree\"\n",
    "    \n",
    "    \n",
    "test_DTree_fit_children()"
   ]
  },
  {
   "cell_type": "markdown",
   "metadata": {
    "id": "VpMvWfQaAJxa"
   },
   "source": [
    "Now the idea is that you make these child nodes, and then also fit them, and they might get child nodes in turn. Any time a node is split, the `_yes` and `_no` side of it should be DTrees."
   ]
  },
  {
   "cell_type": "code",
   "execution_count": 969,
   "metadata": {
    "id": "plbj-ID5_sL6"
   },
   "outputs": [],
   "source": [
    "def test_DTree_fit_recusively_children():\n",
    "    \"\"\" Check recursively if each node is either a leaf, or split and has two children \"\"\"\n",
    "    def recursive(model):\n",
    "        if model._split:\n",
    "            assert isinstance(model._yes, DTree), \"The Yes child node should be a subtree\"\n",
    "            assert isinstance(model._no, DTree), \"The No child node should be a subtree\"\n",
    "            recursive(model._yes)\n",
    "            recursive(model._no)\n",
    "    X = avocados.iloc[:, :-1]\n",
    "    y = avocados.iloc[:, -1]\n",
    "    model = DTree(metric=minority_class)\n",
    "    model.fit(X, y)\n",
    "    recursive(model)\n",
    "    \n",
    "    \n",
    "test_DTree_fit_recusively_children()"
   ]
  },
  {
   "cell_type": "markdown",
   "metadata": {
    "id": "NlXlred9Aa92"
   },
   "source": [
    "Each node should be labeled, not only the leaf nodes."
   ]
  },
  {
   "cell_type": "code",
   "execution_count": 970,
   "metadata": {
    "id": "mOlBeZHo_o2G"
   },
   "outputs": [],
   "source": [
    "def test_DTree_fit_recusively_child_labels():\n",
    "    \"\"\" Check recursively if each node is labeled \"\"\"\n",
    "    def recursive(model):\n",
    "        assert model._label is not None, \"Each node should be labeled.\"\n",
    "        if model._split:\n",
    "            recursive(model._yes)\n",
    "            recursive(model._no)\n",
    "    X = avocados.iloc[:, :-1]\n",
    "    y = avocados.iloc[:, -1]\n",
    "    model = DTree(metric=minority_class)\n",
    "    model.fit(X, y)\n",
    "    recursive(model)\n",
    "    \n",
    "    \n",
    "test_DTree_fit_recusively_child_labels()"
   ]
  },
  {
   "cell_type": "markdown",
   "metadata": {
    "id": "SwVRPYkwAtmT"
   },
   "source": [
    "Splits should only happen if the weighed impurity of the children is lower than that of the parent:"
   ]
  },
  {
   "cell_type": "code",
   "execution_count": 971,
   "metadata": {
    "id": "zi3QrIy3_mZq"
   },
   "outputs": [],
   "source": [
    "def test_DTree_fit_recusively_decreasing_impurity():\n",
    "    \"\"\" Check if the weighted impurity of children is always lower than that of the parent \"\"\"\n",
    "    def recursive_impurity(model):\n",
    "        if model._split:\n",
    "            yes_impurity, yes_samples = recursive_impurity(model._yes)\n",
    "            no_impurity, no_samples = recursive_impurity(model._no)\n",
    "            weighted_impurity = (yes_impurity * yes_samples) + (no_impurity * no_samples)\n",
    "            assert weighted_impurity < (model._impurity * model._samples), (\n",
    "                \"The weighted impurity of the children should be smaller than the parent\")\n",
    "        return model._impurity, model._samples\n",
    "    X = avocados.iloc[:, :-1]\n",
    "    y = avocados.iloc[:, -1]\n",
    "    model = DTree(metric=minority_class)\n",
    "    model.fit(X, y)\n",
    "    recursive_impurity(model)\n",
    "    \n",
    "    \n",
    "test_DTree_fit_recusively_decreasing_impurity()"
   ]
  },
  {
   "cell_type": "markdown",
   "metadata": {
    "id": "s8BDJi0iA0EQ"
   },
   "source": [
    "Now we output the model we learned of these avocados as a text string, and compare it against what it *should* be:"
   ]
  },
  {
   "cell_type": "code",
   "execution_count": 972,
   "metadata": {
    "id": "tWOdOOzU_kq9"
   },
   "outputs": [
    {
     "name": "stdout",
     "output_type": "stream",
     "text": [
      "|---firmness = no\n",
      "|   |---0 (2)\n",
      "|---firmness = yes\n",
      "|   |---nub_loose = no\n",
      "|   |   |---0 (3)\n",
      "|   |---nub_loose = yes\n",
      "|   |   |---2 (3)\n",
      "\n"
     ]
    },
    {
     "ename": "AssertionError",
     "evalue": "The tree should look like this",
     "output_type": "error",
     "traceback": [
      "\u001b[1;31m---------------------------------------------------------------------------\u001b[0m",
      "\u001b[1;31mAssertionError\u001b[0m                            Traceback (most recent call last)",
      "\u001b[1;32m~\\AppData\\Local\\Temp\\ipykernel_23960\\2721095106.py\u001b[0m in \u001b[0;36m<module>\u001b[1;34m\u001b[0m\n\u001b[0;32m     19\u001b[0m \u001b[1;33m\u001b[0m\u001b[0m\n\u001b[0;32m     20\u001b[0m \u001b[1;33m\u001b[0m\u001b[0m\n\u001b[1;32m---> 21\u001b[1;33m \u001b[0mtest_DTree_fit_text_string\u001b[0m\u001b[1;33m(\u001b[0m\u001b[1;33m)\u001b[0m\u001b[1;33m\u001b[0m\u001b[1;33m\u001b[0m\u001b[0m\n\u001b[0m",
      "\u001b[1;32m~\\AppData\\Local\\Temp\\ipykernel_23960\\2721095106.py\u001b[0m in \u001b[0;36mtest_DTree_fit_text_string\u001b[1;34m()\u001b[0m\n\u001b[0;32m     16\u001b[0m \u001b[1;33m|\u001b[0m   \u001b[1;33m|\u001b[0m\u001b[1;33m-\u001b[0m\u001b[1;33m-\u001b[0m\u001b[1;33m-\u001b[0m\u001b[0mnub_loose\u001b[0m \u001b[1;33m=\u001b[0m \u001b[0myes\u001b[0m\u001b[1;33m\u001b[0m\u001b[1;33m\u001b[0m\u001b[0m\n\u001b[0;32m     17\u001b[0m \u001b[1;33m|\u001b[0m   \u001b[1;33m|\u001b[0m   \u001b[1;33m|\u001b[0m\u001b[1;33m-\u001b[0m\u001b[1;33m-\u001b[0m\u001b[1;33m-\u001b[0m\u001b[1;36m1\u001b[0m \u001b[1;33m(\u001b[0m\u001b[1;36m3\u001b[0m\u001b[1;33m)\u001b[0m\u001b[1;33m\u001b[0m\u001b[1;33m\u001b[0m\u001b[0m\n\u001b[1;32m---> 18\u001b[1;33m \"\"\"), \"The tree should look like this\"\n\u001b[0m\u001b[0;32m     19\u001b[0m \u001b[1;33m\u001b[0m\u001b[0m\n\u001b[0;32m     20\u001b[0m \u001b[1;33m\u001b[0m\u001b[0m\n",
      "\u001b[1;31mAssertionError\u001b[0m: The tree should look like this"
     ]
    }
   ],
   "source": [
    "def test_DTree_fit_text_string():\n",
    "    \"\"\" Check if we've learned the RIGHT model \"\"\"\n",
    "    X = avocados.iloc[:, :-1]\n",
    "    y = avocados.iloc[:, -1]\n",
    "    model = DTree(metric=minority_class)\n",
    "    model.fit(X, y)\n",
    "    text = model.to_text()\n",
    "    print(text)\n",
    "    # Compare the text that you actually got to what it should be:\n",
    "    assert '\\n'+text == (\"\"\"\n",
    "|---firmness = no\n",
    "|   |---0 (2)\n",
    "|---firmness = yes\n",
    "|   |---nub_loose = no\n",
    "|   |   |---0 (3)\n",
    "|   |---nub_loose = yes\n",
    "|   |   |---1 (3)\n",
    "\"\"\"), \"The tree should look like this\"\n",
    "    \n",
    "    \n",
    "test_DTree_fit_text_string()"
   ]
  },
  {
   "cell_type": "markdown",
   "metadata": {
    "id": "eZ0fn_g5eUwN"
   },
   "source": [
    "### Let's put our new decision tree to the test."
   ]
  },
  {
   "cell_type": "code",
   "execution_count": 978,
   "metadata": {
    "id": "YmwD-m_UePjW"
   },
   "outputs": [
    {
     "name": "stdout",
     "output_type": "stream",
     "text": [
      "ID\n",
      "0            Mammal\n",
      "1            Mammal\n",
      "2              Fish\n",
      "3            Mammal\n",
      "4            Mammal\n",
      "           ...     \n",
      "96           Mammal\n",
      "97              Bug\n",
      "98           Mammal\n",
      "99     Invertebrate\n",
      "100            Bird\n",
      "Name: type, Length: 101, dtype: object\n"
     ]
    },
    {
     "data": {
      "text/plain": [
       "DecisionTreeClassifier()"
      ]
     },
     "execution_count": 978,
     "metadata": {},
     "output_type": "execute_result"
    }
   ],
   "source": [
    "# Dataset adapted from https://archive.ics.uci.edu/ml/datasets/Zoo\n",
    "url = 'https://raw.githubusercontent.com/MLCourse-LU/Datasets/main/zoo.csv'\n",
    "df = pd.read_csv(filepath_or_buffer=url, header=0, index_col=0)\n",
    "\n",
    "X = df.iloc[:, 1:-1]  # column 0 has the animal names, the last column has the labels\n",
    "y = df.iloc[:, -1]  # use the last column as labels\n",
    "print(y)\n",
    "\n",
    "#model = DTree(metric=minority_class)\n",
    "model = DecisionTreeClassifier()\n",
    "model.fit(X, y) \n",
    "# model = DTree(metric=gini)\n",
    "#model.fit(X, y)"
   ]
  },
  {
   "cell_type": "code",
   "execution_count": 981,
   "metadata": {
    "colab": {
     "base_uri": "https://localhost:8080/"
    },
    "id": "ZrnWHRKwg0Dt",
    "outputId": "b70265ca-f7af-415b-eba8-1be81824b79e"
   },
   "outputs": [
    {
     "name": "stdout",
     "output_type": "stream",
     "text": [
      "|--- milk <= 0.50\n",
      "|   |--- feathers <= 0.50\n",
      "|   |   |--- fins <= 0.50\n",
      "|   |   |   |--- backbone <= 0.50\n",
      "|   |   |   |   |--- airborne <= 0.50\n",
      "|   |   |   |   |   |--- predator <= 0.50\n",
      "|   |   |   |   |   |   |--- legs <= 0.50\n",
      "|   |   |   |   |   |   |   |--- class: Invertebrate\n",
      "|   |   |   |   |   |   |--- legs >  0.50\n",
      "|   |   |   |   |   |   |   |--- class: Bug\n",
      "|   |   |   |   |   |--- predator >  0.50\n",
      "|   |   |   |   |   |   |--- class: Invertebrate\n",
      "|   |   |   |   |--- airborne >  0.50\n",
      "|   |   |   |   |   |--- class: Bug\n",
      "|   |   |   |--- backbone >  0.50\n",
      "|   |   |   |   |--- aquatic <= 0.50\n",
      "|   |   |   |   |   |--- class: Reptile\n",
      "|   |   |   |   |--- aquatic >  0.50\n",
      "|   |   |   |   |   |--- legs <= 0.50\n",
      "|   |   |   |   |   |   |--- class: Reptile\n",
      "|   |   |   |   |   |--- legs >  0.50\n",
      "|   |   |   |   |   |   |--- class: Amphibian\n",
      "|   |   |--- fins >  0.50\n",
      "|   |   |   |--- class: Fish\n",
      "|   |--- feathers >  0.50\n",
      "|   |   |--- class: Bird\n",
      "|--- milk >  0.50\n",
      "|   |--- class: Mammal\n",
      "\n"
     ]
    }
   ],
   "source": [
    "# Show it in text\n",
    "#print(model.to_text())\n",
    "print(export_text(model, feature_names=fn))"
   ]
  },
  {
   "cell_type": "code",
   "execution_count": 1008,
   "metadata": {
    "colab": {
     "base_uri": "https://localhost:8080/",
     "height": 980
    },
    "id": "zPd-codPee5X",
    "outputId": "f48b03bc-3b16-43cc-8fc5-edb17acdcba0",
    "scrolled": true
   },
   "outputs": [
    {
     "data": {
      "image/svg+xml": [
       "<?xml version=\"1.0\" encoding=\"UTF-8\" standalone=\"no\"?>\r\n",
       "<!DOCTYPE svg PUBLIC \"-//W3C//DTD SVG 1.1//EN\"\r\n",
       " \"http://www.w3.org/Graphics/SVG/1.1/DTD/svg11.dtd\">\r\n",
       "<!-- Generated by graphviz version 2.47.0 (0)\r\n",
       " -->\r\n",
       "<!-- Title: Tree Pages: 1 -->\r\n",
       "<svg width=\"710pt\" height=\"909pt\"\r\n",
       " viewBox=\"0.00 0.00 710.00 909.00\" xmlns=\"http://www.w3.org/2000/svg\" xmlns:xlink=\"http://www.w3.org/1999/xlink\">\r\n",
       "<g id=\"graph0\" class=\"graph\" transform=\"scale(1 1) rotate(0) translate(4 905)\">\r\n",
       "<title>Tree</title>\r\n",
       "<polygon fill=\"white\" stroke=\"transparent\" points=\"-4,4 -4,-905 706,-905 706,4 -4,4\"/>\r\n",
       "<!-- 0 -->\r\n",
       "<g id=\"node1\" class=\"node\">\r\n",
       "<title>0</title>\r\n",
       "<polygon fill=\"#e5d6fa\" stroke=\"black\" points=\"522,-901 346,-901 346,-818 522,-818 522,-901\"/>\r\n",
       "<text text-anchor=\"middle\" x=\"434\" y=\"-885.8\" font-family=\"Helvetica,sans-Serif\" font-size=\"14.00\">eggs &lt;= 0.5</text>\r\n",
       "<text text-anchor=\"middle\" x=\"434\" y=\"-870.8\" font-family=\"Helvetica,sans-Serif\" font-size=\"14.00\">gini = 0.766</text>\r\n",
       "<text text-anchor=\"middle\" x=\"434\" y=\"-855.8\" font-family=\"Helvetica,sans-Serif\" font-size=\"14.00\">samples = 50</text>\r\n",
       "<text text-anchor=\"middle\" x=\"434\" y=\"-840.8\" font-family=\"Helvetica,sans-Serif\" font-size=\"14.00\">value = [11, 4, 6, 6, 19, 4]</text>\r\n",
       "<text text-anchor=\"middle\" x=\"434\" y=\"-825.8\" font-family=\"Helvetica,sans-Serif\" font-size=\"14.00\">class = Invertebrate</text>\r\n",
       "</g>\r\n",
       "<!-- 1 -->\r\n",
       "<g id=\"node2\" class=\"node\">\r\n",
       "<title>1</title>\r\n",
       "<polygon fill=\"#8139e5\" stroke=\"black\" points=\"425,-774.5 257,-774.5 257,-706.5 425,-706.5 425,-774.5\"/>\r\n",
       "<text text-anchor=\"middle\" x=\"341\" y=\"-759.3\" font-family=\"Helvetica,sans-Serif\" font-size=\"14.00\">gini = 0.0</text>\r\n",
       "<text text-anchor=\"middle\" x=\"341\" y=\"-744.3\" font-family=\"Helvetica,sans-Serif\" font-size=\"14.00\">samples = 19</text>\r\n",
       "<text text-anchor=\"middle\" x=\"341\" y=\"-729.3\" font-family=\"Helvetica,sans-Serif\" font-size=\"14.00\">value = [0, 0, 0, 0, 19, 0]</text>\r\n",
       "<text text-anchor=\"middle\" x=\"341\" y=\"-714.3\" font-family=\"Helvetica,sans-Serif\" font-size=\"14.00\">class = Invertebrate</text>\r\n",
       "</g>\r\n",
       "<!-- 0&#45;&gt;1 -->\r\n",
       "<g id=\"edge1\" class=\"edge\">\r\n",
       "<title>0&#45;&gt;1</title>\r\n",
       "<path fill=\"none\" stroke=\"black\" d=\"M401.73,-817.91C392.7,-806.54 382.87,-794.18 373.81,-782.77\"/>\r\n",
       "<polygon fill=\"black\" stroke=\"black\" points=\"376.33,-780.32 367.36,-774.67 370.85,-784.67 376.33,-780.32\"/>\r\n",
       "<text text-anchor=\"middle\" x=\"364.52\" y=\"-795.81\" font-family=\"Helvetica,sans-Serif\" font-size=\"14.00\">True</text>\r\n",
       "</g>\r\n",
       "<!-- 2 -->\r\n",
       "<g id=\"node3\" class=\"node\">\r\n",
       "<title>2</title>\r\n",
       "<polygon fill=\"#fae6d7\" stroke=\"black\" points=\"611,-782 443,-782 443,-699 611,-699 611,-782\"/>\r\n",
       "<text text-anchor=\"middle\" x=\"527\" y=\"-766.8\" font-family=\"Helvetica,sans-Serif\" font-size=\"14.00\">feathers &lt;= 0.5</text>\r\n",
       "<text text-anchor=\"middle\" x=\"527\" y=\"-751.8\" font-family=\"Helvetica,sans-Serif\" font-size=\"14.00\">gini = 0.766</text>\r\n",
       "<text text-anchor=\"middle\" x=\"527\" y=\"-736.8\" font-family=\"Helvetica,sans-Serif\" font-size=\"14.00\">samples = 31</text>\r\n",
       "<text text-anchor=\"middle\" x=\"527\" y=\"-721.8\" font-family=\"Helvetica,sans-Serif\" font-size=\"14.00\">value = [11, 4, 6, 6, 0, 4]</text>\r\n",
       "<text text-anchor=\"middle\" x=\"527\" y=\"-706.8\" font-family=\"Helvetica,sans-Serif\" font-size=\"14.00\">class = Amphibian</text>\r\n",
       "</g>\r\n",
       "<!-- 0&#45;&gt;2 -->\r\n",
       "<g id=\"edge2\" class=\"edge\">\r\n",
       "<title>0&#45;&gt;2</title>\r\n",
       "<path fill=\"none\" stroke=\"black\" d=\"M466.27,-817.91C473.41,-808.92 481.04,-799.32 488.41,-790.05\"/>\r\n",
       "<polygon fill=\"black\" stroke=\"black\" points=\"491.31,-792.03 494.79,-782.02 485.83,-787.67 491.31,-792.03\"/>\r\n",
       "<text text-anchor=\"middle\" x=\"497.63\" y=\"-803.16\" font-family=\"Helvetica,sans-Serif\" font-size=\"14.00\">False</text>\r\n",
       "</g>\r\n",
       "<!-- 3 -->\r\n",
       "<g id=\"node4\" class=\"node\">\r\n",
       "<title>3</title>\r\n",
       "<polygon fill=\"#ffffff\" stroke=\"black\" points=\"516,-663 356,-663 356,-580 516,-580 516,-663\"/>\r\n",
       "<text text-anchor=\"middle\" x=\"436\" y=\"-647.8\" font-family=\"Helvetica,sans-Serif\" font-size=\"14.00\">fins &lt;= 0.5</text>\r\n",
       "<text text-anchor=\"middle\" x=\"436\" y=\"-632.8\" font-family=\"Helvetica,sans-Serif\" font-size=\"14.00\">gini = 0.74</text>\r\n",
       "<text text-anchor=\"middle\" x=\"436\" y=\"-617.8\" font-family=\"Helvetica,sans-Serif\" font-size=\"14.00\">samples = 20</text>\r\n",
       "<text text-anchor=\"middle\" x=\"436\" y=\"-602.8\" font-family=\"Helvetica,sans-Serif\" font-size=\"14.00\">value = [0, 4, 6, 6, 0, 4]</text>\r\n",
       "<text text-anchor=\"middle\" x=\"436\" y=\"-587.8\" font-family=\"Helvetica,sans-Serif\" font-size=\"14.00\">class = Bug</text>\r\n",
       "</g>\r\n",
       "<!-- 2&#45;&gt;3 -->\r\n",
       "<g id=\"edge3\" class=\"edge\">\r\n",
       "<title>2&#45;&gt;3</title>\r\n",
       "<path fill=\"none\" stroke=\"black\" d=\"M495.43,-698.91C488.44,-689.92 480.97,-680.32 473.76,-671.05\"/>\r\n",
       "<polygon fill=\"black\" stroke=\"black\" points=\"476.42,-668.77 467.52,-663.02 470.89,-673.06 476.42,-668.77\"/>\r\n",
       "</g>\r\n",
       "<!-- 14 -->\r\n",
       "<g id=\"node15\" class=\"node\">\r\n",
       "<title>14</title>\r\n",
       "<polygon fill=\"#e58139\" stroke=\"black\" points=\"702,-655.5 534,-655.5 534,-587.5 702,-587.5 702,-655.5\"/>\r\n",
       "<text text-anchor=\"middle\" x=\"618\" y=\"-640.3\" font-family=\"Helvetica,sans-Serif\" font-size=\"14.00\">gini = 0.0</text>\r\n",
       "<text text-anchor=\"middle\" x=\"618\" y=\"-625.3\" font-family=\"Helvetica,sans-Serif\" font-size=\"14.00\">samples = 11</text>\r\n",
       "<text text-anchor=\"middle\" x=\"618\" y=\"-610.3\" font-family=\"Helvetica,sans-Serif\" font-size=\"14.00\">value = [11, 0, 0, 0, 0, 0]</text>\r\n",
       "<text text-anchor=\"middle\" x=\"618\" y=\"-595.3\" font-family=\"Helvetica,sans-Serif\" font-size=\"14.00\">class = Amphibian</text>\r\n",
       "</g>\r\n",
       "<!-- 2&#45;&gt;14 -->\r\n",
       "<g id=\"edge14\" class=\"edge\">\r\n",
       "<title>2&#45;&gt;14</title>\r\n",
       "<path fill=\"none\" stroke=\"black\" d=\"M558.57,-698.91C567.41,-687.54 577.03,-675.18 585.9,-663.77\"/>\r\n",
       "<polygon fill=\"black\" stroke=\"black\" points=\"588.83,-665.71 592.2,-655.67 583.3,-661.41 588.83,-665.71\"/>\r\n",
       "</g>\r\n",
       "<!-- 4 -->\r\n",
       "<g id=\"node5\" class=\"node\">\r\n",
       "<title>4</title>\r\n",
       "<polygon fill=\"#d7ebfa\" stroke=\"black\" points=\"427,-544 267,-544 267,-461 427,-461 427,-544\"/>\r\n",
       "<text text-anchor=\"middle\" x=\"347\" y=\"-528.8\" font-family=\"Helvetica,sans-Serif\" font-size=\"14.00\">backbone &lt;= 0.5</text>\r\n",
       "<text text-anchor=\"middle\" x=\"347\" y=\"-513.8\" font-family=\"Helvetica,sans-Serif\" font-size=\"14.00\">gini = 0.653</text>\r\n",
       "<text text-anchor=\"middle\" x=\"347\" y=\"-498.8\" font-family=\"Helvetica,sans-Serif\" font-size=\"14.00\">samples = 14</text>\r\n",
       "<text text-anchor=\"middle\" x=\"347\" y=\"-483.8\" font-family=\"Helvetica,sans-Serif\" font-size=\"14.00\">value = [0, 4, 0, 6, 0, 4]</text>\r\n",
       "<text text-anchor=\"middle\" x=\"347\" y=\"-468.8\" font-family=\"Helvetica,sans-Serif\" font-size=\"14.00\">class = Fish</text>\r\n",
       "</g>\r\n",
       "<!-- 3&#45;&gt;4 -->\r\n",
       "<g id=\"edge4\" class=\"edge\">\r\n",
       "<title>3&#45;&gt;4</title>\r\n",
       "<path fill=\"none\" stroke=\"black\" d=\"M405.12,-579.91C398.29,-570.92 390.98,-561.32 383.93,-552.05\"/>\r\n",
       "<polygon fill=\"black\" stroke=\"black\" points=\"386.66,-549.86 377.82,-544.02 381.09,-554.1 386.66,-549.86\"/>\r\n",
       "</g>\r\n",
       "<!-- 13 -->\r\n",
       "<g id=\"node14\" class=\"node\">\r\n",
       "<title>13</title>\r\n",
       "<polygon fill=\"#39e581\" stroke=\"black\" points=\"605,-536.5 445,-536.5 445,-468.5 605,-468.5 605,-536.5\"/>\r\n",
       "<text text-anchor=\"middle\" x=\"525\" y=\"-521.3\" font-family=\"Helvetica,sans-Serif\" font-size=\"14.00\">gini = 0.0</text>\r\n",
       "<text text-anchor=\"middle\" x=\"525\" y=\"-506.3\" font-family=\"Helvetica,sans-Serif\" font-size=\"14.00\">samples = 6</text>\r\n",
       "<text text-anchor=\"middle\" x=\"525\" y=\"-491.3\" font-family=\"Helvetica,sans-Serif\" font-size=\"14.00\">value = [0, 0, 6, 0, 0, 0]</text>\r\n",
       "<text text-anchor=\"middle\" x=\"525\" y=\"-476.3\" font-family=\"Helvetica,sans-Serif\" font-size=\"14.00\">class = Bug</text>\r\n",
       "</g>\r\n",
       "<!-- 3&#45;&gt;13 -->\r\n",
       "<g id=\"edge13\" class=\"edge\">\r\n",
       "<title>3&#45;&gt;13</title>\r\n",
       "<path fill=\"none\" stroke=\"black\" d=\"M466.88,-579.91C475.52,-568.54 484.93,-556.18 493.6,-544.77\"/>\r\n",
       "<polygon fill=\"black\" stroke=\"black\" points=\"496.5,-546.74 499.77,-536.67 490.93,-542.51 496.5,-546.74\"/>\r\n",
       "</g>\r\n",
       "<!-- 5 -->\r\n",
       "<g id=\"node6\" class=\"node\">\r\n",
       "<title>5</title>\r\n",
       "<polygon fill=\"#bddef6\" stroke=\"black\" points=\"338,-425 178,-425 178,-342 338,-342 338,-425\"/>\r\n",
       "<text text-anchor=\"middle\" x=\"258\" y=\"-409.8\" font-family=\"Helvetica,sans-Serif\" font-size=\"14.00\">airborne &lt;= 0.5</text>\r\n",
       "<text text-anchor=\"middle\" x=\"258\" y=\"-394.8\" font-family=\"Helvetica,sans-Serif\" font-size=\"14.00\">gini = 0.48</text>\r\n",
       "<text text-anchor=\"middle\" x=\"258\" y=\"-379.8\" font-family=\"Helvetica,sans-Serif\" font-size=\"14.00\">samples = 10</text>\r\n",
       "<text text-anchor=\"middle\" x=\"258\" y=\"-364.8\" font-family=\"Helvetica,sans-Serif\" font-size=\"14.00\">value = [0, 4, 0, 6, 0, 0]</text>\r\n",
       "<text text-anchor=\"middle\" x=\"258\" y=\"-349.8\" font-family=\"Helvetica,sans-Serif\" font-size=\"14.00\">class = Fish</text>\r\n",
       "</g>\r\n",
       "<!-- 4&#45;&gt;5 -->\r\n",
       "<g id=\"edge5\" class=\"edge\">\r\n",
       "<title>4&#45;&gt;5</title>\r\n",
       "<path fill=\"none\" stroke=\"black\" d=\"M316.12,-460.91C309.29,-451.92 301.98,-442.32 294.93,-433.05\"/>\r\n",
       "<polygon fill=\"black\" stroke=\"black\" points=\"297.66,-430.86 288.82,-425.02 292.09,-435.1 297.66,-430.86\"/>\r\n",
       "</g>\r\n",
       "<!-- 12 -->\r\n",
       "<g id=\"node13\" class=\"node\">\r\n",
       "<title>12</title>\r\n",
       "<polygon fill=\"#e5399d\" stroke=\"black\" points=\"516,-417.5 356,-417.5 356,-349.5 516,-349.5 516,-417.5\"/>\r\n",
       "<text text-anchor=\"middle\" x=\"436\" y=\"-402.3\" font-family=\"Helvetica,sans-Serif\" font-size=\"14.00\">gini = 0.0</text>\r\n",
       "<text text-anchor=\"middle\" x=\"436\" y=\"-387.3\" font-family=\"Helvetica,sans-Serif\" font-size=\"14.00\">samples = 4</text>\r\n",
       "<text text-anchor=\"middle\" x=\"436\" y=\"-372.3\" font-family=\"Helvetica,sans-Serif\" font-size=\"14.00\">value = [0, 0, 0, 0, 0, 4]</text>\r\n",
       "<text text-anchor=\"middle\" x=\"436\" y=\"-357.3\" font-family=\"Helvetica,sans-Serif\" font-size=\"14.00\">class = Mammal</text>\r\n",
       "</g>\r\n",
       "<!-- 4&#45;&gt;12 -->\r\n",
       "<g id=\"edge12\" class=\"edge\">\r\n",
       "<title>4&#45;&gt;12</title>\r\n",
       "<path fill=\"none\" stroke=\"black\" d=\"M377.88,-460.91C386.52,-449.54 395.93,-437.18 404.6,-425.77\"/>\r\n",
       "<polygon fill=\"black\" stroke=\"black\" points=\"407.5,-427.74 410.77,-417.67 401.93,-423.51 407.5,-427.74\"/>\r\n",
       "</g>\r\n",
       "<!-- 6 -->\r\n",
       "<g id=\"node7\" class=\"node\">\r\n",
       "<title>6</title>\r\n",
       "<polygon fill=\"#5aade9\" stroke=\"black\" points=\"249,-306 89,-306 89,-223 249,-223 249,-306\"/>\r\n",
       "<text text-anchor=\"middle\" x=\"169\" y=\"-290.8\" font-family=\"Helvetica,sans-Serif\" font-size=\"14.00\">legs &lt;= 0.5</text>\r\n",
       "<text text-anchor=\"middle\" x=\"169\" y=\"-275.8\" font-family=\"Helvetica,sans-Serif\" font-size=\"14.00\">gini = 0.245</text>\r\n",
       "<text text-anchor=\"middle\" x=\"169\" y=\"-260.8\" font-family=\"Helvetica,sans-Serif\" font-size=\"14.00\">samples = 7</text>\r\n",
       "<text text-anchor=\"middle\" x=\"169\" y=\"-245.8\" font-family=\"Helvetica,sans-Serif\" font-size=\"14.00\">value = [0, 1, 0, 6, 0, 0]</text>\r\n",
       "<text text-anchor=\"middle\" x=\"169\" y=\"-230.8\" font-family=\"Helvetica,sans-Serif\" font-size=\"14.00\">class = Fish</text>\r\n",
       "</g>\r\n",
       "<!-- 5&#45;&gt;6 -->\r\n",
       "<g id=\"edge6\" class=\"edge\">\r\n",
       "<title>5&#45;&gt;6</title>\r\n",
       "<path fill=\"none\" stroke=\"black\" d=\"M227.12,-341.91C220.29,-332.92 212.98,-323.32 205.93,-314.05\"/>\r\n",
       "<polygon fill=\"black\" stroke=\"black\" points=\"208.66,-311.86 199.82,-306.02 203.09,-316.1 208.66,-311.86\"/>\r\n",
       "</g>\r\n",
       "<!-- 11 -->\r\n",
       "<g id=\"node12\" class=\"node\">\r\n",
       "<title>11</title>\r\n",
       "<polygon fill=\"#9de539\" stroke=\"black\" points=\"427,-298.5 267,-298.5 267,-230.5 427,-230.5 427,-298.5\"/>\r\n",
       "<text text-anchor=\"middle\" x=\"347\" y=\"-283.3\" font-family=\"Helvetica,sans-Serif\" font-size=\"14.00\">gini = 0.0</text>\r\n",
       "<text text-anchor=\"middle\" x=\"347\" y=\"-268.3\" font-family=\"Helvetica,sans-Serif\" font-size=\"14.00\">samples = 3</text>\r\n",
       "<text text-anchor=\"middle\" x=\"347\" y=\"-253.3\" font-family=\"Helvetica,sans-Serif\" font-size=\"14.00\">value = [0, 3, 0, 0, 0, 0]</text>\r\n",
       "<text text-anchor=\"middle\" x=\"347\" y=\"-238.3\" font-family=\"Helvetica,sans-Serif\" font-size=\"14.00\">class = Bird</text>\r\n",
       "</g>\r\n",
       "<!-- 5&#45;&gt;11 -->\r\n",
       "<g id=\"edge11\" class=\"edge\">\r\n",
       "<title>5&#45;&gt;11</title>\r\n",
       "<path fill=\"none\" stroke=\"black\" d=\"M288.88,-341.91C297.52,-330.54 306.93,-318.18 315.6,-306.77\"/>\r\n",
       "<polygon fill=\"black\" stroke=\"black\" points=\"318.5,-308.74 321.77,-298.67 312.93,-304.51 318.5,-308.74\"/>\r\n",
       "</g>\r\n",
       "<!-- 7 -->\r\n",
       "<g id=\"node8\" class=\"node\">\r\n",
       "<title>7</title>\r\n",
       "<polygon fill=\"#399de5\" stroke=\"black\" points=\"160,-179.5 0,-179.5 0,-111.5 160,-111.5 160,-179.5\"/>\r\n",
       "<text text-anchor=\"middle\" x=\"80\" y=\"-164.3\" font-family=\"Helvetica,sans-Serif\" font-size=\"14.00\">gini = 0.0</text>\r\n",
       "<text text-anchor=\"middle\" x=\"80\" y=\"-149.3\" font-family=\"Helvetica,sans-Serif\" font-size=\"14.00\">samples = 4</text>\r\n",
       "<text text-anchor=\"middle\" x=\"80\" y=\"-134.3\" font-family=\"Helvetica,sans-Serif\" font-size=\"14.00\">value = [0, 0, 0, 4, 0, 0]</text>\r\n",
       "<text text-anchor=\"middle\" x=\"80\" y=\"-119.3\" font-family=\"Helvetica,sans-Serif\" font-size=\"14.00\">class = Fish</text>\r\n",
       "</g>\r\n",
       "<!-- 6&#45;&gt;7 -->\r\n",
       "<g id=\"edge7\" class=\"edge\">\r\n",
       "<title>6&#45;&gt;7</title>\r\n",
       "<path fill=\"none\" stroke=\"black\" d=\"M138.12,-222.91C129.48,-211.54 120.07,-199.18 111.4,-187.77\"/>\r\n",
       "<polygon fill=\"black\" stroke=\"black\" points=\"114.07,-185.51 105.23,-179.67 108.5,-189.74 114.07,-185.51\"/>\r\n",
       "</g>\r\n",
       "<!-- 8 -->\r\n",
       "<g id=\"node9\" class=\"node\">\r\n",
       "<title>8</title>\r\n",
       "<polygon fill=\"#9ccef2\" stroke=\"black\" points=\"338,-187 178,-187 178,-104 338,-104 338,-187\"/>\r\n",
       "<text text-anchor=\"middle\" x=\"258\" y=\"-171.8\" font-family=\"Helvetica,sans-Serif\" font-size=\"14.00\">predator &lt;= 0.5</text>\r\n",
       "<text text-anchor=\"middle\" x=\"258\" y=\"-156.8\" font-family=\"Helvetica,sans-Serif\" font-size=\"14.00\">gini = 0.444</text>\r\n",
       "<text text-anchor=\"middle\" x=\"258\" y=\"-141.8\" font-family=\"Helvetica,sans-Serif\" font-size=\"14.00\">samples = 3</text>\r\n",
       "<text text-anchor=\"middle\" x=\"258\" y=\"-126.8\" font-family=\"Helvetica,sans-Serif\" font-size=\"14.00\">value = [0, 1, 0, 2, 0, 0]</text>\r\n",
       "<text text-anchor=\"middle\" x=\"258\" y=\"-111.8\" font-family=\"Helvetica,sans-Serif\" font-size=\"14.00\">class = Fish</text>\r\n",
       "</g>\r\n",
       "<!-- 6&#45;&gt;8 -->\r\n",
       "<g id=\"edge8\" class=\"edge\">\r\n",
       "<title>6&#45;&gt;8</title>\r\n",
       "<path fill=\"none\" stroke=\"black\" d=\"M199.88,-222.91C206.71,-213.92 214.02,-204.32 221.07,-195.05\"/>\r\n",
       "<polygon fill=\"black\" stroke=\"black\" points=\"223.91,-197.1 227.18,-187.02 218.34,-192.86 223.91,-197.1\"/>\r\n",
       "</g>\r\n",
       "<!-- 9 -->\r\n",
       "<g id=\"node10\" class=\"node\">\r\n",
       "<title>9</title>\r\n",
       "<polygon fill=\"#9de539\" stroke=\"black\" points=\"249,-68 89,-68 89,0 249,0 249,-68\"/>\r\n",
       "<text text-anchor=\"middle\" x=\"169\" y=\"-52.8\" font-family=\"Helvetica,sans-Serif\" font-size=\"14.00\">gini = 0.0</text>\r\n",
       "<text text-anchor=\"middle\" x=\"169\" y=\"-37.8\" font-family=\"Helvetica,sans-Serif\" font-size=\"14.00\">samples = 1</text>\r\n",
       "<text text-anchor=\"middle\" x=\"169\" y=\"-22.8\" font-family=\"Helvetica,sans-Serif\" font-size=\"14.00\">value = [0, 1, 0, 0, 0, 0]</text>\r\n",
       "<text text-anchor=\"middle\" x=\"169\" y=\"-7.8\" font-family=\"Helvetica,sans-Serif\" font-size=\"14.00\">class = Bird</text>\r\n",
       "</g>\r\n",
       "<!-- 8&#45;&gt;9 -->\r\n",
       "<g id=\"edge9\" class=\"edge\">\r\n",
       "<title>8&#45;&gt;9</title>\r\n",
       "<path fill=\"none\" stroke=\"black\" d=\"M224.86,-103.73C217.52,-94.7 209.74,-85.12 202.39,-76.08\"/>\r\n",
       "<polygon fill=\"black\" stroke=\"black\" points=\"205.09,-73.85 196.07,-68.3 199.66,-78.27 205.09,-73.85\"/>\r\n",
       "</g>\r\n",
       "<!-- 10 -->\r\n",
       "<g id=\"node11\" class=\"node\">\r\n",
       "<title>10</title>\r\n",
       "<polygon fill=\"#399de5\" stroke=\"black\" points=\"427,-68 267,-68 267,0 427,0 427,-68\"/>\r\n",
       "<text text-anchor=\"middle\" x=\"347\" y=\"-52.8\" font-family=\"Helvetica,sans-Serif\" font-size=\"14.00\">gini = 0.0</text>\r\n",
       "<text text-anchor=\"middle\" x=\"347\" y=\"-37.8\" font-family=\"Helvetica,sans-Serif\" font-size=\"14.00\">samples = 2</text>\r\n",
       "<text text-anchor=\"middle\" x=\"347\" y=\"-22.8\" font-family=\"Helvetica,sans-Serif\" font-size=\"14.00\">value = [0, 0, 0, 2, 0, 0]</text>\r\n",
       "<text text-anchor=\"middle\" x=\"347\" y=\"-7.8\" font-family=\"Helvetica,sans-Serif\" font-size=\"14.00\">class = Fish</text>\r\n",
       "</g>\r\n",
       "<!-- 8&#45;&gt;10 -->\r\n",
       "<g id=\"edge10\" class=\"edge\">\r\n",
       "<title>8&#45;&gt;10</title>\r\n",
       "<path fill=\"none\" stroke=\"black\" d=\"M291.14,-103.73C298.48,-94.7 306.26,-85.12 313.61,-76.08\"/>\r\n",
       "<polygon fill=\"black\" stroke=\"black\" points=\"316.34,-78.27 319.93,-68.3 310.91,-73.85 316.34,-78.27\"/>\r\n",
       "</g>\r\n",
       "</g>\r\n",
       "</svg>\r\n"
      ],
      "text/plain": [
       "<graphviz.files.Source at 0x1ce175ea208>"
      ]
     },
     "execution_count": 1008,
     "metadata": {},
     "output_type": "execute_result"
    }
   ],
   "source": [
    "#viz = model.to_graphviz(size='10,10')\n",
    "#viz.render('homebrew', format='pdf', cleanup=True)\n",
    "#viz\n",
    "\n",
    "dot = export_graphviz(\n",
    "    decision_tree=model,  # the tree to visualize\n",
    "    out_file=None,  # if None, return it as a string with \"dot\" information\n",
    "    feature_names=fn,  # list of feature names\n",
    "    class_names=sorted(cn),  # sorted! list of class names\n",
    "    filled=True  # pretty colors\n",
    ")\n",
    "\n",
    "# Load the dot information into a graphviz object\n",
    "graph = graphviz.Source(dot)\n",
    "\n",
    "# Print a copy to disk\n",
    "graph.render('graphviz-tree', format='pdf', cleanup=True)  # save it as a file and clean up helper files\n",
    "\n",
    "# Show the result if using a Notebook\n",
    "graph"
   ]
  },
  {
   "cell_type": "markdown",
   "metadata": {
    "id": "ComJxNvW_4w6"
   },
   "source": [
    "## Trees are sensitive\n"
   ]
  },
  {
   "cell_type": "markdown",
   "metadata": {
    "id": "X7hy4BMEhnZw"
   },
   "source": [
    "Let's make sure our data is loaded."
   ]
  },
  {
   "cell_type": "code",
   "execution_count": 983,
   "metadata": {
    "id": "iTvFwbcUAqHP"
   },
   "outputs": [],
   "source": [
    "# Dataset adapted from https://archive.ics.uci.edu/ml/datasets/Zoo\n",
    "url = 'https://raw.githubusercontent.com/MLCourse-LU/Datasets/main/zoo.csv'\n",
    "df = pd.read_csv(filepath_or_buffer=url, header=0, index_col=0)\n",
    "\n",
    "X = df.iloc[:, 1:-1]  # column 0 has the animal names, the last column has the labels\n",
    "y = df.iloc[:, -1]  # use the last column as labels"
   ]
  },
  {
   "cell_type": "markdown",
   "metadata": {
    "id": "LEUc3ix9AMLY"
   },
   "source": [
    "Now, suppose you wanted to know whether the Gini or the Minority Class impurity measure was better for fitting the tree. And you're using accuracy to score your model performance with. You can run the code below to fit a model, then make some predictions with it and evaluate the accuracy.\n",
    "\n",
    "**Try it multiple times, both for the Gini and the Minority Class model**"
   ]
  },
  {
   "cell_type": "code",
   "execution_count": 1017,
   "metadata": {
    "colab": {
     "base_uri": "https://localhost:8080/",
     "height": 997
    },
    "id": "SZdnRQPvA5tU",
    "outputId": "b98da88f-8484-43f0-bcd9-58e2304630ae",
    "scrolled": false
   },
   "outputs": [
    {
     "name": "stdout",
     "output_type": "stream",
     "text": [
      "0.803921568627451\n"
     ]
    },
    {
     "data": {
      "image/svg+xml": [
       "<?xml version=\"1.0\" encoding=\"UTF-8\" standalone=\"no\"?>\r\n",
       "<!DOCTYPE svg PUBLIC \"-//W3C//DTD SVG 1.1//EN\"\r\n",
       " \"http://www.w3.org/Graphics/SVG/1.1/DTD/svg11.dtd\">\r\n",
       "<!-- Generated by graphviz version 2.47.0 (0)\r\n",
       " -->\r\n",
       "<!-- Title: Tree Pages: 1 -->\r\n",
       "<svg width=\"780pt\" height=\"790pt\"\r\n",
       " viewBox=\"0.00 0.00 780.00 790.00\" xmlns=\"http://www.w3.org/2000/svg\" xmlns:xlink=\"http://www.w3.org/1999/xlink\">\r\n",
       "<g id=\"graph0\" class=\"graph\" transform=\"scale(1 1) rotate(0) translate(4 786)\">\r\n",
       "<title>Tree</title>\r\n",
       "<polygon fill=\"white\" stroke=\"transparent\" points=\"-4,4 -4,-786 776,-786 776,4 -4,4\"/>\r\n",
       "<!-- 0 -->\r\n",
       "<g id=\"node1\" class=\"node\">\r\n",
       "<title>0</title>\r\n",
       "<polygon fill=\"#eac9f8\" stroke=\"black\" points=\"675,-782 483,-782 483,-699 675,-699 675,-782\"/>\r\n",
       "<text text-anchor=\"middle\" x=\"579\" y=\"-766.8\" font-family=\"Helvetica,sans-Serif\" font-size=\"14.00\">milk &lt;= 0.5</text>\r\n",
       "<text text-anchor=\"middle\" x=\"579\" y=\"-751.8\" font-family=\"Helvetica,sans-Serif\" font-size=\"14.00\">gini = 0.742</text>\r\n",
       "<text text-anchor=\"middle\" x=\"579\" y=\"-736.8\" font-family=\"Helvetica,sans-Serif\" font-size=\"14.00\">samples = 50</text>\r\n",
       "<text text-anchor=\"middle\" x=\"579\" y=\"-721.8\" font-family=\"Helvetica,sans-Serif\" font-size=\"14.00\">value = [1, 10, 4, 7, 6, 21, 1]</text>\r\n",
       "<text text-anchor=\"middle\" x=\"579\" y=\"-706.8\" font-family=\"Helvetica,sans-Serif\" font-size=\"14.00\">class = Mammal</text>\r\n",
       "</g>\r\n",
       "<!-- 1 -->\r\n",
       "<g id=\"node2\" class=\"node\">\r\n",
       "<title>1</title>\r\n",
       "<polygon fill=\"#f5fbe4\" stroke=\"black\" points=\"570,-663 386,-663 386,-580 570,-580 570,-663\"/>\r\n",
       "<text text-anchor=\"middle\" x=\"478\" y=\"-647.8\" font-family=\"Helvetica,sans-Serif\" font-size=\"14.00\">feathers &lt;= 0.5</text>\r\n",
       "<text text-anchor=\"middle\" x=\"478\" y=\"-632.8\" font-family=\"Helvetica,sans-Serif\" font-size=\"14.00\">gini = 0.759</text>\r\n",
       "<text text-anchor=\"middle\" x=\"478\" y=\"-617.8\" font-family=\"Helvetica,sans-Serif\" font-size=\"14.00\">samples = 29</text>\r\n",
       "<text text-anchor=\"middle\" x=\"478\" y=\"-602.8\" font-family=\"Helvetica,sans-Serif\" font-size=\"14.00\">value = [1, 10, 4, 7, 6, 0, 1]</text>\r\n",
       "<text text-anchor=\"middle\" x=\"478\" y=\"-587.8\" font-family=\"Helvetica,sans-Serif\" font-size=\"14.00\">class = Bird</text>\r\n",
       "</g>\r\n",
       "<!-- 0&#45;&gt;1 -->\r\n",
       "<g id=\"edge1\" class=\"edge\">\r\n",
       "<title>0&#45;&gt;1</title>\r\n",
       "<path fill=\"none\" stroke=\"black\" d=\"M543.96,-698.91C536.12,-689.83 527.74,-680.12 519.67,-670.77\"/>\r\n",
       "<polygon fill=\"black\" stroke=\"black\" points=\"522.16,-668.3 512.98,-663.02 516.86,-672.88 522.16,-668.3\"/>\r\n",
       "<text text-anchor=\"middle\" x=\"511.15\" y=\"-684.25\" font-family=\"Helvetica,sans-Serif\" font-size=\"14.00\">True</text>\r\n",
       "</g>\r\n",
       "<!-- 12 -->\r\n",
       "<g id=\"node13\" class=\"node\">\r\n",
       "<title>12</title>\r\n",
       "<polygon fill=\"#b139e5\" stroke=\"black\" points=\"772,-655.5 588,-655.5 588,-587.5 772,-587.5 772,-655.5\"/>\r\n",
       "<text text-anchor=\"middle\" x=\"680\" y=\"-640.3\" font-family=\"Helvetica,sans-Serif\" font-size=\"14.00\">gini = 0.0</text>\r\n",
       "<text text-anchor=\"middle\" x=\"680\" y=\"-625.3\" font-family=\"Helvetica,sans-Serif\" font-size=\"14.00\">samples = 21</text>\r\n",
       "<text text-anchor=\"middle\" x=\"680\" y=\"-610.3\" font-family=\"Helvetica,sans-Serif\" font-size=\"14.00\">value = [0, 0, 0, 0, 0, 21, 0]</text>\r\n",
       "<text text-anchor=\"middle\" x=\"680\" y=\"-595.3\" font-family=\"Helvetica,sans-Serif\" font-size=\"14.00\">class = Mammal</text>\r\n",
       "</g>\r\n",
       "<!-- 0&#45;&gt;12 -->\r\n",
       "<g id=\"edge12\" class=\"edge\">\r\n",
       "<title>0&#45;&gt;12</title>\r\n",
       "<path fill=\"none\" stroke=\"black\" d=\"M614.04,-698.91C623.95,-687.43 634.73,-674.94 644.66,-663.44\"/>\r\n",
       "<polygon fill=\"black\" stroke=\"black\" points=\"647.48,-665.52 651.37,-655.67 642.18,-660.95 647.48,-665.52\"/>\r\n",
       "<text text-anchor=\"middle\" x=\"653.2\" y=\"-676.9\" font-family=\"Helvetica,sans-Serif\" font-size=\"14.00\">False</text>\r\n",
       "</g>\r\n",
       "<!-- 2 -->\r\n",
       "<g id=\"node3\" class=\"node\">\r\n",
       "<title>2</title>\r\n",
       "<polygon fill=\"#f0fdfd\" stroke=\"black\" points=\"467,-544 291,-544 291,-461 467,-461 467,-544\"/>\r\n",
       "<text text-anchor=\"middle\" x=\"379\" y=\"-528.8\" font-family=\"Helvetica,sans-Serif\" font-size=\"14.00\">fins &lt;= 0.5</text>\r\n",
       "<text text-anchor=\"middle\" x=\"379\" y=\"-513.8\" font-family=\"Helvetica,sans-Serif\" font-size=\"14.00\">gini = 0.715</text>\r\n",
       "<text text-anchor=\"middle\" x=\"379\" y=\"-498.8\" font-family=\"Helvetica,sans-Serif\" font-size=\"14.00\">samples = 19</text>\r\n",
       "<text text-anchor=\"middle\" x=\"379\" y=\"-483.8\" font-family=\"Helvetica,sans-Serif\" font-size=\"14.00\">value = [1, 0, 4, 7, 6, 0, 1]</text>\r\n",
       "<text text-anchor=\"middle\" x=\"379\" y=\"-468.8\" font-family=\"Helvetica,sans-Serif\" font-size=\"14.00\">class = Fish</text>\r\n",
       "</g>\r\n",
       "<!-- 1&#45;&gt;2 -->\r\n",
       "<g id=\"edge2\" class=\"edge\">\r\n",
       "<title>1&#45;&gt;2</title>\r\n",
       "<path fill=\"none\" stroke=\"black\" d=\"M443.65,-579.91C435.97,-570.83 427.76,-561.12 419.84,-551.77\"/>\r\n",
       "<polygon fill=\"black\" stroke=\"black\" points=\"422.42,-549.39 413.29,-544.02 417.07,-553.92 422.42,-549.39\"/>\r\n",
       "</g>\r\n",
       "<!-- 11 -->\r\n",
       "<g id=\"node12\" class=\"node\">\r\n",
       "<title>11</title>\r\n",
       "<polygon fill=\"#b7e539\" stroke=\"black\" points=\"669,-536.5 485,-536.5 485,-468.5 669,-468.5 669,-536.5\"/>\r\n",
       "<text text-anchor=\"middle\" x=\"577\" y=\"-521.3\" font-family=\"Helvetica,sans-Serif\" font-size=\"14.00\">gini = 0.0</text>\r\n",
       "<text text-anchor=\"middle\" x=\"577\" y=\"-506.3\" font-family=\"Helvetica,sans-Serif\" font-size=\"14.00\">samples = 10</text>\r\n",
       "<text text-anchor=\"middle\" x=\"577\" y=\"-491.3\" font-family=\"Helvetica,sans-Serif\" font-size=\"14.00\">value = [0, 10, 0, 0, 0, 0, 0]</text>\r\n",
       "<text text-anchor=\"middle\" x=\"577\" y=\"-476.3\" font-family=\"Helvetica,sans-Serif\" font-size=\"14.00\">class = Bird</text>\r\n",
       "</g>\r\n",
       "<!-- 1&#45;&gt;11 -->\r\n",
       "<g id=\"edge11\" class=\"edge\">\r\n",
       "<title>1&#45;&gt;11</title>\r\n",
       "<path fill=\"none\" stroke=\"black\" d=\"M512.35,-579.91C522.06,-568.43 532.63,-555.94 542.36,-544.44\"/>\r\n",
       "<polygon fill=\"black\" stroke=\"black\" points=\"545.15,-546.56 548.94,-536.67 539.8,-542.04 545.15,-546.56\"/>\r\n",
       "</g>\r\n",
       "<!-- 3 -->\r\n",
       "<g id=\"node4\" class=\"node\">\r\n",
       "<title>3</title>\r\n",
       "<polygon fill=\"#ced5f8\" stroke=\"black\" points=\"370,-425 194,-425 194,-342 370,-342 370,-425\"/>\r\n",
       "<text text-anchor=\"middle\" x=\"282\" y=\"-409.8\" font-family=\"Helvetica,sans-Serif\" font-size=\"14.00\">predator &lt;= 0.5</text>\r\n",
       "<text text-anchor=\"middle\" x=\"282\" y=\"-394.8\" font-family=\"Helvetica,sans-Serif\" font-size=\"14.00\">gini = 0.625</text>\r\n",
       "<text text-anchor=\"middle\" x=\"282\" y=\"-379.8\" font-family=\"Helvetica,sans-Serif\" font-size=\"14.00\">samples = 12</text>\r\n",
       "<text text-anchor=\"middle\" x=\"282\" y=\"-364.8\" font-family=\"Helvetica,sans-Serif\" font-size=\"14.00\">value = [1, 0, 4, 0, 6, 0, 1]</text>\r\n",
       "<text text-anchor=\"middle\" x=\"282\" y=\"-349.8\" font-family=\"Helvetica,sans-Serif\" font-size=\"14.00\">class = Invertebrate</text>\r\n",
       "</g>\r\n",
       "<!-- 2&#45;&gt;3 -->\r\n",
       "<g id=\"edge3\" class=\"edge\">\r\n",
       "<title>2&#45;&gt;3</title>\r\n",
       "<path fill=\"none\" stroke=\"black\" d=\"M345.35,-460.91C337.82,-451.83 329.77,-442.12 322.02,-432.77\"/>\r\n",
       "<polygon fill=\"black\" stroke=\"black\" points=\"324.67,-430.49 315.59,-425.02 319.28,-434.95 324.67,-430.49\"/>\r\n",
       "</g>\r\n",
       "<!-- 10 -->\r\n",
       "<g id=\"node11\" class=\"node\">\r\n",
       "<title>10</title>\r\n",
       "<polygon fill=\"#39e5e2\" stroke=\"black\" points=\"564,-417.5 388,-417.5 388,-349.5 564,-349.5 564,-417.5\"/>\r\n",
       "<text text-anchor=\"middle\" x=\"476\" y=\"-402.3\" font-family=\"Helvetica,sans-Serif\" font-size=\"14.00\">gini = 0.0</text>\r\n",
       "<text text-anchor=\"middle\" x=\"476\" y=\"-387.3\" font-family=\"Helvetica,sans-Serif\" font-size=\"14.00\">samples = 7</text>\r\n",
       "<text text-anchor=\"middle\" x=\"476\" y=\"-372.3\" font-family=\"Helvetica,sans-Serif\" font-size=\"14.00\">value = [0, 0, 0, 7, 0, 0, 0]</text>\r\n",
       "<text text-anchor=\"middle\" x=\"476\" y=\"-357.3\" font-family=\"Helvetica,sans-Serif\" font-size=\"14.00\">class = Fish</text>\r\n",
       "</g>\r\n",
       "<!-- 2&#45;&gt;10 -->\r\n",
       "<g id=\"edge10\" class=\"edge\">\r\n",
       "<title>2&#45;&gt;10</title>\r\n",
       "<path fill=\"none\" stroke=\"black\" d=\"M412.65,-460.91C422.17,-449.43 432.53,-436.94 442.06,-425.44\"/>\r\n",
       "<polygon fill=\"black\" stroke=\"black\" points=\"444.81,-427.6 448.5,-417.67 439.43,-423.13 444.81,-427.6\"/>\r\n",
       "</g>\r\n",
       "<!-- 4 -->\r\n",
       "<g id=\"node5\" class=\"node\">\r\n",
       "<title>4</title>\r\n",
       "<polygon fill=\"#88ef94\" stroke=\"black\" points=\"273,-306 97,-306 97,-223 273,-223 273,-306\"/>\r\n",
       "<text text-anchor=\"middle\" x=\"185\" y=\"-290.8\" font-family=\"Helvetica,sans-Serif\" font-size=\"14.00\">backbone &lt;= 0.5</text>\r\n",
       "<text text-anchor=\"middle\" x=\"185\" y=\"-275.8\" font-family=\"Helvetica,sans-Serif\" font-size=\"14.00\">gini = 0.5</text>\r\n",
       "<text text-anchor=\"middle\" x=\"185\" y=\"-260.8\" font-family=\"Helvetica,sans-Serif\" font-size=\"14.00\">samples = 6</text>\r\n",
       "<text text-anchor=\"middle\" x=\"185\" y=\"-245.8\" font-family=\"Helvetica,sans-Serif\" font-size=\"14.00\">value = [1, 0, 4, 0, 0, 0, 1]</text>\r\n",
       "<text text-anchor=\"middle\" x=\"185\" y=\"-230.8\" font-family=\"Helvetica,sans-Serif\" font-size=\"14.00\">class = Bug</text>\r\n",
       "</g>\r\n",
       "<!-- 3&#45;&gt;4 -->\r\n",
       "<g id=\"edge4\" class=\"edge\">\r\n",
       "<title>3&#45;&gt;4</title>\r\n",
       "<path fill=\"none\" stroke=\"black\" d=\"M248.35,-341.91C240.82,-332.83 232.77,-323.12 225.02,-313.77\"/>\r\n",
       "<polygon fill=\"black\" stroke=\"black\" points=\"227.67,-311.49 218.59,-306.02 222.28,-315.95 227.67,-311.49\"/>\r\n",
       "</g>\r\n",
       "<!-- 9 -->\r\n",
       "<g id=\"node10\" class=\"node\">\r\n",
       "<title>9</title>\r\n",
       "<polygon fill=\"#3956e5\" stroke=\"black\" points=\"467,-298.5 291,-298.5 291,-230.5 467,-230.5 467,-298.5\"/>\r\n",
       "<text text-anchor=\"middle\" x=\"379\" y=\"-283.3\" font-family=\"Helvetica,sans-Serif\" font-size=\"14.00\">gini = 0.0</text>\r\n",
       "<text text-anchor=\"middle\" x=\"379\" y=\"-268.3\" font-family=\"Helvetica,sans-Serif\" font-size=\"14.00\">samples = 6</text>\r\n",
       "<text text-anchor=\"middle\" x=\"379\" y=\"-253.3\" font-family=\"Helvetica,sans-Serif\" font-size=\"14.00\">value = [0, 0, 0, 0, 6, 0, 0]</text>\r\n",
       "<text text-anchor=\"middle\" x=\"379\" y=\"-238.3\" font-family=\"Helvetica,sans-Serif\" font-size=\"14.00\">class = Invertebrate</text>\r\n",
       "</g>\r\n",
       "<!-- 3&#45;&gt;9 -->\r\n",
       "<g id=\"edge9\" class=\"edge\">\r\n",
       "<title>3&#45;&gt;9</title>\r\n",
       "<path fill=\"none\" stroke=\"black\" d=\"M315.65,-341.91C325.17,-330.43 335.53,-317.94 345.06,-306.44\"/>\r\n",
       "<polygon fill=\"black\" stroke=\"black\" points=\"347.81,-308.6 351.5,-298.67 342.43,-304.13 347.81,-308.6\"/>\r\n",
       "</g>\r\n",
       "<!-- 5 -->\r\n",
       "<g id=\"node6\" class=\"node\">\r\n",
       "<title>5</title>\r\n",
       "<polygon fill=\"#39e54d\" stroke=\"black\" points=\"176,-179.5 0,-179.5 0,-111.5 176,-111.5 176,-179.5\"/>\r\n",
       "<text text-anchor=\"middle\" x=\"88\" y=\"-164.3\" font-family=\"Helvetica,sans-Serif\" font-size=\"14.00\">gini = 0.0</text>\r\n",
       "<text text-anchor=\"middle\" x=\"88\" y=\"-149.3\" font-family=\"Helvetica,sans-Serif\" font-size=\"14.00\">samples = 4</text>\r\n",
       "<text text-anchor=\"middle\" x=\"88\" y=\"-134.3\" font-family=\"Helvetica,sans-Serif\" font-size=\"14.00\">value = [0, 0, 4, 0, 0, 0, 0]</text>\r\n",
       "<text text-anchor=\"middle\" x=\"88\" y=\"-119.3\" font-family=\"Helvetica,sans-Serif\" font-size=\"14.00\">class = Bug</text>\r\n",
       "</g>\r\n",
       "<!-- 4&#45;&gt;5 -->\r\n",
       "<g id=\"edge5\" class=\"edge\">\r\n",
       "<title>4&#45;&gt;5</title>\r\n",
       "<path fill=\"none\" stroke=\"black\" d=\"M151.35,-222.91C141.83,-211.43 131.47,-198.94 121.94,-187.44\"/>\r\n",
       "<polygon fill=\"black\" stroke=\"black\" points=\"124.57,-185.13 115.5,-179.67 119.19,-189.6 124.57,-185.13\"/>\r\n",
       "</g>\r\n",
       "<!-- 6 -->\r\n",
       "<g id=\"node7\" class=\"node\">\r\n",
       "<title>6</title>\r\n",
       "<polygon fill=\"#ffffff\" stroke=\"black\" points=\"370,-187 194,-187 194,-104 370,-104 370,-187\"/>\r\n",
       "<text text-anchor=\"middle\" x=\"282\" y=\"-171.8\" font-family=\"Helvetica,sans-Serif\" font-size=\"14.00\">toothed &lt;= 0.5</text>\r\n",
       "<text text-anchor=\"middle\" x=\"282\" y=\"-156.8\" font-family=\"Helvetica,sans-Serif\" font-size=\"14.00\">gini = 0.5</text>\r\n",
       "<text text-anchor=\"middle\" x=\"282\" y=\"-141.8\" font-family=\"Helvetica,sans-Serif\" font-size=\"14.00\">samples = 2</text>\r\n",
       "<text text-anchor=\"middle\" x=\"282\" y=\"-126.8\" font-family=\"Helvetica,sans-Serif\" font-size=\"14.00\">value = [1, 0, 0, 0, 0, 0, 1]</text>\r\n",
       "<text text-anchor=\"middle\" x=\"282\" y=\"-111.8\" font-family=\"Helvetica,sans-Serif\" font-size=\"14.00\">class = Amphibian</text>\r\n",
       "</g>\r\n",
       "<!-- 4&#45;&gt;6 -->\r\n",
       "<g id=\"edge6\" class=\"edge\">\r\n",
       "<title>4&#45;&gt;6</title>\r\n",
       "<path fill=\"none\" stroke=\"black\" d=\"M218.65,-222.91C226.18,-213.83 234.23,-204.12 241.98,-194.77\"/>\r\n",
       "<polygon fill=\"black\" stroke=\"black\" points=\"244.72,-196.95 248.41,-187.02 239.33,-192.49 244.72,-196.95\"/>\r\n",
       "</g>\r\n",
       "<!-- 7 -->\r\n",
       "<g id=\"node8\" class=\"node\">\r\n",
       "<title>7</title>\r\n",
       "<polygon fill=\"#e53986\" stroke=\"black\" points=\"273,-68 97,-68 97,0 273,0 273,-68\"/>\r\n",
       "<text text-anchor=\"middle\" x=\"185\" y=\"-52.8\" font-family=\"Helvetica,sans-Serif\" font-size=\"14.00\">gini = 0.0</text>\r\n",
       "<text text-anchor=\"middle\" x=\"185\" y=\"-37.8\" font-family=\"Helvetica,sans-Serif\" font-size=\"14.00\">samples = 1</text>\r\n",
       "<text text-anchor=\"middle\" x=\"185\" y=\"-22.8\" font-family=\"Helvetica,sans-Serif\" font-size=\"14.00\">value = [0, 0, 0, 0, 0, 0, 1]</text>\r\n",
       "<text text-anchor=\"middle\" x=\"185\" y=\"-7.8\" font-family=\"Helvetica,sans-Serif\" font-size=\"14.00\">class = Reptile</text>\r\n",
       "</g>\r\n",
       "<!-- 6&#45;&gt;7 -->\r\n",
       "<g id=\"edge7\" class=\"edge\">\r\n",
       "<title>6&#45;&gt;7</title>\r\n",
       "<path fill=\"none\" stroke=\"black\" d=\"M245.88,-103.73C237.8,-94.61 229.23,-84.93 221.15,-75.81\"/>\r\n",
       "<polygon fill=\"black\" stroke=\"black\" points=\"223.75,-73.46 214.5,-68.3 218.51,-78.11 223.75,-73.46\"/>\r\n",
       "</g>\r\n",
       "<!-- 8 -->\r\n",
       "<g id=\"node9\" class=\"node\">\r\n",
       "<title>8</title>\r\n",
       "<polygon fill=\"#e58139\" stroke=\"black\" points=\"467,-68 291,-68 291,0 467,0 467,-68\"/>\r\n",
       "<text text-anchor=\"middle\" x=\"379\" y=\"-52.8\" font-family=\"Helvetica,sans-Serif\" font-size=\"14.00\">gini = 0.0</text>\r\n",
       "<text text-anchor=\"middle\" x=\"379\" y=\"-37.8\" font-family=\"Helvetica,sans-Serif\" font-size=\"14.00\">samples = 1</text>\r\n",
       "<text text-anchor=\"middle\" x=\"379\" y=\"-22.8\" font-family=\"Helvetica,sans-Serif\" font-size=\"14.00\">value = [1, 0, 0, 0, 0, 0, 0]</text>\r\n",
       "<text text-anchor=\"middle\" x=\"379\" y=\"-7.8\" font-family=\"Helvetica,sans-Serif\" font-size=\"14.00\">class = Amphibian</text>\r\n",
       "</g>\r\n",
       "<!-- 6&#45;&gt;8 -->\r\n",
       "<g id=\"edge8\" class=\"edge\">\r\n",
       "<title>6&#45;&gt;8</title>\r\n",
       "<path fill=\"none\" stroke=\"black\" d=\"M318.12,-103.73C326.2,-94.61 334.77,-84.93 342.85,-75.81\"/>\r\n",
       "<polygon fill=\"black\" stroke=\"black\" points=\"345.49,-78.11 349.5,-68.3 340.25,-73.46 345.49,-78.11\"/>\r\n",
       "</g>\r\n",
       "</g>\r\n",
       "</svg>\r\n"
      ],
      "text/plain": [
       "<graphviz.files.Source at 0x1ce1762d288>"
      ]
     },
     "execution_count": 1017,
     "metadata": {},
     "output_type": "execute_result"
    }
   ],
   "source": [
    "X_train, X_test, y_train, y_test = train_test_split(X, y, test_size=0.5)\n",
    "#model = DTree(metric=minority_class)\n",
    "model = DecisionTreeClassifier()\n",
    "model.fit(X_train, y_train)\n",
    "\n",
    "y_pred = model.predict(X_test)\n",
    "print(accuracy_score(y_test, y_pred))\n",
    "#viz = model.to_graphviz(size='10,10')\n",
    "#viz.render('homebrew_gini', format='pdf', cleanup=True)\n",
    "#viz\n",
    "\n",
    "dot = export_graphviz(\n",
    "    decision_tree=model,  # the tree to visualize\n",
    "    out_file=None,  # if None, return it as a string with \"dot\" information\n",
    "    feature_names=fn,  # list of feature names\n",
    "    class_names=sorted(cn),  # sorted! list of class names\n",
    "    filled=True  # pretty colors\n",
    ")\n",
    "\n",
    "# Load the dot information into a graphviz object\n",
    "graph = graphviz.Source(dot)\n",
    "\n",
    "# Print a copy to disk\n",
    "graph.render('graphviz-tree', format='pdf', cleanup=True)  # save it as a file and clean up helper files\n",
    "\n",
    "# Show the result if using a Notebook\n",
    "graph"
   ]
  },
  {
   "cell_type": "code",
   "execution_count": 992,
   "metadata": {
    "colab": {
     "base_uri": "https://localhost:8080/",
     "height": 999
    },
    "id": "guE1PROrBXzY",
    "outputId": "3226cf18-8444-4497-8609-a3ec6dec9324"
   },
   "outputs": [],
   "source": [
    "#X_train, X_test, y_train, y_test = train_test_split(X, y, test_size=0.5)\n",
    "#model = DTree(metric=minority_class)\n",
    "#model.fit(X_train, y_train)\n",
    "\n",
    "#y_pred = model.predict(X_test)\n",
    "#print(accuracy_score(y_test, y_pred))\n",
    "#viz = model.to_graphviz(size='10,10')\n",
    "#viz.render('homebrew_minority', format='pdf', cleanup=True)\n",
    "#viz"
   ]
  },
  {
   "cell_type": "markdown",
   "metadata": {
    "id": "8dmmsEUiAl65"
   },
   "source": [
    "### Open Questions\n"
   ]
  },
  {
   "cell_type": "markdown",
   "metadata": {},
   "source": [
    "(If you had trouble implementing the tree, you may also use a scikit-learn decision tree to figure out the answers to these questions. The results should be very similar.)"
   ]
  },
  {
   "cell_type": "markdown",
   "metadata": {
    "id": "iQVKCoLuh3sV"
   },
   "source": [
    "#### Question 3: Why are the trees not always the same?"
   ]
  },
  {
   "cell_type": "markdown",
   "metadata": {
    "id": "WMwPI46wh_GX"
   },
   "source": [
    "#### Question 4: Choose a tree with particularly bad accuracy score. Put the graph as a picture in your report. Explain what you think may have happened during the fitting to make this such a bad model."
   ]
  },
  {
   "cell_type": "markdown",
   "metadata": {
    "id": "7Xk7s-xvC3bt"
   },
   "source": [
    "## Configuration using cross-validation"
   ]
  },
  {
   "cell_type": "markdown",
   "metadata": {
    "id": "9WPe70dhaC5H"
   },
   "source": [
    "In machine learning we often want to know \"what would be a good model type for this dataset?\", or \"given this model we want to use, how should we configure it?\" But the examples above here showed that building just *one* tree on *one* way to split the data was not a reliable method to determine which choice of model/parameters was the best.\n",
    "\n",
    "The obvious thing to try of course is just building more than one and taking the average. But if you just use the same data every time, you'll get the same tree too. Some other ML algorithms might also give you a different model even if you use the same data. In our implementation of the decision tree however, once you've decided which data you're going to train it on, the result is deterministic.\n",
    "\n",
    "So what's really needed is doing more with our data. Specifically, we want to make sure every instance in our dataset is used at least once to test with. But we don't want to train our model on data that we're testing with. So we need some kind of rotation. And that's what cross-validation is, basically.\n",
    "\n",
    "We often use $k$-fold cross validation, where $k$ is the number of \"folds\" we have. Each fold is a different way of splitting our dataset, and the *test set* in each fold is different from the test sets of all the other folds. So if we had 5-fold cross validation, each fold would use 20% of the data as a test set, and the rest as a training set. \n",
    "\n",
    "We then build our model $k$ times, so 5 different decision trees, and score each one on its test set. Then we aggregate those scores, for example by taking the average and also observing the standard deviation. These numbers are a better indication of how good our model/configuration choice is than a single run.\n",
    "\n",
    "Consider the implementation of $k$-fold cross validation below:"
   ]
  },
  {
   "cell_type": "code",
   "execution_count": 1018,
   "metadata": {
    "id": "NGJMl2_YR3zE"
   },
   "outputs": [],
   "source": [
    "class KFolds:\n",
    "    def __init__(self, X, y, k, seed=None):\n",
    "        \"\"\" Initialize the KFolds instance\n",
    "        \n",
    "        :param X: pd.DataFrame of feature columns \n",
    "        :param y: pd.DataFrame or pd.Series of labels\n",
    "        :param k: number of folds desired\n",
    "        :param seed: random seed, if you want reproducible results (optional)\n",
    "        \n",
    "        After initialization, self.folds will store k folds.\n",
    "        Each fold is a pair of arrays with training indices and test indices.\n",
    "        The folds are as evenly distributed in size as possible.\n",
    "        All the test segments are pairwise disjoint.\n",
    "        \"\"\"\n",
    "        self.X = X\n",
    "        self.y = y\n",
    "        self.k = k\n",
    "        self.folds = []\n",
    "        indices = np.arange(X.shape[0])  # integer indices of the instances\n",
    "        if seed is not None:  # Set random seed if desired.\n",
    "            np.random.seed(seed=seed)\n",
    "        np.random.shuffle(indices)  # Shuffle in-place.\n",
    "        fold_size = X.shape[0] / k  # How many instances per fold? Note that this is a floating point number!\n",
    "        for fold_num in range(k):\n",
    "            # The int() is used to handle the floating point numbers and make the segments as equal as possible.\n",
    "            test = indices[int(fold_num * fold_size):int((fold_num + 1) * fold_size)]\n",
    "            train = np.concatenate([indices[:int(fold_num * fold_size)], indices[int((fold_num + 1) * fold_size):]])\n",
    "            self.folds.append((train, test))\n",
    "\n",
    "    def get_fold(self, fold_num):\n",
    "        \"\"\" Get the training and test data of the k-th fold\n",
    "        \n",
    "        :param fold_num: Which fold's division of the data to use\n",
    "        :return: Training and test features/labels\n",
    "        \"\"\"\n",
    "        train, test = self.folds[fold_num]  # Select the indices developed for this fold during initialization\n",
    "        # Use those indices to select instance rows to send to test and training sets.\n",
    "        X_train = self.X.iloc[train]\n",
    "        X_test = self.X.iloc[test]\n",
    "        y_train = self.y.iloc[train]\n",
    "        y_test = self.y.iloc[test]\n",
    "        return X_train, X_test, y_train, y_test"
   ]
  },
  {
   "cell_type": "markdown",
   "metadata": {
    "id": "RjKHCv57XOcJ"
   },
   "source": [
    "That's a big wall of code, how do you use it? A lot like our earlier `train_test_split` function, but now you request a specific fold:"
   ]
  },
  {
   "cell_type": "code",
   "execution_count": 1019,
   "metadata": {
    "colab": {
     "base_uri": "https://localhost:8080/",
     "height": 455
    },
    "id": "BCYA6N1mXRfB",
    "outputId": "9a32b094-3ed7-4c26-9113-53680f1cf1f1"
   },
   "outputs": [
    {
     "data": {
      "text/html": [
       "<div>\n",
       "<style scoped>\n",
       "    .dataframe tbody tr th:only-of-type {\n",
       "        vertical-align: middle;\n",
       "    }\n",
       "\n",
       "    .dataframe tbody tr th {\n",
       "        vertical-align: top;\n",
       "    }\n",
       "\n",
       "    .dataframe thead th {\n",
       "        text-align: right;\n",
       "    }\n",
       "</style>\n",
       "<table border=\"1\" class=\"dataframe\">\n",
       "  <thead>\n",
       "    <tr style=\"text-align: right;\">\n",
       "      <th></th>\n",
       "      <th>hair</th>\n",
       "      <th>feathers</th>\n",
       "      <th>eggs</th>\n",
       "      <th>milk</th>\n",
       "      <th>airborne</th>\n",
       "      <th>aquatic</th>\n",
       "      <th>predator</th>\n",
       "      <th>toothed</th>\n",
       "      <th>backbone</th>\n",
       "      <th>breathes</th>\n",
       "      <th>venomous</th>\n",
       "      <th>fins</th>\n",
       "      <th>legs</th>\n",
       "      <th>tail</th>\n",
       "      <th>domestic</th>\n",
       "      <th>catsize</th>\n",
       "    </tr>\n",
       "    <tr>\n",
       "      <th>ID</th>\n",
       "      <th></th>\n",
       "      <th></th>\n",
       "      <th></th>\n",
       "      <th></th>\n",
       "      <th></th>\n",
       "      <th></th>\n",
       "      <th></th>\n",
       "      <th></th>\n",
       "      <th></th>\n",
       "      <th></th>\n",
       "      <th></th>\n",
       "      <th></th>\n",
       "      <th></th>\n",
       "      <th></th>\n",
       "      <th></th>\n",
       "      <th></th>\n",
       "    </tr>\n",
       "  </thead>\n",
       "  <tbody>\n",
       "    <tr>\n",
       "      <th>63</th>\n",
       "      <td>1</td>\n",
       "      <td>0</td>\n",
       "      <td>1</td>\n",
       "      <td>1</td>\n",
       "      <td>0</td>\n",
       "      <td>1</td>\n",
       "      <td>1</td>\n",
       "      <td>0</td>\n",
       "      <td>1</td>\n",
       "      <td>1</td>\n",
       "      <td>0</td>\n",
       "      <td>0</td>\n",
       "      <td>1</td>\n",
       "      <td>1</td>\n",
       "      <td>0</td>\n",
       "      <td>1</td>\n",
       "    </tr>\n",
       "    <tr>\n",
       "      <th>46</th>\n",
       "      <td>0</td>\n",
       "      <td>0</td>\n",
       "      <td>1</td>\n",
       "      <td>0</td>\n",
       "      <td>0</td>\n",
       "      <td>1</td>\n",
       "      <td>1</td>\n",
       "      <td>0</td>\n",
       "      <td>0</td>\n",
       "      <td>0</td>\n",
       "      <td>0</td>\n",
       "      <td>0</td>\n",
       "      <td>1</td>\n",
       "      <td>0</td>\n",
       "      <td>0</td>\n",
       "      <td>0</td>\n",
       "    </tr>\n",
       "    <tr>\n",
       "      <th>32</th>\n",
       "      <td>1</td>\n",
       "      <td>0</td>\n",
       "      <td>0</td>\n",
       "      <td>1</td>\n",
       "      <td>0</td>\n",
       "      <td>0</td>\n",
       "      <td>0</td>\n",
       "      <td>1</td>\n",
       "      <td>1</td>\n",
       "      <td>1</td>\n",
       "      <td>0</td>\n",
       "      <td>0</td>\n",
       "      <td>1</td>\n",
       "      <td>0</td>\n",
       "      <td>0</td>\n",
       "      <td>1</td>\n",
       "    </tr>\n",
       "    <tr>\n",
       "      <th>40</th>\n",
       "      <td>1</td>\n",
       "      <td>0</td>\n",
       "      <td>1</td>\n",
       "      <td>0</td>\n",
       "      <td>1</td>\n",
       "      <td>0</td>\n",
       "      <td>0</td>\n",
       "      <td>0</td>\n",
       "      <td>0</td>\n",
       "      <td>1</td>\n",
       "      <td>0</td>\n",
       "      <td>0</td>\n",
       "      <td>1</td>\n",
       "      <td>0</td>\n",
       "      <td>0</td>\n",
       "      <td>0</td>\n",
       "    </tr>\n",
       "    <tr>\n",
       "      <th>100</th>\n",
       "      <td>0</td>\n",
       "      <td>1</td>\n",
       "      <td>1</td>\n",
       "      <td>0</td>\n",
       "      <td>1</td>\n",
       "      <td>0</td>\n",
       "      <td>0</td>\n",
       "      <td>0</td>\n",
       "      <td>1</td>\n",
       "      <td>1</td>\n",
       "      <td>0</td>\n",
       "      <td>0</td>\n",
       "      <td>1</td>\n",
       "      <td>1</td>\n",
       "      <td>0</td>\n",
       "      <td>0</td>\n",
       "    </tr>\n",
       "    <tr>\n",
       "      <th>...</th>\n",
       "      <td>...</td>\n",
       "      <td>...</td>\n",
       "      <td>...</td>\n",
       "      <td>...</td>\n",
       "      <td>...</td>\n",
       "      <td>...</td>\n",
       "      <td>...</td>\n",
       "      <td>...</td>\n",
       "      <td>...</td>\n",
       "      <td>...</td>\n",
       "      <td>...</td>\n",
       "      <td>...</td>\n",
       "      <td>...</td>\n",
       "      <td>...</td>\n",
       "      <td>...</td>\n",
       "      <td>...</td>\n",
       "    </tr>\n",
       "    <tr>\n",
       "      <th>73</th>\n",
       "      <td>0</td>\n",
       "      <td>0</td>\n",
       "      <td>1</td>\n",
       "      <td>0</td>\n",
       "      <td>0</td>\n",
       "      <td>1</td>\n",
       "      <td>0</td>\n",
       "      <td>1</td>\n",
       "      <td>1</td>\n",
       "      <td>0</td>\n",
       "      <td>0</td>\n",
       "      <td>1</td>\n",
       "      <td>0</td>\n",
       "      <td>1</td>\n",
       "      <td>0</td>\n",
       "      <td>0</td>\n",
       "    </tr>\n",
       "    <tr>\n",
       "      <th>86</th>\n",
       "      <td>0</td>\n",
       "      <td>0</td>\n",
       "      <td>1</td>\n",
       "      <td>0</td>\n",
       "      <td>0</td>\n",
       "      <td>1</td>\n",
       "      <td>1</td>\n",
       "      <td>1</td>\n",
       "      <td>1</td>\n",
       "      <td>0</td>\n",
       "      <td>1</td>\n",
       "      <td>1</td>\n",
       "      <td>0</td>\n",
       "      <td>1</td>\n",
       "      <td>0</td>\n",
       "      <td>1</td>\n",
       "    </tr>\n",
       "    <tr>\n",
       "      <th>65</th>\n",
       "      <td>1</td>\n",
       "      <td>0</td>\n",
       "      <td>0</td>\n",
       "      <td>1</td>\n",
       "      <td>0</td>\n",
       "      <td>0</td>\n",
       "      <td>0</td>\n",
       "      <td>1</td>\n",
       "      <td>1</td>\n",
       "      <td>1</td>\n",
       "      <td>0</td>\n",
       "      <td>0</td>\n",
       "      <td>1</td>\n",
       "      <td>1</td>\n",
       "      <td>1</td>\n",
       "      <td>1</td>\n",
       "    </tr>\n",
       "    <tr>\n",
       "      <th>36</th>\n",
       "      <td>1</td>\n",
       "      <td>0</td>\n",
       "      <td>0</td>\n",
       "      <td>1</td>\n",
       "      <td>0</td>\n",
       "      <td>0</td>\n",
       "      <td>0</td>\n",
       "      <td>1</td>\n",
       "      <td>1</td>\n",
       "      <td>1</td>\n",
       "      <td>0</td>\n",
       "      <td>0</td>\n",
       "      <td>1</td>\n",
       "      <td>1</td>\n",
       "      <td>0</td>\n",
       "      <td>0</td>\n",
       "    </tr>\n",
       "    <tr>\n",
       "      <th>78</th>\n",
       "      <td>0</td>\n",
       "      <td>1</td>\n",
       "      <td>1</td>\n",
       "      <td>0</td>\n",
       "      <td>1</td>\n",
       "      <td>1</td>\n",
       "      <td>1</td>\n",
       "      <td>0</td>\n",
       "      <td>1</td>\n",
       "      <td>1</td>\n",
       "      <td>0</td>\n",
       "      <td>0</td>\n",
       "      <td>1</td>\n",
       "      <td>1</td>\n",
       "      <td>0</td>\n",
       "      <td>0</td>\n",
       "    </tr>\n",
       "  </tbody>\n",
       "</table>\n",
       "<p>81 rows × 16 columns</p>\n",
       "</div>"
      ],
      "text/plain": [
       "     hair  feathers  eggs  milk  airborne  aquatic  predator  toothed  \\\n",
       "ID                                                                      \n",
       "63      1         0     1     1         0        1         1        0   \n",
       "46      0         0     1     0         0        1         1        0   \n",
       "32      1         0     0     1         0        0         0        1   \n",
       "40      1         0     1     0         1        0         0        0   \n",
       "100     0         1     1     0         1        0         0        0   \n",
       "..    ...       ...   ...   ...       ...      ...       ...      ...   \n",
       "73      0         0     1     0         0        1         0        1   \n",
       "86      0         0     1     0         0        1         1        1   \n",
       "65      1         0     0     1         0        0         0        1   \n",
       "36      1         0     0     1         0        0         0        1   \n",
       "78      0         1     1     0         1        1         1        0   \n",
       "\n",
       "     backbone  breathes  venomous  fins  legs  tail  domestic  catsize  \n",
       "ID                                                                      \n",
       "63          1         1         0     0     1     1         0        1  \n",
       "46          0         0         0     0     1     0         0        0  \n",
       "32          1         1         0     0     1     0         0        1  \n",
       "40          0         1         0     0     1     0         0        0  \n",
       "100         1         1         0     0     1     1         0        0  \n",
       "..        ...       ...       ...   ...   ...   ...       ...      ...  \n",
       "73          1         0         0     1     0     1         0        0  \n",
       "86          1         0         1     1     0     1         0        1  \n",
       "65          1         1         0     0     1     1         1        1  \n",
       "36          1         1         0     0     1     1         0        0  \n",
       "78          1         1         0     0     1     1         0        0  \n",
       "\n",
       "[81 rows x 16 columns]"
      ]
     },
     "execution_count": 1019,
     "metadata": {},
     "output_type": "execute_result"
    }
   ],
   "source": [
    "folds = KFolds(X, y, k=5)  # set it up by putting data in\n",
    "X_train, X_test, y_train, y_test = folds.get_fold(fold_num=3)  # Now get the data out, divided according to fold 3\n",
    "X_train"
   ]
  },
  {
   "cell_type": "markdown",
   "metadata": {
    "id": "r33XENttYBPm"
   },
   "source": [
    "You can use those folds of the dataset with your own decision tree, or with the Scikit-Learn implementation."
   ]
  },
  {
   "cell_type": "markdown",
   "metadata": {
    "id": "w4by7aqjjgiC"
   },
   "source": [
    "### Open Questions"
   ]
  },
  {
   "cell_type": "markdown",
   "metadata": {
    "id": "m2Fc9Jpwdyc5"
   },
   "source": [
    "#### Question 5: Make a table comparing the different model/configurations.\n",
    "Write a loop that for a given value of $k$ applies k-fold cross validation with the zoo dataset. For $k=5$, report in a table the **mean** and **standard deviation** of the `accuracy_score` of each of the following:\n",
    "* The Scikit-Learn tree, using Gini\n",
    "* The Scikit-Learn tree, using Entropy\n",
    "* Your own tree, using Gini\n",
    "* Your own tree, using Entropy\n",
    "* Your own tree, using Minority Class\n",
    "\n",
    "(For full credit, do at least the Scikit-Learn trees or your own. Doing both counts as a bonus question.)"
   ]
  },
  {
   "cell_type": "code",
   "execution_count": 1118,
   "metadata": {
    "id": "heshcakXYKAd"
   },
   "outputs": [
    {
     "name": "stdout",
     "output_type": "stream",
     "text": [
      "[0.90909091 0.97058824 0.97058824]\n",
      "0.9500891265597148\n",
      "0.028990117588753295\n"
     ]
    }
   ],
   "source": [
    "i = 0\n",
    "j = 3\n",
    "kfolds = KFolds(X,y, j)\n",
    "score = np.zeros(j)\n",
    "for k in range(0, j):\n",
    "\n",
    "    X_train, X_test, y_train, y_test = kfolds.get_fold(k)\n",
    "    model = DecisionTreeClassifier(criterion=\"gini\")\n",
    "    model.fit(X_train, y_train)\n",
    "\n",
    "    y_pred = model.predict(X_test)\n",
    "    score[i] = (accuracy_score(y_test, y_pred))\n",
    "    i = i + 1\n",
    "\n",
    "print(score)\n",
    "print(np.mean(score))\n",
    "print(np.std(score))\n"
   ]
  },
  {
   "cell_type": "markdown",
   "metadata": {
    "id": "MAMBiWOZiVBn"
   },
   "source": [
    "#### Question 6: which would you prefer? \n",
    "A high-accuracy model with large standard deviation, or a somewhat lower accuracy model with lower standard deviation? Explain why."
   ]
  },
  {
   "cell_type": "markdown",
   "metadata": {
    "id": "Y8oc7dcuiiW3"
   },
   "source": [
    "#### Question 7: Experiment with different values of $k$. \n",
    "What is the effect on the accuracy and standard deviation of using larger or smaller $k$? Why do you think that is?"
   ]
  },
  {
   "cell_type": "markdown",
   "metadata": {
    "id": "zw-bnKOKYAJk"
   },
   "source": [
    "### Comparing ours to theirs"
   ]
  },
  {
   "cell_type": "markdown",
   "metadata": {
    "id": "czGdIzaZY1jh"
   },
   "source": [
    "You can also compare whether your models are working like they should by providing both your own `DTree` implementation and the Scikit-Learn `DecisionTreeClassifier` the same data and then using their text export functions to see what model they've learned:"
   ]
  },
  {
   "cell_type": "code",
   "execution_count": 792,
   "metadata": {
    "colab": {
     "base_uri": "https://localhost:8080/"
    },
    "id": "En8nUJZCVJU7",
    "outputId": "f05fcaca-5bec-48a3-c4a5-eca1d80e6caf"
   },
   "outputs": [
    {
     "name": "stdout",
     "output_type": "stream",
     "text": [
      "SK 0.9615384615384616\n",
      "|--- milk <= 0.50\n",
      "|   |--- feathers <= 0.50\n",
      "|   |   |--- fins <= 0.50\n",
      "|   |   |   |--- backbone <= 0.50\n",
      "|   |   |   |   |--- airborne <= 0.50\n",
      "|   |   |   |   |   |--- predator <= 0.50\n",
      "|   |   |   |   |   |   |--- legs <= 0.50\n",
      "|   |   |   |   |   |   |   |--- class: Invertebrate\n",
      "|   |   |   |   |   |   |--- legs >  0.50\n",
      "|   |   |   |   |   |   |   |--- class: Bug\n",
      "|   |   |   |   |   |--- predator >  0.50\n",
      "|   |   |   |   |   |   |--- class: Invertebrate\n",
      "|   |   |   |   |--- airborne >  0.50\n",
      "|   |   |   |   |   |--- class: Bug\n",
      "|   |   |   |--- backbone >  0.50\n",
      "|   |   |   |   |--- legs <= 0.50\n",
      "|   |   |   |   |   |--- class: Reptile\n",
      "|   |   |   |   |--- legs >  0.50\n",
      "|   |   |   |   |   |--- toothed <= 0.50\n",
      "|   |   |   |   |   |   |--- class: Reptile\n",
      "|   |   |   |   |   |--- toothed >  0.50\n",
      "|   |   |   |   |   |   |--- class: Amphibian\n",
      "|   |   |--- fins >  0.50\n",
      "|   |   |   |--- class: Fish\n",
      "|   |--- feathers >  0.50\n",
      "|   |   |--- class: Bird\n",
      "|--- milk >  0.50\n",
      "|   |--- class: Mammal\n",
      "\n"
     ]
    },
    {
     "ename": "ValueError",
     "evalue": "could not broadcast input array from shape (3,) into shape (9,)",
     "output_type": "error",
     "traceback": [
      "\u001b[1;31m---------------------------------------------------------------------------\u001b[0m",
      "\u001b[1;31mValueError\u001b[0m                                Traceback (most recent call last)",
      "\u001b[1;32m~\\AppData\\Local\\Temp\\ipykernel_23960\\639798960.py\u001b[0m in \u001b[0;36m<module>\u001b[1;34m\u001b[0m\n\u001b[0;32m     10\u001b[0m \u001b[0mmodel\u001b[0m \u001b[1;33m=\u001b[0m \u001b[0mDTree\u001b[0m\u001b[1;33m(\u001b[0m\u001b[0mgini\u001b[0m\u001b[1;33m)\u001b[0m\u001b[1;33m\u001b[0m\u001b[1;33m\u001b[0m\u001b[0m\n\u001b[0;32m     11\u001b[0m \u001b[0mmodel\u001b[0m\u001b[1;33m.\u001b[0m\u001b[0mfit\u001b[0m\u001b[1;33m(\u001b[0m\u001b[0mX_train\u001b[0m\u001b[1;33m,\u001b[0m \u001b[0my_train\u001b[0m\u001b[1;33m)\u001b[0m\u001b[1;33m\u001b[0m\u001b[1;33m\u001b[0m\u001b[0m\n\u001b[1;32m---> 12\u001b[1;33m \u001b[0my_pred\u001b[0m \u001b[1;33m=\u001b[0m \u001b[0mmodel\u001b[0m\u001b[1;33m.\u001b[0m\u001b[0mpredict\u001b[0m\u001b[1;33m(\u001b[0m\u001b[0mX_test\u001b[0m\u001b[1;33m)\u001b[0m\u001b[1;33m\u001b[0m\u001b[1;33m\u001b[0m\u001b[0m\n\u001b[0m\u001b[0;32m     13\u001b[0m \u001b[0mprint\u001b[0m\u001b[1;33m(\u001b[0m\u001b[1;34mf'Ours {accuracy_score(y_test, y_pred)}'\u001b[0m\u001b[1;33m)\u001b[0m\u001b[1;33m\u001b[0m\u001b[1;33m\u001b[0m\u001b[0m\n\u001b[0;32m     14\u001b[0m \u001b[0mprint\u001b[0m\u001b[1;33m(\u001b[0m\u001b[0mmodel\u001b[0m\u001b[1;33m.\u001b[0m\u001b[0mto_text\u001b[0m\u001b[1;33m(\u001b[0m\u001b[1;33m)\u001b[0m\u001b[1;33m)\u001b[0m\u001b[1;33m\u001b[0m\u001b[1;33m\u001b[0m\u001b[0m\n",
      "\u001b[1;32m~\\AppData\\Local\\Temp\\ipykernel_23960\\3221354637.py\u001b[0m in \u001b[0;36mpredict\u001b[1;34m(self, features)\u001b[0m\n\u001b[0;32m    101\u001b[0m        \u001b[1;32mif\u001b[0m \u001b[0mself\u001b[0m\u001b[1;33m.\u001b[0m\u001b[0m_split\u001b[0m\u001b[1;33m:\u001b[0m  \u001b[1;31m# branch node; recursively replace predictions with child predictions\u001b[0m\u001b[1;33m\u001b[0m\u001b[1;33m\u001b[0m\u001b[0m\n\u001b[0;32m    102\u001b[0m            \u001b[0myes_index\u001b[0m \u001b[1;33m=\u001b[0m \u001b[0mfeatures\u001b[0m\u001b[1;33m[\u001b[0m\u001b[0mself\u001b[0m\u001b[1;33m.\u001b[0m\u001b[0m_split\u001b[0m\u001b[1;33m]\u001b[0m \u001b[1;33m>\u001b[0m \u001b[1;36m0.5\u001b[0m\u001b[1;33m\u001b[0m\u001b[1;33m\u001b[0m\u001b[0m\n\u001b[1;32m--> 103\u001b[1;33m            \u001b[0mresults\u001b[0m\u001b[1;33m[\u001b[0m\u001b[0myes_index\u001b[0m\u001b[1;33m]\u001b[0m \u001b[1;33m=\u001b[0m \u001b[0mself\u001b[0m\u001b[1;33m.\u001b[0m\u001b[0m_yes\u001b[0m\u001b[1;33m.\u001b[0m\u001b[0mpredict\u001b[0m\u001b[1;33m(\u001b[0m\u001b[0mfeatures\u001b[0m\u001b[1;33m.\u001b[0m\u001b[0mloc\u001b[0m\u001b[1;33m[\u001b[0m\u001b[0myes_index\u001b[0m\u001b[1;33m]\u001b[0m\u001b[1;33m)\u001b[0m\u001b[1;33m\u001b[0m\u001b[1;33m\u001b[0m\u001b[0m\n\u001b[0m\u001b[0;32m    104\u001b[0m            \u001b[0mresults\u001b[0m\u001b[1;33m[\u001b[0m\u001b[1;33m~\u001b[0m\u001b[0myes_index\u001b[0m\u001b[1;33m]\u001b[0m \u001b[1;33m=\u001b[0m \u001b[0mself\u001b[0m\u001b[1;33m.\u001b[0m\u001b[0m_no\u001b[0m\u001b[1;33m.\u001b[0m\u001b[0mpredict\u001b[0m\u001b[1;33m(\u001b[0m\u001b[0mfeatures\u001b[0m\u001b[1;33m.\u001b[0m\u001b[0mloc\u001b[0m\u001b[1;33m[\u001b[0m\u001b[1;33m~\u001b[0m\u001b[0myes_index\u001b[0m\u001b[1;33m]\u001b[0m\u001b[1;33m)\u001b[0m\u001b[1;33m\u001b[0m\u001b[1;33m\u001b[0m\u001b[0m\n\u001b[0;32m    105\u001b[0m        \u001b[1;32mreturn\u001b[0m \u001b[0mresults\u001b[0m\u001b[1;33m\u001b[0m\u001b[1;33m\u001b[0m\u001b[0m\n",
      "\u001b[1;32m~\\AppData\\Local\\Temp\\ipykernel_23960\\3221354637.py\u001b[0m in \u001b[0;36mpredict\u001b[1;34m(self, features)\u001b[0m\n\u001b[0;32m     98\u001b[0m        \u001b[0mbased\u001b[0m \u001b[0mon\u001b[0m \u001b[0mthe\u001b[0m \u001b[0mfeature\u001b[0m \u001b[0msplit\u001b[0m \u001b[1;32min\u001b[0m \u001b[0mthis\u001b[0m \u001b[0mnode\u001b[0m\u001b[1;33m.\u001b[0m\u001b[1;33m\u001b[0m\u001b[1;33m\u001b[0m\u001b[0m\n\u001b[0;32m     99\u001b[0m        \"\"\"\n\u001b[1;32m--> 100\u001b[1;33m        \u001b[0mresults\u001b[0m \u001b[1;33m=\u001b[0m \u001b[0mnp\u001b[0m\u001b[1;33m.\u001b[0m\u001b[0mfull\u001b[0m\u001b[1;33m(\u001b[0m\u001b[0mfeatures\u001b[0m\u001b[1;33m.\u001b[0m\u001b[0mshape\u001b[0m\u001b[1;33m[\u001b[0m\u001b[1;36m0\u001b[0m\u001b[1;33m]\u001b[0m\u001b[1;33m,\u001b[0m \u001b[0mself\u001b[0m\u001b[1;33m.\u001b[0m\u001b[0m_label\u001b[0m\u001b[1;33m,\u001b[0m \u001b[0mdtype\u001b[0m\u001b[1;33m=\u001b[0m\u001b[0mobject\u001b[0m\u001b[1;33m)\u001b[0m  \u001b[1;31m# object!!!\u001b[0m\u001b[1;33m\u001b[0m\u001b[1;33m\u001b[0m\u001b[0m\n\u001b[0m\u001b[0;32m    101\u001b[0m        \u001b[1;32mif\u001b[0m \u001b[0mself\u001b[0m\u001b[1;33m.\u001b[0m\u001b[0m_split\u001b[0m\u001b[1;33m:\u001b[0m  \u001b[1;31m# branch node; recursively replace predictions with child predictions\u001b[0m\u001b[1;33m\u001b[0m\u001b[1;33m\u001b[0m\u001b[0m\n\u001b[0;32m    102\u001b[0m            \u001b[0myes_index\u001b[0m \u001b[1;33m=\u001b[0m \u001b[0mfeatures\u001b[0m\u001b[1;33m[\u001b[0m\u001b[0mself\u001b[0m\u001b[1;33m.\u001b[0m\u001b[0m_split\u001b[0m\u001b[1;33m]\u001b[0m \u001b[1;33m>\u001b[0m \u001b[1;36m0.5\u001b[0m\u001b[1;33m\u001b[0m\u001b[1;33m\u001b[0m\u001b[0m\n",
      "\u001b[1;32mC:\\ProgramData\\Anaconda3\\lib\\site-packages\\numpy\\core\\numeric.py\u001b[0m in \u001b[0;36mfull\u001b[1;34m(shape, fill_value, dtype, order, like)\u001b[0m\n\u001b[0;32m    342\u001b[0m         \u001b[0mdtype\u001b[0m \u001b[1;33m=\u001b[0m \u001b[0mfill_value\u001b[0m\u001b[1;33m.\u001b[0m\u001b[0mdtype\u001b[0m\u001b[1;33m\u001b[0m\u001b[1;33m\u001b[0m\u001b[0m\n\u001b[0;32m    343\u001b[0m     \u001b[0ma\u001b[0m \u001b[1;33m=\u001b[0m \u001b[0mempty\u001b[0m\u001b[1;33m(\u001b[0m\u001b[0mshape\u001b[0m\u001b[1;33m,\u001b[0m \u001b[0mdtype\u001b[0m\u001b[1;33m,\u001b[0m \u001b[0morder\u001b[0m\u001b[1;33m)\u001b[0m\u001b[1;33m\u001b[0m\u001b[1;33m\u001b[0m\u001b[0m\n\u001b[1;32m--> 344\u001b[1;33m     \u001b[0mmultiarray\u001b[0m\u001b[1;33m.\u001b[0m\u001b[0mcopyto\u001b[0m\u001b[1;33m(\u001b[0m\u001b[0ma\u001b[0m\u001b[1;33m,\u001b[0m \u001b[0mfill_value\u001b[0m\u001b[1;33m,\u001b[0m \u001b[0mcasting\u001b[0m\u001b[1;33m=\u001b[0m\u001b[1;34m'unsafe'\u001b[0m\u001b[1;33m)\u001b[0m\u001b[1;33m\u001b[0m\u001b[1;33m\u001b[0m\u001b[0m\n\u001b[0m\u001b[0;32m    345\u001b[0m     \u001b[1;32mreturn\u001b[0m \u001b[0ma\u001b[0m\u001b[1;33m\u001b[0m\u001b[1;33m\u001b[0m\u001b[0m\n\u001b[0;32m    346\u001b[0m \u001b[1;33m\u001b[0m\u001b[0m\n",
      "\u001b[1;32m<__array_function__ internals>\u001b[0m in \u001b[0;36mcopyto\u001b[1;34m(*args, **kwargs)\u001b[0m\n",
      "\u001b[1;31mValueError\u001b[0m: could not broadcast input array from shape (3,) into shape (9,)"
     ]
    }
   ],
   "source": [
    "X_train, X_test, y_train, y_test = train_test_split(X, y)\n",
    "\n",
    "model = DecisionTreeClassifier(criterion='gini')\n",
    "model.fit(X_train, y_train)\n",
    "y_pred = model.predict(X_test)\n",
    "print(f'SK {accuracy_score(y_test, y_pred)}')\n",
    "print(export_text(model, feature_names=fn))\n",
    "\n",
    "\n",
    "model = DTree(gini)\n",
    "model.fit(X_train, y_train)\n",
    "y_pred = model.predict(X_test)\n",
    "print(f'Ours {accuracy_score(y_test, y_pred)}')\n",
    "print(model.to_text())\n"
   ]
  },
  {
   "cell_type": "code",
   "execution_count": 793,
   "metadata": {
    "colab": {
     "base_uri": "https://localhost:8080/"
    },
    "id": "M3cFbO_RhFGG",
    "outputId": "0d1ed836-35d8-41ff-8169-b7a7dd1ec590"
   },
   "outputs": [
    {
     "name": "stdout",
     "output_type": "stream",
     "text": [
      "SK 0.8846153846153846\n",
      "|--- milk <= 0.50\n",
      "|   |--- tail <= 0.50\n",
      "|   |   |--- toothed <= 0.50\n",
      "|   |   |   |--- airborne <= 0.50\n",
      "|   |   |   |   |--- breathes <= 0.50\n",
      "|   |   |   |   |   |--- class: Invertebrate\n",
      "|   |   |   |   |--- breathes >  0.50\n",
      "|   |   |   |   |   |--- legs <= 0.50\n",
      "|   |   |   |   |   |   |--- class: Invertebrate\n",
      "|   |   |   |   |   |--- legs >  0.50\n",
      "|   |   |   |   |   |   |--- class: Bug\n",
      "|   |   |   |--- airborne >  0.50\n",
      "|   |   |   |   |--- class: Bug\n",
      "|   |   |--- toothed >  0.50\n",
      "|   |   |   |--- class: Amphibian\n",
      "|   |--- tail >  0.50\n",
      "|   |   |--- feathers <= 0.50\n",
      "|   |   |   |--- breathes <= 0.50\n",
      "|   |   |   |   |--- class: Fish\n",
      "|   |   |   |--- breathes >  0.50\n",
      "|   |   |   |   |--- class: Reptile\n",
      "|   |   |--- feathers >  0.50\n",
      "|   |   |   |--- class: Bird\n",
      "|--- milk >  0.50\n",
      "|   |--- class: Mammal\n",
      "\n"
     ]
    },
    {
     "ename": "ValueError",
     "evalue": "could not broadcast input array from shape (3,) into shape (12,)",
     "output_type": "error",
     "traceback": [
      "\u001b[1;31m---------------------------------------------------------------------------\u001b[0m",
      "\u001b[1;31mValueError\u001b[0m                                Traceback (most recent call last)",
      "\u001b[1;32m~\\AppData\\Local\\Temp\\ipykernel_23960\\3077927232.py\u001b[0m in \u001b[0;36m<module>\u001b[1;34m\u001b[0m\n\u001b[0;32m     10\u001b[0m \u001b[0mmodel\u001b[0m \u001b[1;33m=\u001b[0m \u001b[0mDTree\u001b[0m\u001b[1;33m(\u001b[0m\u001b[0mentropy\u001b[0m\u001b[1;33m)\u001b[0m\u001b[1;33m\u001b[0m\u001b[1;33m\u001b[0m\u001b[0m\n\u001b[0;32m     11\u001b[0m \u001b[0mmodel\u001b[0m\u001b[1;33m.\u001b[0m\u001b[0mfit\u001b[0m\u001b[1;33m(\u001b[0m\u001b[0mX_train\u001b[0m\u001b[1;33m,\u001b[0m \u001b[0my_train\u001b[0m\u001b[1;33m)\u001b[0m\u001b[1;33m\u001b[0m\u001b[1;33m\u001b[0m\u001b[0m\n\u001b[1;32m---> 12\u001b[1;33m \u001b[0my_pred\u001b[0m \u001b[1;33m=\u001b[0m \u001b[0mmodel\u001b[0m\u001b[1;33m.\u001b[0m\u001b[0mpredict\u001b[0m\u001b[1;33m(\u001b[0m\u001b[0mX_test\u001b[0m\u001b[1;33m)\u001b[0m\u001b[1;33m\u001b[0m\u001b[1;33m\u001b[0m\u001b[0m\n\u001b[0m\u001b[0;32m     13\u001b[0m \u001b[0mprint\u001b[0m\u001b[1;33m(\u001b[0m\u001b[1;34mf'Ours {accuracy_score(y_test, y_pred)}'\u001b[0m\u001b[1;33m)\u001b[0m\u001b[1;33m\u001b[0m\u001b[1;33m\u001b[0m\u001b[0m\n\u001b[0;32m     14\u001b[0m \u001b[0mprint\u001b[0m\u001b[1;33m(\u001b[0m\u001b[0mmodel\u001b[0m\u001b[1;33m.\u001b[0m\u001b[0mto_text\u001b[0m\u001b[1;33m(\u001b[0m\u001b[1;33m)\u001b[0m\u001b[1;33m)\u001b[0m\u001b[1;33m\u001b[0m\u001b[1;33m\u001b[0m\u001b[0m\n",
      "\u001b[1;32m~\\AppData\\Local\\Temp\\ipykernel_23960\\3221354637.py\u001b[0m in \u001b[0;36mpredict\u001b[1;34m(self, features)\u001b[0m\n\u001b[0;32m    101\u001b[0m        \u001b[1;32mif\u001b[0m \u001b[0mself\u001b[0m\u001b[1;33m.\u001b[0m\u001b[0m_split\u001b[0m\u001b[1;33m:\u001b[0m  \u001b[1;31m# branch node; recursively replace predictions with child predictions\u001b[0m\u001b[1;33m\u001b[0m\u001b[1;33m\u001b[0m\u001b[0m\n\u001b[0;32m    102\u001b[0m            \u001b[0myes_index\u001b[0m \u001b[1;33m=\u001b[0m \u001b[0mfeatures\u001b[0m\u001b[1;33m[\u001b[0m\u001b[0mself\u001b[0m\u001b[1;33m.\u001b[0m\u001b[0m_split\u001b[0m\u001b[1;33m]\u001b[0m \u001b[1;33m>\u001b[0m \u001b[1;36m0.5\u001b[0m\u001b[1;33m\u001b[0m\u001b[1;33m\u001b[0m\u001b[0m\n\u001b[1;32m--> 103\u001b[1;33m            \u001b[0mresults\u001b[0m\u001b[1;33m[\u001b[0m\u001b[0myes_index\u001b[0m\u001b[1;33m]\u001b[0m \u001b[1;33m=\u001b[0m \u001b[0mself\u001b[0m\u001b[1;33m.\u001b[0m\u001b[0m_yes\u001b[0m\u001b[1;33m.\u001b[0m\u001b[0mpredict\u001b[0m\u001b[1;33m(\u001b[0m\u001b[0mfeatures\u001b[0m\u001b[1;33m.\u001b[0m\u001b[0mloc\u001b[0m\u001b[1;33m[\u001b[0m\u001b[0myes_index\u001b[0m\u001b[1;33m]\u001b[0m\u001b[1;33m)\u001b[0m\u001b[1;33m\u001b[0m\u001b[1;33m\u001b[0m\u001b[0m\n\u001b[0m\u001b[0;32m    104\u001b[0m            \u001b[0mresults\u001b[0m\u001b[1;33m[\u001b[0m\u001b[1;33m~\u001b[0m\u001b[0myes_index\u001b[0m\u001b[1;33m]\u001b[0m \u001b[1;33m=\u001b[0m \u001b[0mself\u001b[0m\u001b[1;33m.\u001b[0m\u001b[0m_no\u001b[0m\u001b[1;33m.\u001b[0m\u001b[0mpredict\u001b[0m\u001b[1;33m(\u001b[0m\u001b[0mfeatures\u001b[0m\u001b[1;33m.\u001b[0m\u001b[0mloc\u001b[0m\u001b[1;33m[\u001b[0m\u001b[1;33m~\u001b[0m\u001b[0myes_index\u001b[0m\u001b[1;33m]\u001b[0m\u001b[1;33m)\u001b[0m\u001b[1;33m\u001b[0m\u001b[1;33m\u001b[0m\u001b[0m\n\u001b[0;32m    105\u001b[0m        \u001b[1;32mreturn\u001b[0m \u001b[0mresults\u001b[0m\u001b[1;33m\u001b[0m\u001b[1;33m\u001b[0m\u001b[0m\n",
      "\u001b[1;32m~\\AppData\\Local\\Temp\\ipykernel_23960\\3221354637.py\u001b[0m in \u001b[0;36mpredict\u001b[1;34m(self, features)\u001b[0m\n\u001b[0;32m     98\u001b[0m        \u001b[0mbased\u001b[0m \u001b[0mon\u001b[0m \u001b[0mthe\u001b[0m \u001b[0mfeature\u001b[0m \u001b[0msplit\u001b[0m \u001b[1;32min\u001b[0m \u001b[0mthis\u001b[0m \u001b[0mnode\u001b[0m\u001b[1;33m.\u001b[0m\u001b[1;33m\u001b[0m\u001b[1;33m\u001b[0m\u001b[0m\n\u001b[0;32m     99\u001b[0m        \"\"\"\n\u001b[1;32m--> 100\u001b[1;33m        \u001b[0mresults\u001b[0m \u001b[1;33m=\u001b[0m \u001b[0mnp\u001b[0m\u001b[1;33m.\u001b[0m\u001b[0mfull\u001b[0m\u001b[1;33m(\u001b[0m\u001b[0mfeatures\u001b[0m\u001b[1;33m.\u001b[0m\u001b[0mshape\u001b[0m\u001b[1;33m[\u001b[0m\u001b[1;36m0\u001b[0m\u001b[1;33m]\u001b[0m\u001b[1;33m,\u001b[0m \u001b[0mself\u001b[0m\u001b[1;33m.\u001b[0m\u001b[0m_label\u001b[0m\u001b[1;33m,\u001b[0m \u001b[0mdtype\u001b[0m\u001b[1;33m=\u001b[0m\u001b[0mobject\u001b[0m\u001b[1;33m)\u001b[0m  \u001b[1;31m# object!!!\u001b[0m\u001b[1;33m\u001b[0m\u001b[1;33m\u001b[0m\u001b[0m\n\u001b[0m\u001b[0;32m    101\u001b[0m        \u001b[1;32mif\u001b[0m \u001b[0mself\u001b[0m\u001b[1;33m.\u001b[0m\u001b[0m_split\u001b[0m\u001b[1;33m:\u001b[0m  \u001b[1;31m# branch node; recursively replace predictions with child predictions\u001b[0m\u001b[1;33m\u001b[0m\u001b[1;33m\u001b[0m\u001b[0m\n\u001b[0;32m    102\u001b[0m            \u001b[0myes_index\u001b[0m \u001b[1;33m=\u001b[0m \u001b[0mfeatures\u001b[0m\u001b[1;33m[\u001b[0m\u001b[0mself\u001b[0m\u001b[1;33m.\u001b[0m\u001b[0m_split\u001b[0m\u001b[1;33m]\u001b[0m \u001b[1;33m>\u001b[0m \u001b[1;36m0.5\u001b[0m\u001b[1;33m\u001b[0m\u001b[1;33m\u001b[0m\u001b[0m\n",
      "\u001b[1;32mC:\\ProgramData\\Anaconda3\\lib\\site-packages\\numpy\\core\\numeric.py\u001b[0m in \u001b[0;36mfull\u001b[1;34m(shape, fill_value, dtype, order, like)\u001b[0m\n\u001b[0;32m    342\u001b[0m         \u001b[0mdtype\u001b[0m \u001b[1;33m=\u001b[0m \u001b[0mfill_value\u001b[0m\u001b[1;33m.\u001b[0m\u001b[0mdtype\u001b[0m\u001b[1;33m\u001b[0m\u001b[1;33m\u001b[0m\u001b[0m\n\u001b[0;32m    343\u001b[0m     \u001b[0ma\u001b[0m \u001b[1;33m=\u001b[0m \u001b[0mempty\u001b[0m\u001b[1;33m(\u001b[0m\u001b[0mshape\u001b[0m\u001b[1;33m,\u001b[0m \u001b[0mdtype\u001b[0m\u001b[1;33m,\u001b[0m \u001b[0morder\u001b[0m\u001b[1;33m)\u001b[0m\u001b[1;33m\u001b[0m\u001b[1;33m\u001b[0m\u001b[0m\n\u001b[1;32m--> 344\u001b[1;33m     \u001b[0mmultiarray\u001b[0m\u001b[1;33m.\u001b[0m\u001b[0mcopyto\u001b[0m\u001b[1;33m(\u001b[0m\u001b[0ma\u001b[0m\u001b[1;33m,\u001b[0m \u001b[0mfill_value\u001b[0m\u001b[1;33m,\u001b[0m \u001b[0mcasting\u001b[0m\u001b[1;33m=\u001b[0m\u001b[1;34m'unsafe'\u001b[0m\u001b[1;33m)\u001b[0m\u001b[1;33m\u001b[0m\u001b[1;33m\u001b[0m\u001b[0m\n\u001b[0m\u001b[0;32m    345\u001b[0m     \u001b[1;32mreturn\u001b[0m \u001b[0ma\u001b[0m\u001b[1;33m\u001b[0m\u001b[1;33m\u001b[0m\u001b[0m\n\u001b[0;32m    346\u001b[0m \u001b[1;33m\u001b[0m\u001b[0m\n",
      "\u001b[1;32m<__array_function__ internals>\u001b[0m in \u001b[0;36mcopyto\u001b[1;34m(*args, **kwargs)\u001b[0m\n",
      "\u001b[1;31mValueError\u001b[0m: could not broadcast input array from shape (3,) into shape (12,)"
     ]
    }
   ],
   "source": [
    "X_train, X_test, y_train, y_test = train_test_split(X, y)\n",
    "\n",
    "model = DecisionTreeClassifier(criterion='entropy')\n",
    "model.fit(X_train, y_train)\n",
    "y_pred = model.predict(X_test)\n",
    "print(f'SK {accuracy_score(y_test, y_pred)}')\n",
    "print(export_text(model, feature_names=fn))\n",
    "\n",
    "\n",
    "model = DTree(entropy)\n",
    "model.fit(X_train, y_train)\n",
    "y_pred = model.predict(X_test)\n",
    "print(f'Ours {accuracy_score(y_test, y_pred)}')\n",
    "print(model.to_text())"
   ]
  },
  {
   "cell_type": "code",
   "execution_count": null,
   "metadata": {},
   "outputs": [],
   "source": []
  },
  {
   "cell_type": "code",
   "execution_count": null,
   "metadata": {},
   "outputs": [],
   "source": [
    "z"
   ]
  }
 ],
 "metadata": {
  "colab": {
   "collapsed_sections": [],
   "name": "A2_teacher.ipynb",
   "provenance": [],
   "toc_visible": true
  },
  "kernelspec": {
   "display_name": "Python 3",
   "language": "python",
   "name": "python3"
  },
  "language_info": {
   "codemirror_mode": {
    "name": "ipython",
    "version": 3
   },
   "file_extension": ".py",
   "mimetype": "text/x-python",
   "name": "python",
   "nbconvert_exporter": "python",
   "pygments_lexer": "ipython3",
   "version": "3.8.3"
  }
 },
 "nbformat": 4,
 "nbformat_minor": 1
}
