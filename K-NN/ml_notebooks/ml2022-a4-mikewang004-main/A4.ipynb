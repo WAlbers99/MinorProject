{
 "cells": [
  {
   "cell_type": "markdown",
   "metadata": {
    "id": "X_qFHr9IhitQ"
   },
   "source": [
    "**Machine Learning assignment 4: dimensionality reduction**\n",
    "\n",
    "Read this notebook and do the exercises; then:\n",
    "\n",
    "* Copy your exercise solutions into the skeleton code in `A4.py`, and you test them with `pytest` and `A4_test.py`. When you're satisfied that your code in `A4.py` passes the tests, commit and push it back to Github. You can also push your notebook -- that will never negatively impact your grade, but could give us an idea of what you did wrong for open questions.\n",
    "\n",
    "* Make a PDF report answers to the open questions (as well as your graphics). It should be named `A4_s1234567890.pdf`, but using your own student number instead of 1234567890. Hand the PDF report in through Brightspace. Your answers don't need to be long, just be to the point -- _but illustrative examples are welcome._\n",
    "\n",
    "* If you do not submit both `A4.py` to Github and the PDF report to Brightspace, you will fail this assignment.\n",
    "\n",
    "* This is an individual assignment. Your code and report must be your own work.\n",
    "\n",
    "---\n",
    "\n",
    "Specific notes for this assignment:\n",
    "\n",
    "* Make sure to look at the code that is not part of programming exercises, we sometimes give it to you because you need it later on.\n",
    "\n",
    "* There are 8 programming exercises that are labelled with subsubsections that start with \"Exercise [number]:\".\n",
    "\n",
    "* There are 5 regular open questions, 2 plot questions, and 1 open bonus question that you should answer in your report. These are labelled with subsubsections that start with \"Question [number] [(bonus)  or (2 points) if applicable]:\".\n",
    "\n",
    "* The 8 programming exercises (`A4.py`) make up 40% of your grade. The 8 or 9 questions that end up in your report (`A4_[your ID].pdf`) make up the other 60% of your grade."
   ]
  },
  {
   "cell_type": "markdown",
   "metadata": {
    "id": "EcbMOtMvwSnl"
   },
   "source": [
    "# Set-Up"
   ]
  },
  {
   "cell_type": "markdown",
   "metadata": {
    "id": "jwnovVS-baoG"
   },
   "source": [
    "## Import packages and functions"
   ]
  },
  {
   "cell_type": "code",
   "execution_count": 1,
   "metadata": {
    "id": "-DLYyhnkwSnw"
   },
   "outputs": [],
   "source": [
    "import matplotlib.pyplot as plt\n",
    "import numpy as np\n",
    "\n",
    "from sklearn.decomposition import PCA\n",
    "from sklearn.preprocessing import scale as sk_scale\n",
    "from sklearn.datasets import load_breast_cancer\n",
    "from sklearn.svm import SVC\n",
    "from sklearn.utils import shuffle as sk_shuffle"
   ]
  },
  {
   "cell_type": "markdown",
   "metadata": {
    "id": "KdW8IqR7bP6w"
   },
   "source": [
    "## Define some basic functions and classes\n",
    "\n",
    "There are examples of usage of all of these below."
   ]
  },
  {
   "cell_type": "code",
   "execution_count": 2,
   "metadata": {
    "id": "kYnzzLgNymPR"
   },
   "outputs": [],
   "source": [
    "def helpful_eq(a, b, failing_is_good=False):\n",
    "    \"\"\"Basically `==` after rounding with prints. \n",
    "    `a` and `b` can be numbers or (>1D) (NumPy) arrays.\"\"\"\n",
    "    def print_bad_news():\n",
    "        print(a)\n",
    "        print(\"helpful_eq(...) fail: ^ does not equal:\")\n",
    "        print(b)\n",
    "\n",
    "    try:\n",
    "        if hasattr(a, \"__len__\"):\n",
    "            r = np.allclose(a, b, atol=1e-3)\n",
    "        else:\n",
    "            r = round(a, 3) == round(b, 3)\n",
    "        if failing_is_good:\n",
    "            r = not r\n",
    "        if not r:\n",
    "            print_bad_news()\n",
    "        return r\n",
    "    except Exception as e:\n",
    "        print_bad_news()\n",
    "        print(\"And/or we encountered exception message\")\n",
    "        print(e)\n",
    "        return False\n",
    "\n",
    "\n",
    "def mean_squared_error(true, pred):\n",
    "    \"\"\"`true` and `pred` should be (numpy.nd)arrays with similar shapes.\n",
    "    Returns mean (over instances/rows) of sum of squared feature difference (in columns).\"\"\"\n",
    "    return np.mean(((true - pred) ** 2).mean(axis=1))\n",
    "\n",
    "\n",
    "class NFolds:\n",
    "    def __init__(self, X, y, n_folds=5, seed=42):\n",
    "        \"\"\" Initialize the KFolds instance\n",
    "\n",
    "        :param X: numpy.ndarray of feature columns \n",
    "        :param y: numpy.ndarray of labels\n",
    "        :param n_folds: number of folds desired\n",
    "        :param seed: random seed, if you want reproducible results (optional)\n",
    "\n",
    "        After initialization, self.folds will store n_folds folds.\n",
    "        Each fold is a pair of arrays with training indices and test indices.\n",
    "        The folds are as evenly distributed in size as possible.\n",
    "        All the test segments are pairwise disjoint.\n",
    "        \"\"\"\n",
    "        self.X = X\n",
    "        self.y = y\n",
    "        self.n_folds = n_folds\n",
    "        self.folds = []\n",
    "        indices = np.arange(X.shape[0])\n",
    "        if seed is not None:\n",
    "            np.random.seed(seed=seed)\n",
    "        np.random.shuffle(indices)\n",
    "        fold_size = X.shape[0] / n_folds\n",
    "        for fold_num in range(n_folds):\n",
    "            test = indices[int(fold_num * fold_size): int((fold_num + 1) * fold_size)]\n",
    "            train = np.concatenate([indices[: int(fold_num * fold_size)],\n",
    "                                    indices[int((fold_num + 1) * fold_size):]])\n",
    "            self.folds.append((train, test))\n",
    "\n",
    "    def get_fold(self, fold_num):\n",
    "        \"\"\" Get the training and test data of the fold_num-th fold\n",
    "\n",
    "        :param fold_num: Which fold's division of the data to use\n",
    "        :return: Training and test features/labels\n",
    "        \"\"\"\n",
    "        train, test = self.folds[fold_num]\n",
    "        X_train = self.X[train]\n",
    "        X_test = self.X[test]\n",
    "        y_train = self.y[train]\n",
    "        y_test = self.y[test]\n",
    "        return X_train, X_test, y_train, y_test"
   ]
  },
  {
   "cell_type": "markdown",
   "metadata": {
    "id": "s_X3cHfqwSnx"
   },
   "source": [
    "# Principal component analysis\n",
    "\n",
    "Principal component analysis (PCA) is an unsupervised method for dimensionality reduction. The principal _components_ are vectors that can be considered as a direction in which the data is most variant. The first of these components \"explains\" more variance in the data than the second, and so forth. The _scores_ are numbers (\"scalars\") with which these components can be multiplied to reconstruct the original data. By taking only $k$ $d$-dimensional component vectors and an $n\\times k$ score matrix we have a compressed _approximate_ representation of an $n\\times d$-sized dataset. The information density of all involved numbers/vectors is hopefully higher.\n",
    "\n",
    "We will use the singular value decomposition to implement our principal component analysis algorithm -- it is described around equation 10.2 on page 324 (344 in my .pdf) of Peter Flach's Machine Learning book."
   ]
  },
  {
   "cell_type": "markdown",
   "metadata": {
    "id": "K-rb8nH3wSny"
   },
   "source": [
    "## Load simple numerical dataset\n",
    "\n",
    "Our simple, first dataset consists of four instances of measurements of two features. In terms of the mathematical symbols: this is our $n \\times d = 4 \\times 2$-sized matrix $\\mathbf{X}$."
   ]
  },
  {
   "cell_type": "code",
   "execution_count": 3,
   "metadata": {
    "id": "ucRE1KSpwSny"
   },
   "outputs": [],
   "source": [
    "X = np.array([[0.0, 0.4], \n",
    "              [1.0, 2.0], \n",
    "              [2.0, 3.2], \n",
    "              [3.0, 5.3]])"
   ]
  },
  {
   "cell_type": "markdown",
   "metadata": {
    "id": "RranDBzrwSnz"
   },
   "source": [
    "\n",
    "## Center and scale\n",
    "\n",
    "We need to normalize our dataset if we want PCA to consider all features potentially equally important. Specifically, we want all $d$ features to be centered on zero and have the same standard deviation."
   ]
  },
  {
   "cell_type": "markdown",
   "metadata": {
    "id": "rmli24BGg5iR"
   },
   "source": [
    "### Exercise 1: implement `(un)center_and_(un)scale`"
   ]
  },
  {
   "cell_type": "code",
   "execution_count": 4,
   "metadata": {
    "id": "oGHsooLvwSn0"
   },
   "outputs": [],
   "source": [
    "def center_and_scale(X):\n",
    "    \"\"\"`X` is a numpy.ndarray. Rows represent instances. Columns represent feature values.\n",
    "    First output is a modified copy of `X` where mean of individual features is 0 and \n",
    "    standard deviation is 1. The second and third output are original values of said mean and \n",
    "    standard deviation respectively.\"\"\"\n",
    "    orig_mean = np.mean(X, 0)\n",
    "    orig_std = np.std(X, 0)\n",
    "    #Normalise dataset\n",
    "    \n",
    "    X_transform = X - orig_mean\n",
    "    #X_normalised = (X_transform)/(np.linalg.norm((X_transform),axis=0))*np.sqrt(X.shape[0])\n",
    "    X_normalised = X_transform / orig_std\n",
    "    \n",
    "    return X_normalised, orig_mean, orig_std\n",
    "\n",
    "\n",
    "def uncenter_and_unscale(X_norm, orig_center, orig_std):\n",
    "    \"\"\"`X_norm` is a numpy.ndarray. Rows represent instances. Columns represent feature values,\n",
    "    now with mean 0 and standard deviation 1. Output is a modified copy of `X_norm` with values of\n",
    "    `orig_center` as column means and values of `orig_std` as column standard deviations. (This\n",
    "    function thus reverses `center_and`scale`.)\"\"\"\n",
    "    #raise NotImplementedError()\n",
    "    #X_transform = X + orig_center \n",
    "    #X_orig = X_transform * ((X_transform.shape[0])**2 * np.linalg.norm((X_transform),axis=0))\n",
    "    \n",
    "    X_orig = (X_norm * orig_std) + orig_center\n",
    "    return X_orig\n",
    "\n",
    "X_norm, orig_center, orig_std = center_and_scale(X)"
   ]
  },
  {
   "cell_type": "code",
   "execution_count": 5,
   "metadata": {
    "id": "uv1YeSa4n53r"
   },
   "outputs": [],
   "source": [
    "def test_center_and_scale():\n",
    "    # And uncenter_and_unscale...\n",
    "    X = np.array([[0.0, 0.5, 7], [1.0, 1.5, -10], [2.0, 4.5, 0], [3.0, 5.5, 999]])\n",
    "    X_norm, orig_center, orig_std = center_and_scale(X)\n",
    "    assert helpful_eq(X_norm.mean(), 0)\n",
    "    assert helpful_eq(X_norm.var(), 1)\n",
    "    sk_X_norm = sk_scale(X)\n",
    "    assert helpful_eq(X_norm, sk_X_norm)\n",
    "    assert helpful_eq(orig_center, [1.5, 3.0, 249.])\n",
    "    assert helpful_eq(orig_std, [1.118, 2.062, 433.055])\n",
    "    X = np.dot(np.random.rand(2, 2), np.random.randn(2, 100)).T\n",
    "    csX = center_and_scale(X)\n",
    "    assert helpful_eq(csX[0], sk_scale(X))\n",
    "    assert helpful_eq(uncenter_and_unscale(*csX), X)\n",
    "\n",
    "test_center_and_scale()"
   ]
  },
  {
   "cell_type": "markdown",
   "metadata": {
    "id": "S8b1PgAewSn5"
   },
   "source": [
    "## Visualize our goal\n",
    "\n",
    "Using https://scikit-learn.org/stable/modules/generated/sklearn.decomposition.PCA.html. You can use this cell as inspiration for the other programming exercises if you didn't manage to finish the earlier ones."
   ]
  },
  {
   "cell_type": "code",
   "execution_count": 6,
   "metadata": {
    "colab": {
     "base_uri": "https://localhost:8080/"
    },
    "executionInfo": {
     "elapsed": 1763,
     "status": "ok",
     "timestamp": 1618830275489,
     "user": {
      "displayName": "Bram Otten",
      "photoUrl": "",
      "userId": "13006621849040554927"
     },
     "user_tz": -120
    },
    "id": "zHGGtCELwSn5",
    "outputId": "e11879f1-2781-4d5b-afc1-372d88063a9e",
    "scrolled": true
   },
   "outputs": [
    {
     "name": "stdout",
     "output_type": "stream",
     "text": [
      "Component(s) matrix:\n",
      "[[0.70710678 0.70710678]]\n",
      "Score matrix\n",
      "[[-1.86816932]\n",
      " [-0.60294921]\n",
      " [ 0.50407975]\n",
      " [ 1.96703879]]\n",
      "\n",
      "[[-1.342 -1.3  ]\n",
      " [-0.447 -0.405]\n",
      " [ 0.447  0.266]\n",
      " [ 1.342  1.44 ]]\n",
      "Recreation of [centered and scaled matrix above] using 1 component(s):\n",
      "[[-1.321 -1.321]\n",
      " [-0.426 -0.426]\n",
      " [ 0.356  0.356]\n",
      " [ 1.391  1.391]]\n"
     ]
    },
    {
     "data": {
      "text/plain": [
       "0.002882207412825675"
      ]
     },
     "execution_count": 6,
     "metadata": {},
     "output_type": "execute_result"
    }
   ],
   "source": [
    "k = 1\n",
    "sk_pca = PCA(n_components=k)\n",
    "sk_X_norm = sk_scale(X)\n",
    "sk_score = sk_pca.fit_transform(sk_X_norm)\n",
    "sk_components = sk_pca.components_\n",
    "X_norm_reconstr = sk_score @ sk_components  # @ is a standard matrix multiplication\n",
    "\n",
    "\n",
    "\n",
    "print(\"Component(s) matrix:\")\n",
    "print(sk_components)\n",
    "print(\"Score matrix\")\n",
    "print(sk_score)\n",
    "print()\n",
    "print(sk_X_norm.round(3))\n",
    "print(f\"Recreation of [centered and scaled matrix above] using {k} component(s):\")\n",
    "print(X_norm_reconstr.round(3))\n",
    "mean_squared_error(sk_X_norm, X_norm_reconstr)"
   ]
  },
  {
   "cell_type": "markdown",
   "metadata": {
    "id": "oFOJUNrmymPX"
   },
   "source": [
    "\n",
    "### Question 1: why can the two-dimensional data we stored in `X` be reconstructed so well using only one principal component?\n",
    "\n",
    "This is because the principal component stores the relation between the two values belonging to each point in X, and because the matrix was rescaled and recentered before the principal component was calculated."
   ]
  },
  {
   "cell_type": "markdown",
   "metadata": {
    "id": "usWY5XLAn53y"
   },
   "source": [
    "## Singular value decomposition\n",
    "We use https://numpy.org/doc/stable/reference/generated/numpy.linalg.svd.html for most of $\\mathbf{X} = \\mathbf{U} \\mathbf{\\Sigma} \\mathbf{V}^{\\mathrm{T}}$, where $\\mathbf{U}$ is an $n\\times r$ matrix, $\\mathbf{\\Sigma}$ is an $r\\times r$ matrix, and $\\mathbf{V}$ is a $d \\times r$ matrix. We simplify and assume $d = r < n$ as in the book, which is practically fine but really not in line with the classical definition of an SVD. The NumPy function sort of works with this assumption/simplification as well, but goes further by returning only the diagonal elements of $\\mathbf{\\Sigma}$.\n",
    "\n",
    "The `R_squared` variable contains the amount of variance the corresponding principal component \"explains\"."
   ]
  },
  {
   "cell_type": "code",
   "execution_count": 7,
   "metadata": {
    "colab": {
     "base_uri": "https://localhost:8080/",
     "height": 235
    },
    "executionInfo": {
     "elapsed": 822,
     "status": "error",
     "timestamp": 1618830362642,
     "user": {
      "displayName": "Bram Otten",
      "photoUrl": "",
      "userId": "13006621849040554927"
     },
     "user_tz": -120
    },
    "id": "5516tMyZn53z",
    "outputId": "08a69547-f5d9-45e3-c523-acd5a4e836f5"
   },
   "outputs": [
    {
     "name": "stdout",
     "output_type": "stream",
     "text": [
      "[[-0.66145151 -0.19228027]\n",
      " [-0.21348261 -0.19431549]\n",
      " [ 0.17847649  0.8454258 ]\n",
      " [ 0.69645762 -0.45883004]]\n",
      "[[2.82434813 0.        ]\n",
      " [0.         0.15184749]]\n",
      "[2.82434813 0.15184749]\n",
      "[[ 0.70710678  0.70710678]\n",
      " [ 0.70710678 -0.70710678]]\n",
      "[0.9971177925871744, 0.0028822074128256807]\n"
     ]
    }
   ],
   "source": [
    "U, Sigma_elements, V_transpose = np.linalg.svd(X_norm, full_matrices=False)\n",
    "Sigma = np.zeros((U.shape[1], V_transpose.shape[0]))\n",
    "Sigma[:Sigma_elements.size, :Sigma_elements.size] = np.diag(Sigma_elements)\n",
    "S_squared_sum = sum(S_i ** 2 for S_i in Sigma_elements)\n",
    "R_squared = [S_i ** 2 / S_squared_sum for S_i in Sigma_elements]\n",
    "print(U)\n",
    "print(Sigma)\n",
    "print(Sigma_elements)\n",
    "print(V_transpose)\n",
    "print(R_squared)"
   ]
  },
  {
   "cell_type": "markdown",
   "metadata": {
    "id": "ZHPuecBDwSn3"
   },
   "source": [
    "## Obtain $k$ principal components and score matrix\n",
    "\n",
    "https://en.wikipedia.org/wiki/Principal_component_analysis#Singular_value_decomposition and some other sources call the $k$ principal components $\\mathbf{W}_k$ and the corresponding score matrix $\\mathbf{T}_k$. The book calls the score matrix $\\mathbf{W}$ and the components $\\mathbf{V}$, which makes more sense if we name the variables in our singular value decomposition as in $\\mathbf{X} = \\mathbf{U} \\mathbf{\\Sigma} \\mathbf{V}^{\\mathrm{T}}$. \n",
    "\n",
    "We will just name the $k\\times d$ principal components matrix \"components\" and the $n\\times k$ score matrix \"score\" so that we don't keep working with unidiomatic variables. The components matrix can be multiplied with the score matrix to create a reconstruction of $\\mathbf{X}$. Here's an even bigger hint: the components are somewhere in $\\mathbf{U}\\mathbf{\\Sigma}$ and the score matrix can be found in $\\mathbf{V}^{\\mathrm{T}}$."
   ]
  },
  {
   "cell_type": "markdown",
   "metadata": {
    "id": "x4i4nhTMhel5"
   },
   "source": [
    "### Exercise 2: implement `svd_to_components_and_score`"
   ]
  },
  {
   "cell_type": "code",
   "execution_count": 53,
   "metadata": {
    "id": "xkJV0UqAwSn3",
    "scrolled": true
   },
   "outputs": [
    {
     "name": "stdout",
     "output_type": "stream",
     "text": [
      "Component(s) matrix:\n",
      "[[ 0.70710678  0.70710678]\n",
      " [ 0.70710678 -0.70710678]]\n",
      "Score matrix\n",
      "[[-1.86816932 -0.02919728]\n",
      " [-0.60294921 -0.02950632]\n",
      " [ 0.50407975  0.12837578]\n",
      " [ 1.96703879 -0.06967219]]\n"
     ]
    }
   ],
   "source": [
    "def svd_to_components_and_score(U, Sigma_elements, V_transpose, k):\n",
    "    \"\"\" Input is output of `numpy.linalg.svd(..., full_matrices=False)` and `k` indicating # of \n",
    "    components. First output is `k`-by-d component numpy.ndarray; second output is n-by-`k` score \n",
    "    numpy.ndarray.\n",
    "    \"\"\"\n",
    "    # U dim n x r; Sigma dim r x r; V dim d x r. \n",
    "    # component dim k x d; score dim n x k \n",
    "    # d = r < n => U dim n x d; Sigma dim d x d = V dim \n",
    "    # USigma dim n x d \n",
    "    Sigma[:Sigma_elements.size, :Sigma_elements.size] = np.diag(Sigma_elements)\n",
    "    USigma = U @ Sigma\n",
    "    components = V_transpose[:k, :]\n",
    "    score = USigma[:, :k]\n",
    "    return components, score\n",
    "\n",
    "components, score = svd_to_components_and_score(U, Sigma_elements, V_transpose, k)\n",
    "print(\"Component(s) matrix:\")\n",
    "print(components)\n",
    "print(\"Score matrix\")\n",
    "print(score)"
   ]
  },
  {
   "cell_type": "code",
   "execution_count": 54,
   "metadata": {
    "id": "Rb7-isB7ymPa"
   },
   "outputs": [],
   "source": [
    "def test_svd_to_components_and_score():\n",
    "    for k in [1, 2]:\n",
    "        X = sk_scale(np.array([[0.0, 0.4],\n",
    "                               [1.0, 1.6],\n",
    "                               [2.0, 2.4],\n",
    "                               [3.0, 3.6]]))\n",
    "        U, S, V_transpose = np.linalg.svd(X, full_matrices=False)\n",
    "        components, score = svd_to_components_and_score(U, S, V_transpose, k)\n",
    "        assert helpful_eq(components[0, 0], 0, failing_is_good=True)\n",
    "        assert helpful_eq(components[0, 0], components[0, 1])\n",
    "        assert helpful_eq(score[0, 0], -score[3, 0])\n",
    "        assert helpful_eq(score[1, 0], -score[2, 0])\n",
    "        np.random.seed(39)\n",
    "        X = sk_scale(np.dot(np.random.rand(2, 2), np.random.randn(2, 100)).T)\n",
    "        sk_pca = PCA(n_components=k)\n",
    "        sk_score = sk_pca.fit_transform(X)\n",
    "        sk_components = sk_pca.components_\n",
    "        U, S, V_transpose = np.linalg.svd(X, full_matrices=False)\n",
    "        components, score = svd_to_components_and_score(U, S, V_transpose, k)\n",
    "        assert helpful_eq(sk_components, components)\n",
    "        assert helpful_eq(sk_score, score)\n",
    "\n",
    "\n",
    "test_svd_to_components_and_score()"
   ]
  },
  {
   "cell_type": "markdown",
   "metadata": {
    "id": "XwhmjnYXwSn4"
   },
   "source": [
    "## Reconstruct our data using $k=1$ principal components\n",
    "\n",
    "If you don't have `orig_center` and `orig_std`, you can compare `X_norm` with its reconstruction."
   ]
  },
  {
   "cell_type": "code",
   "execution_count": 10,
   "metadata": {
    "id": "iVgVzucewSn4",
    "scrolled": true
   },
   "outputs": [
    {
     "name": "stdout",
     "output_type": "stream",
     "text": [
      "[[0.  0.4]\n",
      " [1.  2. ]\n",
      " [2.  3.2]\n",
      " [3.  5.3]]\n",
      "Recreation of [matrix above] using 1 components:\n",
      "[[0.023 0.363]\n",
      " [1.023 1.963]\n",
      " [1.899 3.362]\n",
      " [3.055 5.212]]\n"
     ]
    },
    {
     "data": {
      "text/plain": [
       "0.0028822074128256755"
      ]
     },
     "execution_count": 10,
     "metadata": {},
     "output_type": "execute_result"
    }
   ],
   "source": [
    "print(X)\n",
    "print(f\"Recreation of [matrix above] using {k} components:\")\n",
    "X_norm_reconstr = score @ components\n",
    "X_reconstr = uncenter_and_unscale(X_norm_reconstr, orig_center, orig_std)\n",
    "print(X_reconstr.round(3))\n",
    "mean_squared_error(X_norm, X_norm_reconstr)"
   ]
  },
  {
   "cell_type": "markdown",
   "metadata": {
    "id": "hP9TzzY7Fsr4"
   },
   "source": [
    "### Question 3: make a scatter plot that contains true and reconstructed values $(k=1)$, as well as the single principal component.\n",
    "\n",
    "It is easiest to use the centered and scaled versions of `X` and its reconstruction. You can optionally scale the component visualization with `R_squared` as follows. That is not so informative with $k=1$ but it might be nice to try with $k=2$. Here is some code that you can probably use to get an idea of how:\n",
    "\n",
    "```\n",
    "for i in range(k):\n",
    "    horizontal = R_squared[i] * components[i, 0]\n",
    "    vertical = R_squared[i] * components[i, 1]\n",
    "    plt.arrow(0, 0, horizontal, vertical, head_width=0.05, color=\"red\")\n",
    "```"
   ]
  },
  {
   "cell_type": "code",
   "execution_count": 11,
   "metadata": {
    "id": "Av-I5E4lFuNn"
   },
   "outputs": [
    {
     "data": {
      "text/plain": [
       "<matplotlib.legend.Legend at 0x272e0f4e708>"
      ]
     },
     "execution_count": 11,
     "metadata": {},
     "output_type": "execute_result"
    },
    {
     "data": {
      "image/png": "[encoded data removed]",
      "text/plain": [
       "<Figure size 432x288 with 1 Axes>"
      ]
     },
     "metadata": {
      "needs_background": "light"
     },
     "output_type": "display_data"
    }
   ],
   "source": [
    "\n",
    "#Plot X_norm, X_norm but reconstructed and the single principal component. \n",
    "plt.scatter(X_norm[:,0], X_norm[:,1], label=\"X, normalised\")\n",
    "plt.scatter(X_norm_reconstr[:,0], X_norm_reconstr[:,1], label=\"X, normalised and reconstructed\")\n",
    "plt.scatter(components[0,0], components[0,1], label=\"Single principal component\")\n",
    "\n",
    "plt.title(\"True and reconstructed values of a dataset X with the single principal component\")\n",
    "plt.xlabel(\"X0\")\n",
    "plt.ylabel(\"X1\")\n",
    "plt.legend()"
   ]
  },
  {
   "cell_type": "markdown",
   "metadata": {
    "id": "4VRmTKPon54C"
   },
   "source": [
    "## Score and reconstruct _new_ data\n",
    "\n",
    "We will now represent new data in terms of $k$ principal components. For that, we first need to normalize the \"new\" data's feature values using the \"old\" `orig_center` and `orig_std`, so that everything is comparable.\n",
    "\n",
    "We get the new $\\mathbf{V}^{\\mathrm{T}}$ with $\\mathbf{X} (\\mathbf{U}\\mathbf{\\Sigma})^{-1}=\\mathbf{X} (\\mathbf{U}\\mathbf{\\Sigma})^{\\mathrm{T}}$. It could be useful to try to figure out why."
   ]
  },
  {
   "cell_type": "markdown",
   "metadata": {
    "id": "BqDhE13Sh0Dy"
   },
   "source": [
    "### Exercise 3: implement `score_new_data`"
   ]
  },
  {
   "cell_type": "code",
   "execution_count": 12,
   "metadata": {
    "id": "VqszvTPQn54D"
   },
   "outputs": [
    {
     "name": "stdout",
     "output_type": "stream",
     "text": [
      "[[0.  0.4]\n",
      " [1.  2. ]\n",
      " [2.  3.2]\n",
      " [3.  5.3]]\n",
      "[[0.458 1.058]\n",
      " [2.53  4.372]]\n"
     ]
    }
   ],
   "source": [
    "def score_new_data(new_X, orig_center, orig_std, components):\n",
    "    \"\"\"`new_X` is a numpy.ndarray. Rows represent instances. Columns represent feature values.\n",
    "    First, create a modified copy of `new_X` as if normalizing it using `orig_center` and \n",
    "    `orig_std`. These params refer to feature means and standard deviations respectively. \n",
    "    Output is a representation of this normalized `new_X` in terms of `components`, i.e., a score \n",
    "    matrix.\"\"\"\n",
    "    #Normalise new X \n",
    "    new_normalised_X = (new_X - orig_center)/orig_std\n",
    "    #Obtain USigma\n",
    "    \n",
    "    score = new_normalised_X @ np.matrix.transpose(components)\n",
    "    return score\n",
    "    \n",
    "\n",
    "print(X.round(3))\n",
    "new_X = np.array([[0.5, 0.99],\n",
    "                  [2.5, 4.42]])\n",
    "# If you don't have `orig_center` and `orig_std`, you can come up with some fake values.\n",
    "# (You can find the dimensions of these variables in their test function.)\n",
    "new_score = score_new_data(new_X, orig_center, orig_std, components)\n",
    "new_X_norm_reconstr = new_score @ components\n",
    "print(uncenter_and_unscale(new_X_norm_reconstr, orig_center, orig_std).round(3))"
   ]
  },
  {
   "cell_type": "code",
   "execution_count": 13,
   "metadata": {
    "id": "N-WsDaYeymPg"
   },
   "outputs": [],
   "source": [
    "def test_score_new_data():\n",
    "    for k in [1,2,3]:\n",
    "\n",
    "        X = sk_scale(np.array([[0.0, 0.4, -1, 1],\n",
    "                               [1.0, 1.6, -2, 2],\n",
    "                               [2.0, 3.4, -3, 3.5],\n",
    "                               [3.0, 4.6, -4, 5]]))\n",
    "        new_X = sk_scale(np.array([[0.5, 0.99, 1, -2],\n",
    "                                   [2.5, 3.99, -42, -9]]))\n",
    "        sk_pca = PCA(n_components=k)\n",
    "        score = sk_pca.fit_transform(X)\n",
    "        components = sk_pca.components_\n",
    "        new_score = score_new_data(new_X, [1.42, 2.42, 4, 4], [1.11, 1.66, 2, 3], components)\n",
    "        new_X_reconstr = new_score @ components\n",
    "        if k == 1:\n",
    "            assert helpful_eq(new_X_reconstr, \n",
    "                              np.array([[-0.93533774, -0.93443902,  0.93533774, -0.93414063],\n",
    "                                        [-0.09948932, -0.09939373,  0.09948932, -0.09936199]]))\n",
    "        elif k == 2:\n",
    "            assert helpful_eq(new_X_reconstr, \n",
    "                              np.array([[-0.57078589, -1.07598312,  0.57078589, -1.52258937],\n",
    "                                        [ 0.98203221, -0.51931478, -0.98203221, -1.84512183]]))\n",
    "        elif k == 3:\n",
    "            assert helpful_eq(new_X_reconstr, \n",
    "                              np.array([[-0.34009009, -2.06024096,  0.34009009, -1.        ],\n",
    "                                        [ 1.06081081, -0.85542169, -1.06081081, -1.66666667]]))\n",
    "\n",
    "\n",
    "test_score_new_data()"
   ]
  },
  {
   "cell_type": "markdown",
   "metadata": {
    "id": "S_9J_1BOwSn6"
   },
   "source": [
    "## Wrap our work in a `pca` function\n",
    "\n",
    "This is fairly self-explanatory. You could create an object to keep track of so many variables, but you have seen that trick before; a dictionary works too. If you do not break anything that is already here, you could store more relatively small variables in the output."
   ]
  },
  {
   "cell_type": "code",
   "execution_count": 14,
   "metadata": {
    "colab": {
     "base_uri": "https://localhost:8080/",
     "height": 355
    },
    "executionInfo": {
     "elapsed": 1242,
     "status": "error",
     "timestamp": 1618830473722,
     "user": {
      "displayName": "Bram Otten",
      "photoUrl": "",
      "userId": "13006621849040554927"
     },
     "user_tz": -120
    },
    "id": "hAquONvZwSn6",
    "outputId": "e35040a5-aba4-4687-c672-b79a7171c075"
   },
   "outputs": [
    {
     "name": "stdout",
     "output_type": "stream",
     "text": [
      "orig_center\n",
      "[1.5   2.725]\n",
      "\n",
      "orig_std\n",
      "[1.118 1.788]\n",
      "\n",
      "components\n",
      "[[0.5292 0.8485]]\n",
      "\n",
      "score\n",
      "[[-2.7666]\n",
      " [-0.8798]\n",
      " [ 0.6676]\n",
      " [ 2.9787]]\n",
      "\n",
      "R_squared\n",
      "[0.9971 0.0029]\n",
      "\n"
     ]
    }
   ],
   "source": [
    "def pca(X, k):\n",
    "    \"\"\"All components are explained above. If you did not complete `center_and_scale` or \n",
    "    `svd_to_components_and_score`, you can fit in the scikit-learn alternatives exemplified \n",
    "    (in the tests) above.\"\"\"\n",
    "    X_norm, orig_center, orig_std = center_and_scale(X)\n",
    "    U, Sigma_elements, V_transpose = np.linalg.svd(X_norm, full_matrices=False)\n",
    "    S_squared_sum = sum(S_i ** 2 for S_i in Sigma_elements)\n",
    "    R_squared = [S_i ** 2 / S_squared_sum for S_i in Sigma_elements]\n",
    "    #components, score = svd_to_components_and_score(U, Sigma_elements, V_transpose, k)\n",
    "    sk_pca = PCA(n_components=k)\n",
    "    sk_score = sk_pca.fit_transform(X)\n",
    "    sk_components = sk_pca.components_\n",
    "    components, score = sk_components, sk_score \n",
    "    return {\n",
    "        'orig_center': orig_center,\n",
    "        'orig_std': orig_std,\n",
    "        'components': components,\n",
    "        'score': score,\n",
    "        'R_squared': np.array(R_squared)\n",
    "    }\n",
    "\n",
    "\n",
    "pca_dict = pca(X, k)\n",
    "for key in pca_dict.keys():\n",
    "    print(key)\n",
    "    print(pca_dict[key].round(4))\n",
    "    print()"
   ]
  },
  {
   "cell_type": "markdown",
   "metadata": {
    "id": "du6bqtJbwSn7"
   },
   "source": [
    "# Big(ger) data\n",
    "\n",
    "We will now use PCA in the pre-processing of a more realistic dataset, and test whether it helped in improving prediction accuracy and/or reducing model fitting and other computational time. We will use the support vector machine classifier of that you have seen before. The specific model is not important; that PCA or other pre-processing can help is. (And, to be fair, PCA and other pre-processing techniques can also have more costs than benefits when using other models.)"
   ]
  },
  {
   "cell_type": "markdown",
   "metadata": {
    "id": "Nia3F-UCIAxX"
   },
   "source": [
    "## Load/create more complicated dataset\n",
    "\n",
    "There is a little more information about the dataset `load_breast_cancer` loads on https://archive.ics.uci.edu/ml/datasets/Breast+Cancer+Wisconsin+(Diagnostic) and https://scikit-learn.org/stable/datasets/toy_dataset.html#breast-cancer-dataset. We modify the dataset to consist of more samples through repeats, but add a decent amount of noise (independently sampled from a normal distribution with mean zero and a quarter of that feature's own standard deviation). We also add two categorical features in the columns of `X` that are in `non_num_idx`. \n",
    "\n",
    "So the dataset does not represent what it's based on very closely anymore. But to give a little more information, in `X, y = load_breast_cancer(return_X_y=True)` set,  `X` has 569 instances of 30 numeric features but 10 categories of attributes:\n",
    "\n",
    "0. radius (mean of distances from center to points on the perimeter)\n",
    "1. texture (standard deviation of gray-scale values)\n",
    "2. perimeter\n",
    "3. area\n",
    "4. smoothness (local variation in radius lengths)\n",
    "5. compactness (perimeter^2 / area - 1.0)\n",
    "6. concavity (severity of concave portions of the contour)\n",
    "7. concave points (number of concave portions of the contour)\n",
    "8. symmetry\n",
    "9. fractal dimension (“coastline approximation” - 1)\n",
    "\n",
    "Features are computed from a digitized image of a fine needle aspirate (FNA) (sample) from a tumor. They describe characteristics of the cell nuclei present in the image. The mean, standard error, and mean of the three largest values of these characteristics were computed for each of the 569 images/instances, resulting in 30 features. For instance, field 0 is mean radius, field 10 is radius standard error, field 20 is the mean of the three largest radii.\n",
    "\n",
    "The `y` contains a 0 for malignant samples, and a 1 for benign ones.\n"
   ]
  },
  {
   "cell_type": "code",
   "execution_count": 15,
   "metadata": {
    "id": "cCuVeoBDn54K"
   },
   "outputs": [
    {
     "data": {
      "text/plain": [
       "(5690, 32)"
      ]
     },
     "execution_count": 15,
     "metadata": {},
     "output_type": "execute_result"
    }
   ],
   "source": [
    "def create_big_X_y():\n",
    "    \"\"\"It's not necessary to understand completely what is happening, but notice that \n",
    "    the columns whose indices are in `non_num_idx` represent categorical features.\"\"\"\n",
    "    X, y = load_breast_cancer(return_X_y=True)\n",
    "\n",
    "    # Add some instances\n",
    "    X = np.repeat(X, 10, axis=0)\n",
    "    y = np.repeat(y, 10)\n",
    "\n",
    "    X, y = sk_shuffle(X, y, random_state=11)\n",
    "\n",
    "    # Add two categorical features (that have a 60% prob of being right)\n",
    "    np.random.seed(42)\n",
    "    X = np.hstack((np.random.binomial(1, 0.4 + 0.2 * y).reshape(-1, 1),\n",
    "                   np.random.binomial(1, 0.4 + 0.2 * y).reshape(-1, 1),\n",
    "                   X))\n",
    "    non_num_idx = [0, 1]\n",
    "    \n",
    "    # Add noise to numerical features\n",
    "    num = [i for i in range(X.shape[1]) if i not in non_num_idx]\n",
    "    X[:, num] += np.random.normal(0, 0.25 *\n",
    "                                  X[:, num].std(axis=0), X[:, num].shape)\n",
    "\n",
    "    # Replace some % of numerical values with np.nan\n",
    "    X_num_flat = X[:, num].flatten()\n",
    "    n_to_remove = int(len(X_num_flat) * .1)\n",
    "    to_remove = np.random.permutation(range(len(X_num_flat)))[:n_to_remove]\n",
    "    X_num_flat[to_remove] = np.nan\n",
    "    X[:, num] = X_num_flat.reshape(X[:, num].shape)\n",
    "\n",
    "    return X, y, non_num_idx\n",
    "\n",
    "\n",
    "# big_... name to not confuse with our previous simple `X`.\n",
    "big_X, big_y, non_num_idx = create_big_X_y()\n",
    "big_X.shape"
   ]
  },
  {
   "cell_type": "markdown",
   "metadata": {
    "id": "G2g5edAcMQO8"
   },
   "source": [
    "## Already split off a test set\n",
    "\n",
    "We will perform repeated cross-validation later on, but while we create and test our functions it is already useful to have a separation of training and test set in mind."
   ]
  },
  {
   "cell_type": "code",
   "execution_count": 36,
   "metadata": {
    "id": "v7vSOUxQMRNe",
    "scrolled": false
   },
   "outputs": [
    {
     "name": "stdout",
     "output_type": "stream",
     "text": [
      "[[ 1.          1.         15.06097903 ...  0.15495723  0.28133099\n",
      "   0.08943424]\n",
      " [ 0.          0.         21.84106715 ...  0.22074183  0.23638334\n",
      "   0.07476276]\n",
      " [ 0.          1.         13.38384299 ...  0.17935782  0.32982295\n",
      "          nan]\n",
      " ...\n",
      " [ 0.          0.         19.38073173 ...  0.24628595  0.35549601\n",
      "   0.07880792]\n",
      " [ 1.          0.         15.35308404 ...  0.13026943  0.2673978\n",
      "   0.07985852]\n",
      " [ 0.          1.         15.77904129 ...         nan  0.32416498\n",
      "   0.08275628]]\n"
     ]
    }
   ],
   "source": [
    "X_train, X_test, y_train, y_test = NFolds(big_X, big_y, seed=5).get_fold(0)\n",
    "print(X_train)"
   ]
  },
  {
   "cell_type": "markdown",
   "metadata": {
    "id": "iKgW9ZjrskoK"
   },
   "source": [
    "## Explore the training set"
   ]
  },
  {
   "cell_type": "code",
   "execution_count": 17,
   "metadata": {
    "id": "bSTvz5nOskoK"
   },
   "outputs": [
    {
     "name": "stdout",
     "output_type": "stream",
     "text": [
      "[2.49133427e-01 2.49269861e-01 1.30239321e+01 1.89255738e+01\n",
      " 6.18336675e+02 1.29040402e+05 2.12158331e-04 2.94041160e-03\n",
      " 6.63346011e-03 1.58491041e-03 7.95991391e-04 5.25961687e-05\n",
      " 7.86259443e-02 3.22935870e-01 4.29950538e+00 2.07958994e+03\n",
      " 9.38669449e-06 3.40239534e-04 9.54591729e-04 4.04140203e-05\n",
      " 7.29441422e-05 7.60999841e-06 2.38950708e+01 4.02706724e+01\n",
      " 1.17861009e+03 3.32851543e+05 5.58867645e-04 2.58921362e-02\n",
      " 4.61476986e-02 4.49718848e-03 4.12840608e-03 3.47023685e-04]\n"
     ]
    }
   ],
   "source": [
    "X_nanvar = np.nanvar(X_train,axis=0)\n",
    "print(X_nanvar)\n"
   ]
  },
  {
   "cell_type": "markdown",
   "metadata": {
    "id": "gS25qzlWnwrk",
    "pycharm": {
     "name": "#%% md\n"
    }
   },
   "source": [
    "### Question 4: can you come up with a feature transformation (for one or more column(s) of `X`) that would make the principal components express more of the data's variance?\n",
    "\n",
    "There are some columns with a very low variance (value smaller than 0.0001). We could scale those features so that they weigh less than the features with a high variance, by for example scaling and centering them different, so that the PCA express more of the data's variance. "
   ]
  },
  {
   "cell_type": "markdown",
   "metadata": {
    "id": "EL-wAlZ2IEOd"
   },
   "source": [
    "## Replace missing _numerical_ values\n",
    "\n",
    "We will use a simple mean imputation to replace the missing values. Remember that we do not want to use any information from our test set before our final evaluation."
   ]
  },
  {
   "cell_type": "markdown",
   "metadata": {
    "id": "Dh0nIGEzyt9R"
   },
   "source": [
    "### Exercise 4: implement `mean_impute`"
   ]
  },
  {
   "cell_type": "code",
   "execution_count": 18,
   "metadata": {},
   "outputs": [
    {
     "name": "stdout",
     "output_type": "stream",
     "text": [
      "[[ 1.          1.         15.06097903 ...  0.15495723  0.28133099\n",
      "   0.08943424]\n",
      " [ 0.          0.         21.84106715 ...  0.22074183  0.23638334\n",
      "   0.07476276]\n",
      " [ 0.          1.         13.38384299 ...  0.17935782  0.32982295\n",
      "          nan]\n",
      " ...\n",
      " [ 0.          0.         19.38073173 ...  0.24628595  0.35549601\n",
      "   0.07880792]\n",
      " [ 1.          0.         15.35308404 ...  0.13026943  0.2673978\n",
      "   0.07985852]\n",
      " [ 0.          1.         15.77904129 ...         nan  0.32416498\n",
      "   0.08275628]]\n"
     ]
    }
   ],
   "source": [
    "def mean_impute(X_train, X_test):\n",
    "    \"\"\"We assume numpy.ndarrays `X_train` and `X_test` only have numpy.nan as missing values in \n",
    "    their numerical features (columns). The output should be modified copies of `X_train` and \n",
    "    `X_test` where the missing values are replaced by the mean of the column of `X_train` in which \n",
    "    the value was missing. (The test might enlighten you.)\"\"\"\n",
    "    #Get mean values of X_train\n",
    "    X_train_nanmean = np.nanmean(X_train, axis=0)\n",
    "    \n",
    "    for i in range(0, X_train.shape[1]):\n",
    "        X_train[:,i] = np.nan_to_num(X_train[:,i], nan=X_train_nanmean[i])\n",
    "        X_test[:,i] = np.nan_to_num(X_test[:,i], nan=X_train_nanmean[i])\n",
    "        \n",
    "    return X_train, X_test\n",
    "\n",
    "#X_train, X_test = mean_impute(X_train, X_test)\n",
    "print(X_train)"
   ]
  },
  {
   "cell_type": "code",
   "execution_count": 19,
   "metadata": {
    "id": "6SurEQy2ymPk"
   },
   "outputs": [],
   "source": [
    "def test_mean_impute():\n",
    "    X_train = np.array([[1, 2, np.nan],\n",
    "                        [3, 4, 5]])\n",
    "    X_test = np.array([[np.nan, 0, 3]])\n",
    "    X_train, X_test = mean_impute(X_train, X_test)\n",
    "    assert helpful_eq(X_train, [[1., 2., 5.], [3., 4., 5.]])\n",
    "    assert helpful_eq(X_test, [[2., 0., 3.]])\n",
    "    big_X, big_y, non_num_idx = create_big_X_y()\n",
    "    X_train, X_test, _, _ = NFolds(big_X, big_y, seed=5).get_fold(0)\n",
    "    X_train, X_test = mean_impute(X_train, X_test)\n",
    "    assert helpful_eq(np.mean(X_train, axis=1)[0], 62.12441680772882)\n",
    "    assert helpful_eq(np.mean(X_test, axis=1)[0], 53.21256512320771)\n",
    "    assert helpful_eq(np.mean(X_train), 57.90520707104668)\n",
    "    assert helpful_eq(np.mean(X_test), 58.20296278479702)\n",
    "\n",
    "test_mean_impute()"
   ]
  },
  {
   "cell_type": "markdown",
   "metadata": {
    "id": "X7sn7kqMIJEc"
   },
   "source": [
    "## Choose $k$ components"
   ]
  },
  {
   "cell_type": "markdown",
   "metadata": {
    "id": "b8z_ynjlyy8_"
   },
   "source": [
    "### Exercise 5: implement `only_num`\n",
    "\n",
    "We want to perform PCA on only the numerical part of the dataset."
   ]
  },
  {
   "cell_type": "code",
   "execution_count": 20,
   "metadata": {
    "id": "DM6IiF40aNmT"
   },
   "outputs": [
    {
     "name": "stdout",
     "output_type": "stream",
     "text": [
      "[[1.50610e+01 2.21970e+01 9.27830e+01 ... 1.55000e-01 2.81000e-01\n",
      "  8.90000e-02]\n",
      " [2.18410e+01 2.07990e+01 1.28829e+02 ... 2.21000e-01 2.36000e-01\n",
      "  7.50000e-02]\n",
      " [1.33840e+01 1.89070e+01 9.37420e+01 ... 1.79000e-01 3.30000e-01\n",
      "          nan]\n",
      " ...\n",
      " [1.93810e+01         nan         nan ... 2.46000e-01 3.55000e-01\n",
      "  7.90000e-02]\n",
      " [1.53530e+01 2.22540e+01 1.02181e+02 ... 1.30000e-01 2.67000e-01\n",
      "  8.00000e-02]\n",
      " [1.57790e+01 1.66350e+01 9.07300e+01 ...         nan 3.24000e-01\n",
      "  8.30000e-02]]\n"
     ]
    }
   ],
   "source": [
    "def only_num(X, non_num_idx):\n",
    "    \"\"\"The columns of numpy.ndarray `X` whose indices are stored in `non_num_idx` are not \n",
    "    numerical. Return a modified copy of `X` that does _not_ contain these columns.\"\"\"\n",
    "    \n",
    "    return np.delete(X, non_num_idx, axis=1)\n",
    "\n",
    "print(only_num(X_train, non_num_idx).round(3))"
   ]
  },
  {
   "cell_type": "code",
   "execution_count": 21,
   "metadata": {
    "id": "cp5Fgq8VaPw3"
   },
   "outputs": [],
   "source": [
    "def test_only_num():\n",
    "    X = np.array([[-1, 0, 1, 2],\n",
    "                  [-3, 1, 4, 5]])\n",
    "    assert helpful_eq(only_num(X, [1]), np.array([[-1, 1, 2],\n",
    "                                                  [-3, 4, 5]]))\n",
    "    big_X, big_y, non_num_idx = create_big_X_y()\n",
    "    first_num_idx = min([i for i in range(big_X.shape[1]) if i not in non_num_idx])\n",
    "    assert helpful_eq(only_num(big_X, non_num_idx)[0:2, 0], big_X[0:2, first_num_idx])\n",
    "\n",
    "\n",
    "test_only_num()"
   ]
  },
  {
   "cell_type": "markdown",
   "metadata": {
    "id": "FBX-zM_nwY8y"
   },
   "source": [
    "### Question 5: what is a good number of principal components to continue with _and why_? (Base your answer only on `X_train`.)\n",
    "\n",
    "A figure may be useful.\n",
    "\n",
    "The amount of variance expressed in each component is given by the r-squared value, with the total of all r-squared adding up to 1. If we want to have the optimum number of principal components, we should plot an elbow plot and look where the elbow makes its sharpest turn.\n",
    "\n",
    "This can be seen in the above plot to be at k=4, or about 63% of the total R_squared value. From this we conclude that a good number of principal components to continue with is 4.\n",
    "\n"
   ]
  },
  {
   "cell_type": "code",
   "execution_count": 22,
   "metadata": {},
   "outputs": [],
   "source": [
    "k = 6\n",
    "X_train, _ = mean_impute(X_train, X_test)\n",
    "pca_dict = pca(only_num(X_train, non_num_idx), k)\n"
   ]
  },
  {
   "cell_type": "code",
   "execution_count": 32,
   "metadata": {
    "id": "dt2uDOTJI0RL",
    "scrolled": true
   },
   "outputs": [
    {
     "data": {
      "image/png": "[encoded data removed]",
      "text/plain": [
       "<Figure size 432x288 with 1 Axes>"
      ]
     },
     "metadata": {
      "needs_background": "light"
     },
     "output_type": "display_data"
    }
   ],
   "source": [
    "for k in range(0,30):\n",
    "    X_train, _ = mean_impute(X_train, X_test)\n",
    "    pca_dict = pca(only_num(X_train, non_num_idx), k)\n",
    "    plt.scatter(np.sum(pca_dict.get(\"R_squared\")[:k])/1*100, pca_dict.get(\"R_squared\")[k])\n",
    "\n",
    "plt.title(\"Percentage of total R_squared value summed until certain value vs value of R_squared\")\n",
    "plt.xlabel(\"R_squared value summed until value k (%)\")\n",
    "plt.ylabel(\"R_squared\")\n",
    "plt.axvline(x=62.85, label=\"elbow position, 63%\")\n",
    "plt.legend()\n",
    "plt.show()"
   ]
  },
  {
   "cell_type": "code",
   "execution_count": 24,
   "metadata": {
    "id": "FU6jqajtQ-Us",
    "scrolled": false
   },
   "outputs": [
    {
     "name": "stdout",
     "output_type": "stream",
     "text": [
      "1.0000000000000004\n",
      "[0.37696996 0.16513115 0.08512599 0.06068536 0.05325003 0.03891505\n",
      " 0.02426658 0.01902658 0.01621124 0.01502651 0.01311184 0.01246551\n",
      " 0.01181788 0.00923181 0.00863735 0.00782403 0.00723858 0.00694721\n",
      " 0.00660765 0.00629406 0.0061532  0.00598381 0.00580004 0.0056339\n",
      " 0.00553828 0.00540737 0.00535648 0.00527602 0.00514875 0.0049178 ]\n"
     ]
    }
   ],
   "source": [
    "print(sum(pca_dict.get(\"R_squared\")))\n",
    "print(pca_dict.get(\"R_squared\"))\n",
    "\n",
    "#for key in pca_dict.keys():\n",
    "    #print(key)\n",
    "    #print(pca_dict[key].round(4))\n",
    "    #print()\n",
    "    \n"
   ]
  },
  {
   "cell_type": "markdown",
   "metadata": {
    "id": "9505SsXZIfgX"
   },
   "source": [
    "## Replace `X`'s numerical features with score matrix\n",
    "\n",
    "`X` has many numerical features and a couple of others, whose indices are storen in `non_num_idx`. We only performed PCA on the numerical features. We want to re-group the outcome of the PCA and the non-numerical part of `X` again."
   ]
  },
  {
   "cell_type": "markdown",
   "metadata": {
    "id": "EWSUlbvdzEI4"
   },
   "source": [
    "### Exercise 6: implement `replace_num_with_score`"
   ]
  },
  {
   "cell_type": "code",
   "execution_count": 25,
   "metadata": {},
   "outputs": [
    {
     "name": "stdout",
     "output_type": "stream",
     "text": [
      "[[ 1.     1.    15.061 ...  0.155  0.281  0.089]\n",
      " [ 0.     0.    21.841 ...  0.221  0.236  0.075]\n",
      " [ 0.     1.    13.384 ...  0.179  0.33   0.084]\n",
      " ...\n",
      " [ 0.     0.    19.381 ...  0.246  0.355  0.079]\n",
      " [ 1.     0.    15.353 ...  0.13   0.267  0.08 ]\n",
      " [ 0.     1.    15.779 ...  0.114  0.324  0.083]]\n",
      "[[ 9.074300e+01  2.771400e+01 -2.588000e+01 ...  2.000000e-03\n",
      "  -1.000000e-03 -1.000000e-03]\n",
      " [ 1.412051e+03  1.145350e+02 -5.490700e+01 ... -1.000000e-03\n",
      "  -2.000000e-03  0.000000e+00]\n",
      " [ 1.699500e+01 -9.681000e+00 -2.282800e+01 ... -3.000000e-03\n",
      "   2.000000e-03 -2.000000e-03]\n",
      " ...\n",
      " [ 6.623080e+02  1.008000e+02 -2.514100e+01 ...  1.000000e-03\n",
      "  -2.000000e-03 -0.000000e+00]\n",
      " [-1.573000e+00  8.654000e+01 -1.633000e+00 ...  3.000000e-03\n",
      "   1.000000e-03 -2.000000e-03]\n",
      " [-1.488510e+02 -3.203800e+01  7.934000e+00 ... -1.000000e-03\n",
      "   3.000000e-03 -2.000000e-03]]\n"
     ]
    },
    {
     "ename": "IndexError",
     "evalue": "index 29 is out of bounds for axis 1 with size 29",
     "output_type": "error",
     "traceback": [
      "\u001b[1;31m---------------------------------------------------------------------------\u001b[0m",
      "\u001b[1;31mIndexError\u001b[0m                                Traceback (most recent call last)",
      "\u001b[1;32m~\\AppData\\Local\\Temp\\ipykernel_10536\\2491074705.py\u001b[0m in \u001b[0;36m<module>\u001b[1;34m\u001b[0m\n\u001b[0;32m     19\u001b[0m \u001b[0mprint\u001b[0m\u001b[1;33m(\u001b[0m\u001b[0mX_train\u001b[0m\u001b[1;33m.\u001b[0m\u001b[0mround\u001b[0m\u001b[1;33m(\u001b[0m\u001b[1;36m3\u001b[0m\u001b[1;33m)\u001b[0m\u001b[1;33m)\u001b[0m\u001b[1;33m\u001b[0m\u001b[1;33m\u001b[0m\u001b[0m\n\u001b[0;32m     20\u001b[0m \u001b[0mprint\u001b[0m\u001b[1;33m(\u001b[0m\u001b[0mpca_dict\u001b[0m\u001b[1;33m[\u001b[0m\u001b[1;34m'score'\u001b[0m\u001b[1;33m]\u001b[0m\u001b[1;33m.\u001b[0m\u001b[0mround\u001b[0m\u001b[1;33m(\u001b[0m\u001b[1;36m3\u001b[0m\u001b[1;33m)\u001b[0m\u001b[1;33m)\u001b[0m\u001b[1;33m\u001b[0m\u001b[1;33m\u001b[0m\u001b[0m\n\u001b[1;32m---> 21\u001b[1;33m \u001b[0mprint\u001b[0m\u001b[1;33m(\u001b[0m\u001b[0mreplace_num_with_score\u001b[0m\u001b[1;33m(\u001b[0m\u001b[0mX_train\u001b[0m\u001b[1;33m,\u001b[0m \u001b[0mnon_num_idx\u001b[0m\u001b[1;33m,\u001b[0m \u001b[0mpca_dict\u001b[0m\u001b[1;33m[\u001b[0m\u001b[1;34m'score'\u001b[0m\u001b[1;33m]\u001b[0m\u001b[1;33m)\u001b[0m\u001b[1;33m.\u001b[0m\u001b[0mround\u001b[0m\u001b[1;33m(\u001b[0m\u001b[1;36m3\u001b[0m\u001b[1;33m)\u001b[0m\u001b[1;33m)\u001b[0m\u001b[1;33m\u001b[0m\u001b[1;33m\u001b[0m\u001b[0m\n\u001b[0m",
      "\u001b[1;32m~\\AppData\\Local\\Temp\\ipykernel_10536\\2491074705.py\u001b[0m in \u001b[0;36mreplace_num_with_score\u001b[1;34m(X, non_num_idx, score)\u001b[0m\n\u001b[0;32m     13\u001b[0m             \u001b[0mmod_X\u001b[0m\u001b[1;33m[\u001b[0m\u001b[1;33m:\u001b[0m\u001b[1;33m,\u001b[0m\u001b[0mi\u001b[0m\u001b[1;33m]\u001b[0m \u001b[1;33m=\u001b[0m \u001b[0mX\u001b[0m\u001b[1;33m[\u001b[0m\u001b[1;33m:\u001b[0m\u001b[1;33m,\u001b[0m\u001b[0mi\u001b[0m\u001b[1;33m]\u001b[0m\u001b[1;33m\u001b[0m\u001b[1;33m\u001b[0m\u001b[0m\n\u001b[0;32m     14\u001b[0m         \u001b[1;32melse\u001b[0m\u001b[1;33m:\u001b[0m\u001b[1;33m\u001b[0m\u001b[1;33m\u001b[0m\u001b[0m\n\u001b[1;32m---> 15\u001b[1;33m             \u001b[0mmod_X\u001b[0m\u001b[1;33m[\u001b[0m\u001b[1;33m:\u001b[0m\u001b[1;33m,\u001b[0m\u001b[0mi\u001b[0m\u001b[1;33m]\u001b[0m \u001b[1;33m=\u001b[0m \u001b[0mscore_array\u001b[0m\u001b[1;33m[\u001b[0m\u001b[1;33m:\u001b[0m\u001b[1;33m,\u001b[0m\u001b[0mj\u001b[0m\u001b[1;33m]\u001b[0m\u001b[1;33m\u001b[0m\u001b[1;33m\u001b[0m\u001b[0m\n\u001b[0m\u001b[0;32m     16\u001b[0m             \u001b[0mj\u001b[0m \u001b[1;33m=\u001b[0m \u001b[0mj\u001b[0m \u001b[1;33m+\u001b[0m \u001b[1;36m1\u001b[0m\u001b[1;33m\u001b[0m\u001b[1;33m\u001b[0m\u001b[0m\n\u001b[0;32m     17\u001b[0m     \u001b[1;32mreturn\u001b[0m \u001b[0mmod_X\u001b[0m\u001b[1;33m\u001b[0m\u001b[1;33m\u001b[0m\u001b[0m\n",
      "\u001b[1;31mIndexError\u001b[0m: index 29 is out of bounds for axis 1 with size 29"
     ]
    }
   ],
   "source": [
    "def replace_num_with_score(X, non_num_idx, score):\n",
    "    \"\"\"The columns of numpy.ndarray `X` whose indices are stored in `non_num_idx` are not \n",
    "    numerical. Return a modified copy of `X` that has unchanged non-numerical features but in \n",
    "    which the numerical features are replaced by the elements of the `score` numpy.ndarray.\"\"\"\n",
    "    # Assume only first features can be non-numerical to make our life easier\n",
    "    assert all([i == non_num_idx[i] for i in range(len(non_num_idx))])\n",
    "    #Modify X first \n",
    "    mod_X = np.zeros([X.shape[0], X.shape[1]])\n",
    "    score_array = (np.array(score))\n",
    "    j = 0 #counter variable\n",
    "    for i in range(0, X.shape[1]):\n",
    "        if i in non_num_idx:\n",
    "            mod_X[:,i] = X[:,i]\n",
    "        else:\n",
    "            mod_X[:,i] = score_array[:,j]\n",
    "            j = j + 1\n",
    "    return mod_X\n",
    "    \n",
    "print(X_train.round(3))\n",
    "print(pca_dict['score'].round(3))\n",
    "print(replace_num_with_score(X_train, non_num_idx, pca_dict['score']).round(3))"
   ]
  },
  {
   "cell_type": "code",
   "execution_count": 26,
   "metadata": {
    "id": "gYBfiJjJymPn",
    "scrolled": true
   },
   "outputs": [],
   "source": [
    "def test_replace_num_with_score():\n",
    "    X = np.array([[1, 2.1, 4.3],\n",
    "                  [0, 4.2, 5.3]])\n",
    "    X = replace_num_with_score(X, [0], [[0,  1], [3,  2]])\n",
    "    assert helpful_eq(X, [[1, 0, 1], [0, 3, 2]])\n",
    "    X = np.array([[1, 2.1, 4.3]])\n",
    "    X = replace_num_with_score(X, [0, 1], [[50]])\n",
    "    assert helpful_eq(X, [[1, 2.1, 50]])\n",
    "\n",
    "\n",
    "test_replace_num_with_score()"
   ]
  },
  {
   "cell_type": "markdown",
   "metadata": {
    "id": "HtlLJsden54T"
   },
   "source": [
    "## Wrap pre-processing in a function"
   ]
  },
  {
   "cell_type": "code",
   "execution_count": 27,
   "metadata": {
    "id": "auwFezgnskoP"
   },
   "outputs": [],
   "source": [
    "def preprocess(X_train, X_test, non_num_idx, pca_k=False):\n",
    "    \"\"\"Returns modified copies of `X_train` and `X_test` in which at least the missing values are\n",
    "    imputed. If `pca_k` is not False but a positive integer, perform PCA as above, and replace\n",
    "    numerical features (column indices not in `non_num_idx` with elements of the score matrix.\n",
    "    The outcome of the `pca` function is returned as third value, or `None` if no PCA is done.\"\"\"\n",
    "    X_train, X_test = mean_impute(X_train, X_test)\n",
    "    if pca_k > 0:\n",
    "        pca_dict = pca(only_num(X_train, non_num_idx), pca_k)\n",
    "        X_train_with_score = replace_num_with_score(X_train, non_num_idx, pca_dict['score'])\n",
    "        X_test_s = score_new_data(only_num(X_test, non_num_idx), pca_dict['orig_center'], \n",
    "                                  pca_dict['orig_std'], pca_dict['components'])\n",
    "        X_test_with_score = replace_num_with_score(X_test, non_num_idx, X_test_s)\n",
    "        return X_train_with_score, X_test_with_score, pca_dict\n",
    "    else:\n",
    "        return X_train, X_test, None"
   ]
  },
  {
   "cell_type": "markdown",
   "metadata": {
    "id": "YInpizUMskoQ"
   },
   "source": [
    "## Evaluate PCA as part of pre-processing\n",
    "\n",
    "We will use repeated cross validation with https://scikit-learn.org/stable/modules/generated/sklearn.svm.SVC.html fit to and predicting exactly the same data. By \"repeated\", we mean performing `n_repeats` divisions of the data into `n_folds` and having each of these folds as test set once. Compared to doing cross validation just once, this gives a stabler estimate of computation time and accuracy/loss. We are interested in estimating and comparing both of these quantities. To do that fairly, we use the same data splitting and model fitting seeds.\n",
    "\n",
    "We will use the IPython magic command `%%time` in the beginning of a cell to see the time it -- the cell -- takes to execute."
   ]
  },
  {
   "cell_type": "code",
   "execution_count": 28,
   "metadata": {
    "id": "XYBP-XH8skoQ"
   },
   "outputs": [],
   "source": [
    "n_repeats = n_folds = 2  # you may want to lower this to, e.g., 2 while working on the function"
   ]
  },
  {
   "cell_type": "markdown",
   "metadata": {
    "id": "nxHpSMj8zpmu"
   },
   "source": [
    "### Exercise 7: implement `repeated_cross_validation`"
   ]
  },
  {
   "cell_type": "code",
   "execution_count": 30,
   "metadata": {
    "id": "JZIzslpOO-bx"
   },
   "outputs": [],
   "source": [
    "def repeated_cross_validation(X, y, n_repeats, n_folds, non_num_idx, pca_k=False):\n",
    "    \"\"\"For i = 0, ...`n_repeats`, create `X` and `y` folds with seed i. Then perform regular\n",
    "    cross validation per set of folds. This regular CV includes \n",
    "    `preprocess(X_train, X_test, non_num_idx, pca_k)` and training an\n",
    "    `SVC(random_state=(i+1)*(j+1))` where `j` is the index of the test fold. Return an \n",
    "    `n_repeats`-by-`n_folds` numpy.ndarray of mean accuracies per test fold.\"\"\"\n",
    "    j = 0 # counter variable for n_folds \n",
    "    X_train = np.empty([n_repeats, n_folds,int(X.shape[0]/n_folds), X.shape[1]]) #dim repeats x folds x X x y \n",
    "    X_test = X_train\n",
    "    y_train = np.empty([n_repeats, n_folds,int(X.shape[0]/n_folds)])\n",
    "    y_test = y_train\n",
    "    for i in range(0, n_repeats):\n",
    "        #Create X,y folds \n",
    "        for j in range(0, n_folds):\n",
    "            X_train[i,j,:,:],X_test[i,j,:,:],y_train[i,j,:],y_test[i,j,:]=NFolds(X, y, n_folds = n_folds, seed=i).get_fold(j)\n",
    "            #a,b,c,d = NFolds(X, y, n_folds = n_folds, seed=i).get_fold(j)]\n",
    "\n",
    "    #Preprocess and perform SVC\n",
    "    for i in range(0, n_repeats):\n",
    "        for l in range(0, n_folds):\n",
    "            X_train1, X_test1 = preprocess(X_train[i,l,:,:],X_test[i,l,:,:], non_num_idx, pca_k)\n",
    "            "
   ]
  },
  {
   "cell_type": "code",
   "execution_count": 31,
   "metadata": {
    "id": "DmbrlgJ9ymPm",
    "scrolled": true
   },
   "outputs": [
    {
     "ename": "IndexError",
     "evalue": "index 5 is out of bounds for axis 1 with size 5",
     "output_type": "error",
     "traceback": [
      "\u001b[1;31m---------------------------------------------------------------------------\u001b[0m",
      "\u001b[1;31mIndexError\u001b[0m                                Traceback (most recent call last)",
      "\u001b[1;32m<timed exec>\u001b[0m in \u001b[0;36m<module>\u001b[1;34m\u001b[0m\n",
      "\u001b[1;32m~\\AppData\\Local\\Temp\\ipykernel_16336\\513852114.py\u001b[0m in \u001b[0;36mrepeated_cross_validation\u001b[1;34m(X, y, n_repeats, n_folds, non_num_idx, pca_k)\u001b[0m\n\u001b[0;32m     19\u001b[0m     \u001b[1;32mfor\u001b[0m \u001b[0mi\u001b[0m \u001b[1;32min\u001b[0m \u001b[0mrange\u001b[0m\u001b[1;33m(\u001b[0m\u001b[1;36m0\u001b[0m\u001b[1;33m,\u001b[0m \u001b[0mn_repeats\u001b[0m\u001b[1;33m)\u001b[0m\u001b[1;33m:\u001b[0m\u001b[1;33m\u001b[0m\u001b[1;33m\u001b[0m\u001b[0m\n\u001b[0;32m     20\u001b[0m         \u001b[1;32mfor\u001b[0m \u001b[0ml\u001b[0m \u001b[1;32min\u001b[0m \u001b[0mrange\u001b[0m\u001b[1;33m(\u001b[0m\u001b[1;36m0\u001b[0m\u001b[1;33m,\u001b[0m \u001b[0mn_folds\u001b[0m\u001b[1;33m)\u001b[0m\u001b[1;33m:\u001b[0m\u001b[1;33m\u001b[0m\u001b[1;33m\u001b[0m\u001b[0m\n\u001b[1;32m---> 21\u001b[1;33m             \u001b[0mX_train1\u001b[0m\u001b[1;33m,\u001b[0m \u001b[0mX_test1\u001b[0m \u001b[1;33m=\u001b[0m \u001b[0mpreprocess\u001b[0m\u001b[1;33m(\u001b[0m\u001b[0mX_train\u001b[0m\u001b[1;33m[\u001b[0m\u001b[0mi\u001b[0m\u001b[1;33m,\u001b[0m\u001b[0ml\u001b[0m\u001b[1;33m,\u001b[0m\u001b[1;33m:\u001b[0m\u001b[1;33m,\u001b[0m\u001b[1;33m:\u001b[0m\u001b[1;33m]\u001b[0m\u001b[1;33m,\u001b[0m\u001b[0mX_test\u001b[0m\u001b[1;33m[\u001b[0m\u001b[0mi\u001b[0m\u001b[1;33m,\u001b[0m\u001b[0ml\u001b[0m\u001b[1;33m,\u001b[0m\u001b[1;33m:\u001b[0m\u001b[1;33m,\u001b[0m\u001b[1;33m:\u001b[0m\u001b[1;33m]\u001b[0m\u001b[1;33m,\u001b[0m \u001b[0mnon_num_idx\u001b[0m\u001b[1;33m,\u001b[0m \u001b[0mpca_k\u001b[0m\u001b[1;33m)\u001b[0m\u001b[1;33m\u001b[0m\u001b[1;33m\u001b[0m\u001b[0m\n\u001b[0m\u001b[0;32m     22\u001b[0m \u001b[1;33m\u001b[0m\u001b[0m\n",
      "\u001b[1;32m~\\AppData\\Local\\Temp\\ipykernel_16336\\2676950074.py\u001b[0m in \u001b[0;36mpreprocess\u001b[1;34m(X_train, X_test, non_num_idx, pca_k)\u001b[0m\n\u001b[0;32m      7\u001b[0m     \u001b[1;32mif\u001b[0m \u001b[0mpca_k\u001b[0m \u001b[1;33m>\u001b[0m \u001b[1;36m0\u001b[0m\u001b[1;33m:\u001b[0m\u001b[1;33m\u001b[0m\u001b[1;33m\u001b[0m\u001b[0m\n\u001b[0;32m      8\u001b[0m         \u001b[0mpca_dict\u001b[0m \u001b[1;33m=\u001b[0m \u001b[0mpca\u001b[0m\u001b[1;33m(\u001b[0m\u001b[0monly_num\u001b[0m\u001b[1;33m(\u001b[0m\u001b[0mX_train\u001b[0m\u001b[1;33m,\u001b[0m \u001b[0mnon_num_idx\u001b[0m\u001b[1;33m)\u001b[0m\u001b[1;33m,\u001b[0m \u001b[0mpca_k\u001b[0m\u001b[1;33m)\u001b[0m\u001b[1;33m\u001b[0m\u001b[1;33m\u001b[0m\u001b[0m\n\u001b[1;32m----> 9\u001b[1;33m         \u001b[0mX_train_with_score\u001b[0m \u001b[1;33m=\u001b[0m \u001b[0mreplace_num_with_score\u001b[0m\u001b[1;33m(\u001b[0m\u001b[0mX_train\u001b[0m\u001b[1;33m,\u001b[0m \u001b[0mnon_num_idx\u001b[0m\u001b[1;33m,\u001b[0m \u001b[0mpca_dict\u001b[0m\u001b[1;33m[\u001b[0m\u001b[1;34m'score'\u001b[0m\u001b[1;33m]\u001b[0m\u001b[1;33m)\u001b[0m\u001b[1;33m\u001b[0m\u001b[1;33m\u001b[0m\u001b[0m\n\u001b[0m\u001b[0;32m     10\u001b[0m         X_test_s = score_new_data(only_num(X_test, non_num_idx), pca_dict['orig_center'], \n\u001b[0;32m     11\u001b[0m                                   pca_dict['orig_std'], pca_dict['components'])\n",
      "\u001b[1;32m~\\AppData\\Local\\Temp\\ipykernel_16336\\2491074705.py\u001b[0m in \u001b[0;36mreplace_num_with_score\u001b[1;34m(X, non_num_idx, score)\u001b[0m\n\u001b[0;32m     13\u001b[0m             \u001b[0mmod_X\u001b[0m\u001b[1;33m[\u001b[0m\u001b[1;33m:\u001b[0m\u001b[1;33m,\u001b[0m\u001b[0mi\u001b[0m\u001b[1;33m]\u001b[0m \u001b[1;33m=\u001b[0m \u001b[0mX\u001b[0m\u001b[1;33m[\u001b[0m\u001b[1;33m:\u001b[0m\u001b[1;33m,\u001b[0m\u001b[0mi\u001b[0m\u001b[1;33m]\u001b[0m\u001b[1;33m\u001b[0m\u001b[1;33m\u001b[0m\u001b[0m\n\u001b[0;32m     14\u001b[0m         \u001b[1;32melse\u001b[0m\u001b[1;33m:\u001b[0m\u001b[1;33m\u001b[0m\u001b[1;33m\u001b[0m\u001b[0m\n\u001b[1;32m---> 15\u001b[1;33m             \u001b[0mmod_X\u001b[0m\u001b[1;33m[\u001b[0m\u001b[1;33m:\u001b[0m\u001b[1;33m,\u001b[0m\u001b[0mi\u001b[0m\u001b[1;33m]\u001b[0m \u001b[1;33m=\u001b[0m \u001b[0mscore_array\u001b[0m\u001b[1;33m[\u001b[0m\u001b[1;33m:\u001b[0m\u001b[1;33m,\u001b[0m\u001b[0mj\u001b[0m\u001b[1;33m]\u001b[0m\u001b[1;33m\u001b[0m\u001b[1;33m\u001b[0m\u001b[0m\n\u001b[0m\u001b[0;32m     16\u001b[0m             \u001b[0mj\u001b[0m \u001b[1;33m=\u001b[0m \u001b[0mj\u001b[0m \u001b[1;33m+\u001b[0m \u001b[1;36m1\u001b[0m\u001b[1;33m\u001b[0m\u001b[1;33m\u001b[0m\u001b[0m\n\u001b[0;32m     17\u001b[0m     \u001b[1;32mreturn\u001b[0m \u001b[0mmod_X\u001b[0m\u001b[1;33m\u001b[0m\u001b[1;33m\u001b[0m\u001b[0m\n",
      "\u001b[1;31mIndexError\u001b[0m: index 5 is out of bounds for axis 1 with size 5"
     ]
    }
   ],
   "source": [
    "%%time\n",
    "k = 5\n",
    "accuracies_pca = repeated_cross_validation(big_X, big_y, n_repeats, n_folds, non_num_idx, pca_k=k)\n",
    "#print(accuracies_pca.round(3))\n",
    "#print(f'Accuracy with PCA: {round(np.mean(accuracies_pca), 3)}' +\n",
    "      #f'+- {round(np.std(accuracies_pca), 3)}')"
   ]
  },
  {
   "cell_type": "code",
   "execution_count": 47,
   "metadata": {
    "id": "s5joVCisIdRf",
    "scrolled": true
   },
   "outputs": [
    {
     "ename": "NameError",
     "evalue": "name 'repeated_cross_validation' is not defined",
     "output_type": "error",
     "traceback": [
      "\u001b[1;31m---------------------------------------------------------------------------\u001b[0m",
      "\u001b[1;31mNameError\u001b[0m                                 Traceback (most recent call last)",
      "\u001b[1;32m~\\AppData\\Local\\Temp\\ipykernel_10536\\2763496865.py\u001b[0m in \u001b[0;36m<module>\u001b[1;34m\u001b[0m\n\u001b[0;32m     25\u001b[0m \u001b[1;33m\u001b[0m\u001b[0m\n\u001b[0;32m     26\u001b[0m \u001b[1;33m\u001b[0m\u001b[0m\n\u001b[1;32m---> 27\u001b[1;33m \u001b[0mtest_repeated_cross_validation\u001b[0m\u001b[1;33m(\u001b[0m\u001b[1;33m)\u001b[0m\u001b[1;33m\u001b[0m\u001b[1;33m\u001b[0m\u001b[0m\n\u001b[0m",
      "\u001b[1;32m~\\AppData\\Local\\Temp\\ipykernel_10536\\2763496865.py\u001b[0m in \u001b[0;36mtest_repeated_cross_validation\u001b[1;34m()\u001b[0m\n\u001b[0;32m      3\u001b[0m     \u001b[0mtest_mean_impute\u001b[0m\u001b[1;33m(\u001b[0m\u001b[1;33m)\u001b[0m\u001b[1;33m\u001b[0m\u001b[1;33m\u001b[0m\u001b[0m\n\u001b[0;32m      4\u001b[0m     \u001b[0mnn_idx\u001b[0m \u001b[1;33m=\u001b[0m \u001b[1;33m[\u001b[0m\u001b[1;33m]\u001b[0m\u001b[1;33m\u001b[0m\u001b[1;33m\u001b[0m\u001b[0m\n\u001b[1;32m----> 5\u001b[1;33m     \u001b[0maccuracies\u001b[0m \u001b[1;33m=\u001b[0m \u001b[0mrepeated_cross_validation\u001b[0m\u001b[1;33m(\u001b[0m\u001b[0mX\u001b[0m\u001b[1;33m,\u001b[0m \u001b[0my\u001b[0m\u001b[1;33m,\u001b[0m \u001b[1;36m2\u001b[0m\u001b[1;33m,\u001b[0m \u001b[1;36m2\u001b[0m\u001b[1;33m,\u001b[0m \u001b[0mnn_idx\u001b[0m\u001b[1;33m,\u001b[0m \u001b[0mpca_k\u001b[0m\u001b[1;33m=\u001b[0m\u001b[1;32mFalse\u001b[0m\u001b[1;33m)\u001b[0m\u001b[1;33m\u001b[0m\u001b[1;33m\u001b[0m\u001b[0m\n\u001b[0m\u001b[0;32m      6\u001b[0m     assert helpful_eq(accuracies, [[0.91549296, 0.89824561],\n\u001b[0;32m      7\u001b[0m                                    [0.9084507,  0.91578947]])\n",
      "\u001b[1;31mNameError\u001b[0m: name 'repeated_cross_validation' is not defined"
     ]
    }
   ],
   "source": [
    "def test_repeated_cross_validation():\n",
    "    X, y = load_breast_cancer(return_X_y=True)\n",
    "    test_mean_impute()\n",
    "    nn_idx = []\n",
    "    accuracies = repeated_cross_validation(X, y, 2, 2, nn_idx, pca_k=False)\n",
    "    assert helpful_eq(accuracies, [[0.91549296, 0.89824561],\n",
    "                                   [0.9084507,  0.91578947]])\n",
    "    accuracies_pca = repeated_cross_validation(X, y, 2, 2, nn_idx, pca_k=2)\n",
    "    assert helpful_eq(accuracies_pca, [[0.91549296, 0.92631579],\n",
    "                                       [0.92605634, 0.93684211]])\n",
    "    X, y = load_breast_cancer(return_X_y=True)\n",
    "    test_mean_impute()\n",
    "    nn_idx = [0, 1, 2]\n",
    "    accuracies = repeated_cross_validation(X, y, 4, 3, nn_idx, pca_k=False)\n",
    "    assert helpful_eq(np.array(accuracies).shape, (4, 3))\n",
    "    assert helpful_eq(accuracies, [[0.92592593, 0.89473684, 0.91052632],\n",
    "                                   [0.8994709,  0.89473684, 0.92105263],\n",
    "                                   [0.91005291, 0.89473684, 0.92631579],\n",
    "                                   [0.92592593, 0.91052632, 0.91052632]])\n",
    "    accuracies_pca = repeated_cross_validation(X, y, 4, 3, nn_idx, pca_k=2)\n",
    "    assert helpful_eq(accuracies_pca, [[0.92063492, 0.88947368, 0.91578947],\n",
    "                                       [0.88888889, 0.9,        0.9       ],\n",
    "                                       [0.8994709,  0.92105263, 0.9       ],\n",
    "                                       [0.93121693, 0.87894737, 0.91052632]])\n",
    "\n",
    "\n",
    "test_repeated_cross_validation()"
   ]
  },
  {
   "cell_type": "code",
   "execution_count": 46,
   "metadata": {
    "id": "5mMOJ6BIn54U",
    "scrolled": true
   },
   "outputs": [
    {
     "ename": "NameError",
     "evalue": "name 'repeated_cross_validation' is not defined",
     "output_type": "error",
     "traceback": [
      "\u001b[1;31m---------------------------------------------------------------------------\u001b[0m",
      "\u001b[1;31mNameError\u001b[0m                                 Traceback (most recent call last)",
      "\u001b[1;32m<timed exec>\u001b[0m in \u001b[0;36m<module>\u001b[1;34m\u001b[0m\n",
      "\u001b[1;31mNameError\u001b[0m: name 'repeated_cross_validation' is not defined"
     ]
    }
   ],
   "source": [
    "%%time\n",
    "accuracies = repeated_cross_validation(big_X, big_y, n_repeats, n_folds, non_num_idx)\n",
    "print(accuracies.round(3))\n",
    "print(f'Accuracy without PCA: {round(np.mean(accuracies), 3)}' +\n",
    "      f'+- {round(np.std(accuracies), 3)}')"
   ]
  },
  {
   "cell_type": "code",
   "execution_count": null,
   "metadata": {},
   "outputs": [],
   "source": []
  },
  {
   "cell_type": "markdown",
   "metadata": {
    "id": "XkqSXNyxymPp"
   },
   "source": [
    "### Question 6: how do the computation time and accuracies differ between the repeated evaluations with and without PCA, and how do you explain this?\n",
    "\n",
    "If you use a different $k$ than you chose in question 5, specify it. We only looked at one specific training set in Q5, so your answer there is not necessarily wrong if you pick something else here.\n",
    "\n",
    "The calculations with PCA tend to be faster, which is explained by the fact that the PCA simplifices the dataset by reducing the dimension, so that less complex computation is required. The accuracy is lower though, which is the cost of this simplification.\n"
   ]
  },
  {
   "cell_type": "markdown",
   "metadata": {
    "id": "jhKKG0LeAHeu"
   },
   "source": [
    "### Question 7 (bonus): test your theory.\n",
    "\n",
    "You may include _relevant_ (psuedo-)code and figures in your report. It's fine if you (partially) falsify your theory too, as long as it -- the theory -- made sense in the first place."
   ]
  },
  {
   "cell_type": "markdown",
   "metadata": {
    "id": "asNmOF_FAH4G"
   },
   "source": [
    "### Question 8: can you describe a situation where (or model for which) PCA would not help?\n",
    "\n",
    "A situation where PCA would not help is a dataset where one would expect the different features not to be related. As PCA reduces the dimension of a dataset by calculating a relation between the different features, it does not make sense to do so where there are no relations expected to be found, and might even cause the model to lose efficiency. "
   ]
  },
  {
   "cell_type": "markdown",
   "metadata": {
    "id": "o0VKGRXxLoEF"
   },
   "source": [
    "## Interpret principal components"
   ]
  },
  {
   "cell_type": "markdown",
   "metadata": {
    "id": "915cw7gkymPp"
   },
   "source": [
    "### Question 9: make scatterplots of 1: (train/test/all) points expressed in terms of the first two principal components; 2: the first two numerical features.\n",
    "\n",
    "Make sure the labels of the points are displayed somehow, so that we can get a rough idea of how well the malignant and benign samples can be distinguished using only the first two principal components.\n",
    "\n",
    "This requires you to run PCA with $k \\geq 2$, but you could use https://scikit-learn.org/stable/modules/generated/sklearn.decomposition.PCA.html on this dataset as well."
   ]
  },
  {
   "cell_type": "code",
   "execution_count": 52,
   "metadata": {
    "id": "-DBIcW-In54W"
   },
   "outputs": [
    {
     "data": {
      "text/plain": [
       "<matplotlib.legend.Legend at 0x2c987ade288>"
      ]
     },
     "execution_count": 52,
     "metadata": {},
     "output_type": "execute_result"
    },
    {
     "ename": "ValueError",
     "evalue": "Image size of 471x68318 pixels is too large. It must be less than 2^16 in each direction.",
     "output_type": "error",
     "traceback": [
      "\u001b[1;31m---------------------------------------------------------------------------\u001b[0m",
      "\u001b[1;31mValueError\u001b[0m                                Traceback (most recent call last)",
      "\u001b[1;32mC:\\ProgramData\\Anaconda3\\lib\\site-packages\\IPython\\core\\formatters.py\u001b[0m in \u001b[0;36m__call__\u001b[1;34m(self, obj)\u001b[0m\n\u001b[0;32m    339\u001b[0m                 \u001b[1;32mpass\u001b[0m\u001b[1;33m\u001b[0m\u001b[1;33m\u001b[0m\u001b[0m\n\u001b[0;32m    340\u001b[0m             \u001b[1;32melse\u001b[0m\u001b[1;33m:\u001b[0m\u001b[1;33m\u001b[0m\u001b[1;33m\u001b[0m\u001b[0m\n\u001b[1;32m--> 341\u001b[1;33m                 \u001b[1;32mreturn\u001b[0m \u001b[0mprinter\u001b[0m\u001b[1;33m(\u001b[0m\u001b[0mobj\u001b[0m\u001b[1;33m)\u001b[0m\u001b[1;33m\u001b[0m\u001b[1;33m\u001b[0m\u001b[0m\n\u001b[0m\u001b[0;32m    342\u001b[0m             \u001b[1;31m# Finally look for special method names\u001b[0m\u001b[1;33m\u001b[0m\u001b[1;33m\u001b[0m\u001b[1;33m\u001b[0m\u001b[0m\n\u001b[0;32m    343\u001b[0m             \u001b[0mmethod\u001b[0m \u001b[1;33m=\u001b[0m \u001b[0mget_real_method\u001b[0m\u001b[1;33m(\u001b[0m\u001b[0mobj\u001b[0m\u001b[1;33m,\u001b[0m \u001b[0mself\u001b[0m\u001b[1;33m.\u001b[0m\u001b[0mprint_method\u001b[0m\u001b[1;33m)\u001b[0m\u001b[1;33m\u001b[0m\u001b[1;33m\u001b[0m\u001b[0m\n",
      "\u001b[1;32mC:\\ProgramData\\Anaconda3\\lib\\site-packages\\IPython\\core\\pylabtools.py\u001b[0m in \u001b[0;36mprint_figure\u001b[1;34m(fig, fmt, bbox_inches, base64, **kwargs)\u001b[0m\n\u001b[0;32m    149\u001b[0m         \u001b[0mFigureCanvasBase\u001b[0m\u001b[1;33m(\u001b[0m\u001b[0mfig\u001b[0m\u001b[1;33m)\u001b[0m\u001b[1;33m\u001b[0m\u001b[1;33m\u001b[0m\u001b[0m\n\u001b[0;32m    150\u001b[0m \u001b[1;33m\u001b[0m\u001b[0m\n\u001b[1;32m--> 151\u001b[1;33m     \u001b[0mfig\u001b[0m\u001b[1;33m.\u001b[0m\u001b[0mcanvas\u001b[0m\u001b[1;33m.\u001b[0m\u001b[0mprint_figure\u001b[0m\u001b[1;33m(\u001b[0m\u001b[0mbytes_io\u001b[0m\u001b[1;33m,\u001b[0m \u001b[1;33m**\u001b[0m\u001b[0mkw\u001b[0m\u001b[1;33m)\u001b[0m\u001b[1;33m\u001b[0m\u001b[1;33m\u001b[0m\u001b[0m\n\u001b[0m\u001b[0;32m    152\u001b[0m     \u001b[0mdata\u001b[0m \u001b[1;33m=\u001b[0m \u001b[0mbytes_io\u001b[0m\u001b[1;33m.\u001b[0m\u001b[0mgetvalue\u001b[0m\u001b[1;33m(\u001b[0m\u001b[1;33m)\u001b[0m\u001b[1;33m\u001b[0m\u001b[1;33m\u001b[0m\u001b[0m\n\u001b[0;32m    153\u001b[0m     \u001b[1;32mif\u001b[0m \u001b[0mfmt\u001b[0m \u001b[1;33m==\u001b[0m \u001b[1;34m'svg'\u001b[0m\u001b[1;33m:\u001b[0m\u001b[1;33m\u001b[0m\u001b[1;33m\u001b[0m\u001b[0m\n",
      "\u001b[1;32mC:\\ProgramData\\Anaconda3\\lib\\site-packages\\matplotlib\\backend_bases.py\u001b[0m in \u001b[0;36mprint_figure\u001b[1;34m(self, filename, dpi, facecolor, edgecolor, orientation, format, bbox_inches, pad_inches, bbox_extra_artists, backend, **kwargs)\u001b[0m\n\u001b[0;32m   2323\u001b[0m                         \u001b[0morientation\u001b[0m\u001b[1;33m=\u001b[0m\u001b[0morientation\u001b[0m\u001b[1;33m,\u001b[0m\u001b[1;33m\u001b[0m\u001b[1;33m\u001b[0m\u001b[0m\n\u001b[0;32m   2324\u001b[0m                         \u001b[0mbbox_inches_restore\u001b[0m\u001b[1;33m=\u001b[0m\u001b[0m_bbox_inches_restore\u001b[0m\u001b[1;33m,\u001b[0m\u001b[1;33m\u001b[0m\u001b[1;33m\u001b[0m\u001b[0m\n\u001b[1;32m-> 2325\u001b[1;33m                         **kwargs)\n\u001b[0m\u001b[0;32m   2326\u001b[0m             \u001b[1;32mfinally\u001b[0m\u001b[1;33m:\u001b[0m\u001b[1;33m\u001b[0m\u001b[1;33m\u001b[0m\u001b[0m\n\u001b[0;32m   2327\u001b[0m                 \u001b[1;32mif\u001b[0m \u001b[0mbbox_inches\u001b[0m \u001b[1;32mand\u001b[0m \u001b[0mrestore_bbox\u001b[0m\u001b[1;33m:\u001b[0m\u001b[1;33m\u001b[0m\u001b[1;33m\u001b[0m\u001b[0m\n",
      "\u001b[1;32mC:\\ProgramData\\Anaconda3\\lib\\site-packages\\matplotlib\\backend_bases.py\u001b[0m in \u001b[0;36mwrapper\u001b[1;34m(*args, **kwargs)\u001b[0m\n\u001b[0;32m   1646\u001b[0m             \u001b[0mkwargs\u001b[0m\u001b[1;33m.\u001b[0m\u001b[0mpop\u001b[0m\u001b[1;33m(\u001b[0m\u001b[0marg\u001b[0m\u001b[1;33m)\u001b[0m\u001b[1;33m\u001b[0m\u001b[1;33m\u001b[0m\u001b[0m\n\u001b[0;32m   1647\u001b[0m \u001b[1;33m\u001b[0m\u001b[0m\n\u001b[1;32m-> 1648\u001b[1;33m         \u001b[1;32mreturn\u001b[0m \u001b[0mfunc\u001b[0m\u001b[1;33m(\u001b[0m\u001b[1;33m*\u001b[0m\u001b[0margs\u001b[0m\u001b[1;33m,\u001b[0m \u001b[1;33m**\u001b[0m\u001b[0mkwargs\u001b[0m\u001b[1;33m)\u001b[0m\u001b[1;33m\u001b[0m\u001b[1;33m\u001b[0m\u001b[0m\n\u001b[0m\u001b[0;32m   1649\u001b[0m \u001b[1;33m\u001b[0m\u001b[0m\n\u001b[0;32m   1650\u001b[0m     \u001b[1;32mreturn\u001b[0m \u001b[0mwrapper\u001b[0m\u001b[1;33m\u001b[0m\u001b[1;33m\u001b[0m\u001b[0m\n",
      "\u001b[1;32mC:\\ProgramData\\Anaconda3\\lib\\site-packages\\matplotlib\\_api\\deprecation.py\u001b[0m in \u001b[0;36mwrapper\u001b[1;34m(*inner_args, **inner_kwargs)\u001b[0m\n\u001b[0;32m    410\u001b[0m                          \u001b[1;32melse\u001b[0m \u001b[0mdeprecation_addendum\u001b[0m\u001b[1;33m,\u001b[0m\u001b[1;33m\u001b[0m\u001b[1;33m\u001b[0m\u001b[0m\n\u001b[0;32m    411\u001b[0m                 **kwargs)\n\u001b[1;32m--> 412\u001b[1;33m         \u001b[1;32mreturn\u001b[0m \u001b[0mfunc\u001b[0m\u001b[1;33m(\u001b[0m\u001b[1;33m*\u001b[0m\u001b[0minner_args\u001b[0m\u001b[1;33m,\u001b[0m \u001b[1;33m**\u001b[0m\u001b[0minner_kwargs\u001b[0m\u001b[1;33m)\u001b[0m\u001b[1;33m\u001b[0m\u001b[1;33m\u001b[0m\u001b[0m\n\u001b[0m\u001b[0;32m    413\u001b[0m \u001b[1;33m\u001b[0m\u001b[0m\n\u001b[0;32m    414\u001b[0m     \u001b[0mDECORATORS\u001b[0m\u001b[1;33m[\u001b[0m\u001b[0mwrapper\u001b[0m\u001b[1;33m]\u001b[0m \u001b[1;33m=\u001b[0m \u001b[0mdecorator\u001b[0m\u001b[1;33m\u001b[0m\u001b[1;33m\u001b[0m\u001b[0m\n",
      "\u001b[1;32mC:\\ProgramData\\Anaconda3\\lib\\site-packages\\matplotlib\\backends\\backend_agg.py\u001b[0m in \u001b[0;36mprint_png\u001b[1;34m(self, filename_or_obj, metadata, pil_kwargs, *args)\u001b[0m\n\u001b[0;32m    538\u001b[0m             \u001b[1;33m*\u001b[0m\u001b[0mmetadata\u001b[0m\u001b[1;33m*\u001b[0m\u001b[1;33m,\u001b[0m \u001b[0mincluding\u001b[0m \u001b[0mthe\u001b[0m \u001b[0mdefault\u001b[0m \u001b[1;34m'Software'\u001b[0m \u001b[0mkey\u001b[0m\u001b[1;33m.\u001b[0m\u001b[1;33m\u001b[0m\u001b[1;33m\u001b[0m\u001b[0m\n\u001b[0;32m    539\u001b[0m         \"\"\"\n\u001b[1;32m--> 540\u001b[1;33m         \u001b[0mFigureCanvasAgg\u001b[0m\u001b[1;33m.\u001b[0m\u001b[0mdraw\u001b[0m\u001b[1;33m(\u001b[0m\u001b[0mself\u001b[0m\u001b[1;33m)\u001b[0m\u001b[1;33m\u001b[0m\u001b[1;33m\u001b[0m\u001b[0m\n\u001b[0m\u001b[0;32m    541\u001b[0m         mpl.image.imsave(\n\u001b[0;32m    542\u001b[0m             \u001b[0mfilename_or_obj\u001b[0m\u001b[1;33m,\u001b[0m \u001b[0mself\u001b[0m\u001b[1;33m.\u001b[0m\u001b[0mbuffer_rgba\u001b[0m\u001b[1;33m(\u001b[0m\u001b[1;33m)\u001b[0m\u001b[1;33m,\u001b[0m \u001b[0mformat\u001b[0m\u001b[1;33m=\u001b[0m\u001b[1;34m\"png\"\u001b[0m\u001b[1;33m,\u001b[0m \u001b[0morigin\u001b[0m\u001b[1;33m=\u001b[0m\u001b[1;34m\"upper\"\u001b[0m\u001b[1;33m,\u001b[0m\u001b[1;33m\u001b[0m\u001b[1;33m\u001b[0m\u001b[0m\n",
      "\u001b[1;32mC:\\ProgramData\\Anaconda3\\lib\\site-packages\\matplotlib\\backends\\backend_agg.py\u001b[0m in \u001b[0;36mdraw\u001b[1;34m(self)\u001b[0m\n\u001b[0;32m    429\u001b[0m     \u001b[1;32mdef\u001b[0m \u001b[0mdraw\u001b[0m\u001b[1;33m(\u001b[0m\u001b[0mself\u001b[0m\u001b[1;33m)\u001b[0m\u001b[1;33m:\u001b[0m\u001b[1;33m\u001b[0m\u001b[1;33m\u001b[0m\u001b[0m\n\u001b[0;32m    430\u001b[0m         \u001b[1;31m# docstring inherited\u001b[0m\u001b[1;33m\u001b[0m\u001b[1;33m\u001b[0m\u001b[1;33m\u001b[0m\u001b[0m\n\u001b[1;32m--> 431\u001b[1;33m         \u001b[0mself\u001b[0m\u001b[1;33m.\u001b[0m\u001b[0mrenderer\u001b[0m \u001b[1;33m=\u001b[0m \u001b[0mself\u001b[0m\u001b[1;33m.\u001b[0m\u001b[0mget_renderer\u001b[0m\u001b[1;33m(\u001b[0m\u001b[0mcleared\u001b[0m\u001b[1;33m=\u001b[0m\u001b[1;32mTrue\u001b[0m\u001b[1;33m)\u001b[0m\u001b[1;33m\u001b[0m\u001b[1;33m\u001b[0m\u001b[0m\n\u001b[0m\u001b[0;32m    432\u001b[0m         \u001b[1;31m# Acquire a lock on the shared font cache.\u001b[0m\u001b[1;33m\u001b[0m\u001b[1;33m\u001b[0m\u001b[1;33m\u001b[0m\u001b[0m\n\u001b[0;32m    433\u001b[0m         \u001b[1;32mwith\u001b[0m \u001b[0mRendererAgg\u001b[0m\u001b[1;33m.\u001b[0m\u001b[0mlock\u001b[0m\u001b[1;33m,\u001b[0m\u001b[0;31m \u001b[0m\u001b[0;31m\\\u001b[0m\u001b[1;33m\u001b[0m\u001b[1;33m\u001b[0m\u001b[0m\n",
      "\u001b[1;32mC:\\ProgramData\\Anaconda3\\lib\\site-packages\\matplotlib\\backends\\backend_agg.py\u001b[0m in \u001b[0;36mget_renderer\u001b[1;34m(self, cleared)\u001b[0m\n\u001b[0;32m    445\u001b[0m                           and getattr(self, \"_lastKey\", None) == key)\n\u001b[0;32m    446\u001b[0m         \u001b[1;32mif\u001b[0m \u001b[1;32mnot\u001b[0m \u001b[0mreuse_renderer\u001b[0m\u001b[1;33m:\u001b[0m\u001b[1;33m\u001b[0m\u001b[1;33m\u001b[0m\u001b[0m\n\u001b[1;32m--> 447\u001b[1;33m             \u001b[0mself\u001b[0m\u001b[1;33m.\u001b[0m\u001b[0mrenderer\u001b[0m \u001b[1;33m=\u001b[0m \u001b[0mRendererAgg\u001b[0m\u001b[1;33m(\u001b[0m\u001b[0mw\u001b[0m\u001b[1;33m,\u001b[0m \u001b[0mh\u001b[0m\u001b[1;33m,\u001b[0m \u001b[0mself\u001b[0m\u001b[1;33m.\u001b[0m\u001b[0mfigure\u001b[0m\u001b[1;33m.\u001b[0m\u001b[0mdpi\u001b[0m\u001b[1;33m)\u001b[0m\u001b[1;33m\u001b[0m\u001b[1;33m\u001b[0m\u001b[0m\n\u001b[0m\u001b[0;32m    448\u001b[0m             \u001b[0mself\u001b[0m\u001b[1;33m.\u001b[0m\u001b[0m_lastKey\u001b[0m \u001b[1;33m=\u001b[0m \u001b[0mkey\u001b[0m\u001b[1;33m\u001b[0m\u001b[1;33m\u001b[0m\u001b[0m\n\u001b[0;32m    449\u001b[0m         \u001b[1;32melif\u001b[0m \u001b[0mcleared\u001b[0m\u001b[1;33m:\u001b[0m\u001b[1;33m\u001b[0m\u001b[1;33m\u001b[0m\u001b[0m\n",
      "\u001b[1;32mC:\\ProgramData\\Anaconda3\\lib\\site-packages\\matplotlib\\backends\\backend_agg.py\u001b[0m in \u001b[0;36m__init__\u001b[1;34m(self, width, height, dpi)\u001b[0m\n\u001b[0;32m     91\u001b[0m         \u001b[0mself\u001b[0m\u001b[1;33m.\u001b[0m\u001b[0mwidth\u001b[0m \u001b[1;33m=\u001b[0m \u001b[0mwidth\u001b[0m\u001b[1;33m\u001b[0m\u001b[1;33m\u001b[0m\u001b[0m\n\u001b[0;32m     92\u001b[0m         \u001b[0mself\u001b[0m\u001b[1;33m.\u001b[0m\u001b[0mheight\u001b[0m \u001b[1;33m=\u001b[0m \u001b[0mheight\u001b[0m\u001b[1;33m\u001b[0m\u001b[1;33m\u001b[0m\u001b[0m\n\u001b[1;32m---> 93\u001b[1;33m         \u001b[0mself\u001b[0m\u001b[1;33m.\u001b[0m\u001b[0m_renderer\u001b[0m \u001b[1;33m=\u001b[0m \u001b[0m_RendererAgg\u001b[0m\u001b[1;33m(\u001b[0m\u001b[0mint\u001b[0m\u001b[1;33m(\u001b[0m\u001b[0mwidth\u001b[0m\u001b[1;33m)\u001b[0m\u001b[1;33m,\u001b[0m \u001b[0mint\u001b[0m\u001b[1;33m(\u001b[0m\u001b[0mheight\u001b[0m\u001b[1;33m)\u001b[0m\u001b[1;33m,\u001b[0m \u001b[0mdpi\u001b[0m\u001b[1;33m)\u001b[0m\u001b[1;33m\u001b[0m\u001b[1;33m\u001b[0m\u001b[0m\n\u001b[0m\u001b[0;32m     94\u001b[0m         \u001b[0mself\u001b[0m\u001b[1;33m.\u001b[0m\u001b[0m_filter_renderers\u001b[0m \u001b[1;33m=\u001b[0m \u001b[1;33m[\u001b[0m\u001b[1;33m]\u001b[0m\u001b[1;33m\u001b[0m\u001b[1;33m\u001b[0m\u001b[0m\n\u001b[0;32m     95\u001b[0m \u001b[1;33m\u001b[0m\u001b[0m\n",
      "\u001b[1;31mValueError\u001b[0m: Image size of 471x68318 pixels is too large. It must be less than 2^16 in each direction."
     ]
    },
    {
     "data": {
      "text/plain": [
       "<Figure size 432x288 with 1 Axes>"
      ]
     },
     "metadata": {
      "needs_background": "light"
     },
     "output_type": "display_data"
    }
   ],
   "source": [
    "big_X, big_y, non_num_idx = create_big_X_y()\n",
    "X_train, X_test, y_train, y_test = NFolds(big_X, big_y, seed=5).get_fold(0)\n",
    "X_train, X_test = mean_impute(X_train, X_test)\n",
    "\n",
    "k = 2\n",
    "pca = PCA(n_components = k)\n",
    "mod_X_train = pca.fit_transform(X_train)\n",
    "mod_X_score = pca.transform(X_test)\n",
    "for i in range(0, mod_X_train.shape[0]):\n",
    "    plt.scatter(mod_X_train[i,0], mod_X_train[i,1], label=\"training points\", c=r)\n",
    "for i in range(0, mod_X_test.shape[0])\n",
    "    plt.scatter(mod_X_score[i,0], mod_X_train[i,1], label=\"test points\", c=b)\n",
    "plt.title(\"Plot of the dataset expressed in terms of the first two principal components\")\n",
    "plt.xlabel(\"k_0\")\n",
    "plt.ylabel(\"k_1\")\n",
    "plt.legend()\n",
    "plt.show()\n"
   ]
  },
  {
   "cell_type": "code",
   "execution_count": null,
   "metadata": {
    "id": "yBXDGoMUO-b1"
   },
   "outputs": [],
   "source": [
    "raise NotImplementedError()"
   ]
  },
  {
   "cell_type": "code",
   "execution_count": 46,
   "metadata": {
    "id": "GkaLzfDOymPq"
   },
   "outputs": [
    {
     "name": "stdout",
     "output_type": "stream",
     "text": [
      "00 [0.005 0.004]\n",
      "01 [0.002 0.   ]\n",
      "02 [0.032 0.026]\n",
      "03 [0.488 0.87 ]\n",
      "04 [ 0. -0.]\n",
      "05 [0. 0.]\n",
      "06 [0. 0.]\n",
      "07 [0. 0.]\n",
      "08 [ 0. -0.]\n",
      "09 [-0. -0.]\n",
      "10 [0. 0.]\n",
      "11 [-0.  0.]\n",
      "12 [0.002 0.001]\n",
      "13 [0.049 0.021]\n",
      "14 [-0. -0.]\n",
      "15 [0. 0.]\n",
      "16 [0. 0.]\n",
      "17 [0. 0.]\n",
      "18 [-0.  0.]\n",
      "19 [-0. -0.]\n",
      "20 [0.006 0.003]\n",
      "21 [ 0.003 -0.001]\n",
      "22 [0.044 0.021]\n",
      "23 [ 0.87  -0.492]\n",
      "24 [ 0. -0.]\n",
      "25 [ 0. -0.]\n",
      "26 [0. 0.]\n",
      "27 [0. 0.]\n",
      "28 [ 0. -0.]\n",
      "29 [ 0. -0.]\n"
     ]
    }
   ],
   "source": [
    "for i in range(pca_dict['components'].shape[1]):\n",
    "    print(\"{:02d}\".format(i), pca_dict['components'][:2, i].round(3))"
   ]
  },
  {
   "cell_type": "markdown",
   "metadata": {
    "id": "Xhn5VCXwymPq"
   },
   "source": [
    "### Question 10 (2 points): what do the (first two) principal components represent when you think back to what the numerical features are based on?\n",
    "\n",
    "Those represent the features with the two highest variances. For this dataset, those features are number 6 and 26; which correspond to the mean of the compactness and the mean of the three largest concavities. "
   ]
  },
  {
   "cell_type": "markdown",
   "metadata": {
    "id": "L1MOASrRLtCv"
   },
   "source": [
    "## Reconstruct numerical features from score matrix\n",
    "\n",
    "Finally, we want to reconstruct our numerical data on its original scale from its score. PCA with $k \\ll d$ is not supposed to be lossless (i.e., perfect) compression, so our results might not look great, but this is a nice exercise.\n",
    "\n",
    "This may seem more daunting than the other programming exercises but it is just a combination of things we have done before. The docstring contains an outline, and the first case in the `test_` function might help as well."
   ]
  },
  {
   "cell_type": "markdown",
   "metadata": {
    "id": "dzk5tb5yD286"
   },
   "source": [
    "### Exercise 8: implement `approx_X_from_X_with_score`"
   ]
  },
  {
   "cell_type": "code",
   "execution_count": null,
   "metadata": {
    "id": "aK4tRYtNymPo",
    "scrolled": true
   },
   "outputs": [],
   "source": [
    "def approx_X_from_X_with_score(X_with_score, pca_dict, non_num_idx):\n",
    "    \"\"\"Obtain the score matrix from the `non_num_idx` columns of `X_with_score`. Then reconstruct\n",
    "    the feature values they originally represented using the PCA outcome stored in `pca_dict`. \n",
    "    Return these values in the same format as the original matrix, without forgetting the \n",
    "    `non_num_idx` columns.\"\"\"\n",
    "    raise NotImplementedError()\n",
    "\n",
    "\n",
    "_, X_test_with_score, pca_dict = preprocess(X_train, X_test, non_num_idx, pca_k=2)\n",
    "X_test_reconstr = approx_X_from_X_with_score(X_test_with_score, pca_dict, non_num_idx)\n",
    "print(X_test[0].round(3))\n",
    "print(X_test_reconstr[0].round(3))"
   ]
  },
  {
   "cell_type": "code",
   "execution_count": null,
   "metadata": {
    "id": "ouzapTMUFG2n"
   },
   "outputs": [],
   "source": [
    "def test_approx_X_from_X_with_score():\n",
    "    X_train = np.array([[0.0, 0.4], \n",
    "                        [1.0, 1.6], \n",
    "                        [2.0, 3.4], \n",
    "                        [3.0, 4.6]])\n",
    "    X_test = np.array([[4, 5.6]])\n",
    "    non_num_idx = []\n",
    "    _, X_test_w_score, pca_dict = preprocess(X_train, X_test, non_num_idx, pca_k=1)\n",
    "    assert helpful_eq(X_test_w_score, [[2.93797197]])\n",
    "    # ^ tests only if mistake is in previous functions\n",
    "    X_test_reconstr = approx_X_from_X_with_score(X_test_w_score, pca_dict, non_num_idx)\n",
    "    assert helpful_eq(X_test_reconstr, [[3.82267078, 5.85623919]])\n",
    "    assert helpful_eq(mean_squared_error(X_test, X_test_reconstr), 0.04855208630760682)\n",
    "\n",
    "    X, y, non_num_idx = create_big_X_y()\n",
    "    X_train, X_test, y_train, y_test = NFolds(X, y, seed=5).get_fold(0)\n",
    "    X_train, X_test = mean_impute(X_train, X_test)\n",
    "    _, X_test_w_score, pca_dict = preprocess(X_train, X_test, non_num_idx, pca_k=2)\n",
    "    X_test_reconstr = approx_X_from_X_with_score(X_test_w_score, pca_dict, non_num_idx)\n",
    "    assert helpful_eq(X_test_reconstr[0:5, -1], \n",
    "                      [0.07272649, 0.08546382, 0.07856379, 0.07790174, 0.10962264])\n",
    "    assert helpful_eq(mean_squared_error(X_test, X_test_reconstr), 2760.755214107711)\n",
    "\n",
    "\n",
    "test_approx_X_from_X_with_score()"
   ]
  },
  {
   "cell_type": "code",
   "execution_count": null,
   "metadata": {
    "id": "9U84291iuN8C"
   },
   "outputs": [],
   "source": []
  }
 ],
 "metadata": {
  "colab": {
   "collapsed_sections": [],
   "name": "A4.ipynb",
   "provenance": [
    {
     "file_id": "1hhuDArvoI0JkQmeeJY94uOaHonmhUAJr",
     "timestamp": 1618487186541
    },
    {
     "file_id": "13otroaMKy7Ps1w-poN8MkYqXnOf94WUR",
     "timestamp": 1616589967870
    }
   ],
   "toc_visible": true
  },
  "kernelspec": {
   "display_name": "Python 3 (ipykernel)",
   "language": "python",
   "name": "python3"
  },
  "language_info": {
   "codemirror_mode": {
    "name": "ipython",
    "version": 3
   },
   "file_extension": ".py",
   "mimetype": "text/x-python",
   "name": "python",
   "nbconvert_exporter": "python",
   "pygments_lexer": "ipython3",
   "version": "3.7.11"
  },
  "toc": {
   "base_numbering": 1,
   "nav_menu": {},
   "number_sections": true,
   "sideBar": true,
   "skip_h1_title": false,
   "title_cell": "Table of Contents",
   "title_sidebar": "Contents",
   "toc_cell": false,
   "toc_position": {
    "height": "calc(100% - 180px)",
    "left": "10px",
    "top": "150px",
    "width": "250px"
   },
   "toc_section_display": true,
   "toc_window_display": true
  },
  "varInspector": {
   "cols": {
    "lenName": 16,
    "lenType": 16,
    "lenVar": 40
   },
   "kernels_config": {
    "python": {
     "delete_cmd_postfix": "",
     "delete_cmd_prefix": "del ",
     "library": "var_list.py",
     "varRefreshCmd": "print(var_dic_list())"
    },
    "r": {
     "delete_cmd_postfix": ") ",
     "delete_cmd_prefix": "rm(",
     "library": "var_list.r",
     "varRefreshCmd": "cat(var_dic_list()) "
    }
   },
   "position": {
    "height": "358px",
    "left": "1210px",
    "right": "20px",
    "top": "158px",
    "width": "606px"
   },
   "types_to_exclude": [
    "module",
    "function",
    "builtin_function_or_method",
    "instance",
    "_Feature"
   ],
   "window_display": false
  }
 },
 "nbformat": 4,
 "nbformat_minor": 1
}
